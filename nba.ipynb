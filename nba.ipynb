{
 "cells": [
  {
   "cell_type": "markdown",
   "metadata": {},
   "source": [
    "# NBA Stats and NBA 2K Analysis\n",
    "William Yu\n",
    "\n",
    "<figure>\n",
    "    <img src=\"assets/1200x0.jpg\" alt=\"drawing\" width=\"350\"/>\n",
    "</figure>"
   ]
  },
  {
   "cell_type": "markdown",
   "metadata": {},
   "source": [
    "## Introduction"
   ]
  },
  {
   "cell_type": "markdown",
   "metadata": {},
   "source": [
    "Most basketball fans have heard of the game NBA 2K; hailed for its realistic graphics, gameplay, and attention to detail, there's no other basketball game quite like it. But how does the game compare to the real thing? More specifically, how does it capture the skill gap between NBA superstars and the 10-day contract players?\n",
    "\n",
    "The answer lies in NBA 2K's rating system. This system assigns a player (their counterpart in the game to be exact) a ranking ranging anywhere from 60 to the high 90's. You can have multiple players be assigned the same rank. With these ratings, you can expect the player with the higher rating to be the better player in the game. So you won't have Zylan Cheatham, who has a 67 rating, dominating Lebron James, who's a 97. \n",
    "\n",
    "Of course, we're only talking about overall rating for each player, and there are still areas in which a player with a lower rating than another might be better in one category. For instance, Giannis Antetokounmpo might have a higher rating than Steph Curry in NBA 2K21, but Curry's 3PT rating is much higher than Giannis'. For simplicity sake, we'll be sticking with **overall (OVR) rating**.\n",
    "\n",
    "<img src=\"assets/ratings.jpg\" alt=\"drawing\" width=\"800\"/>"
   ]
  },
  {
   "cell_type": "markdown",
   "metadata": {},
   "source": [
    "So, now that we've learned a bit about 2K's rating system, we can ask some questions: what are the key factors in deciding a basketball player's 2K rating? Is it just something that people plug into a model and get the rating back? Or is it more nuanced, and depends on context and player potential?\n",
    "\n",
    "Below you will find a short exploratory data analysis, as well as some data fitting and modeling on the dataset. I scraped from stats.nba.com and hoopshype.com to pull together the data. The scraper is available in this repository as the \"nba_scrape\" notebook.\n",
    "\n",
    "Let's get started."
   ]
  },
  {
   "cell_type": "markdown",
   "metadata": {},
   "source": [
    "## Load Data/EDA\n",
    "\n",
    "We can start by loading the data. \n",
    "\n",
    "NBA 2K, in anticipation of the new season, will release a new version of their game every fall. Not only does this allow 2K to keep up with any offseason roster changes, but it gives them a chance to update their ranking database. 2K does change their rankings quite a bit during the season however, as it does keep up with real life stats. But the rankings before the season serve as a prediction to how 2K thinks each player will perform.\n",
    "\n",
    "So what we're primarily interested in is how 2K generates **pre-season rankings**, and not so much how they change the rankings throughout the season. \n",
    "\n",
    "We'll pull the last 5 seasons of the NBA (2014-15 to 2019-20), and match them with the past 5 NBA 2K games. In the table below, you will see that the first 30 columns reflect the actual player and his stats in the NBA, and the last column, `rankings`, is their NBA 2K rating."
   ]
  },
  {
   "cell_type": "code",
   "execution_count": 1,
   "metadata": {},
   "outputs": [],
   "source": [
    "import pandas as pd\n",
    "import numpy as np\n",
    "import matplotlib.pyplot as plt"
   ]
  },
  {
   "cell_type": "code",
   "execution_count": 2,
   "metadata": {},
   "outputs": [
    {
     "data": {
      "text/html": [
       "<div>\n",
       "<style scoped>\n",
       "    .dataframe tbody tr th:only-of-type {\n",
       "        vertical-align: middle;\n",
       "    }\n",
       "\n",
       "    .dataframe tbody tr th {\n",
       "        vertical-align: top;\n",
       "    }\n",
       "\n",
       "    .dataframe thead th {\n",
       "        text-align: right;\n",
       "    }\n",
       "</style>\n",
       "<table border=\"1\" class=\"dataframe\">\n",
       "  <thead>\n",
       "    <tr style=\"text-align: right;\">\n",
       "      <th></th>\n",
       "      <th>PLAYER</th>\n",
       "      <th>TEAM</th>\n",
       "      <th>AGE</th>\n",
       "      <th>SEASON</th>\n",
       "      <th>GP</th>\n",
       "      <th>W</th>\n",
       "      <th>L</th>\n",
       "      <th>MIN</th>\n",
       "      <th>PTS</th>\n",
       "      <th>FGM</th>\n",
       "      <th>...</th>\n",
       "      <th>AST</th>\n",
       "      <th>TOV</th>\n",
       "      <th>STL</th>\n",
       "      <th>BLK</th>\n",
       "      <th>PF</th>\n",
       "      <th>FP</th>\n",
       "      <th>DD2</th>\n",
       "      <th>TD3</th>\n",
       "      <th>+/-</th>\n",
       "      <th>rankings</th>\n",
       "    </tr>\n",
       "  </thead>\n",
       "  <tbody>\n",
       "    <tr>\n",
       "      <th>0</th>\n",
       "      <td>Aaron Gordon</td>\n",
       "      <td>ORL</td>\n",
       "      <td>24</td>\n",
       "      <td>2019-20</td>\n",
       "      <td>62</td>\n",
       "      <td>30</td>\n",
       "      <td>32</td>\n",
       "      <td>32.5</td>\n",
       "      <td>14.4</td>\n",
       "      <td>5.4</td>\n",
       "      <td>...</td>\n",
       "      <td>3.7</td>\n",
       "      <td>1.6</td>\n",
       "      <td>0.8</td>\n",
       "      <td>0.6</td>\n",
       "      <td>2.0</td>\n",
       "      <td>31.9</td>\n",
       "      <td>20.0</td>\n",
       "      <td>1.0</td>\n",
       "      <td>-1.1</td>\n",
       "      <td>80.0</td>\n",
       "    </tr>\n",
       "    <tr>\n",
       "      <th>1</th>\n",
       "      <td>Aaron Holiday</td>\n",
       "      <td>IND</td>\n",
       "      <td>23</td>\n",
       "      <td>2019-20</td>\n",
       "      <td>66</td>\n",
       "      <td>42</td>\n",
       "      <td>24</td>\n",
       "      <td>24.5</td>\n",
       "      <td>9.5</td>\n",
       "      <td>3.5</td>\n",
       "      <td>...</td>\n",
       "      <td>3.4</td>\n",
       "      <td>1.3</td>\n",
       "      <td>0.8</td>\n",
       "      <td>0.2</td>\n",
       "      <td>1.8</td>\n",
       "      <td>19.3</td>\n",
       "      <td>3.0</td>\n",
       "      <td>0.0</td>\n",
       "      <td>1.7</td>\n",
       "      <td>76.0</td>\n",
       "    </tr>\n",
       "    <tr>\n",
       "      <th>2</th>\n",
       "      <td>Abdel Nader</td>\n",
       "      <td>OKC</td>\n",
       "      <td>26</td>\n",
       "      <td>2019-20</td>\n",
       "      <td>55</td>\n",
       "      <td>37</td>\n",
       "      <td>18</td>\n",
       "      <td>15.8</td>\n",
       "      <td>6.3</td>\n",
       "      <td>2.2</td>\n",
       "      <td>...</td>\n",
       "      <td>0.7</td>\n",
       "      <td>0.8</td>\n",
       "      <td>0.4</td>\n",
       "      <td>0.4</td>\n",
       "      <td>1.4</td>\n",
       "      <td>11.1</td>\n",
       "      <td>0.0</td>\n",
       "      <td>0.0</td>\n",
       "      <td>-1.5</td>\n",
       "      <td>71.0</td>\n",
       "    </tr>\n",
       "    <tr>\n",
       "      <th>3</th>\n",
       "      <td>Adam Mokoka</td>\n",
       "      <td>CHI</td>\n",
       "      <td>21</td>\n",
       "      <td>2019-20</td>\n",
       "      <td>11</td>\n",
       "      <td>3</td>\n",
       "      <td>8</td>\n",
       "      <td>10.2</td>\n",
       "      <td>2.9</td>\n",
       "      <td>1.1</td>\n",
       "      <td>...</td>\n",
       "      <td>0.4</td>\n",
       "      <td>0.2</td>\n",
       "      <td>0.4</td>\n",
       "      <td>0.0</td>\n",
       "      <td>1.5</td>\n",
       "      <td>5.5</td>\n",
       "      <td>0.0</td>\n",
       "      <td>0.0</td>\n",
       "      <td>4.5</td>\n",
       "      <td>68.0</td>\n",
       "    </tr>\n",
       "    <tr>\n",
       "      <th>4</th>\n",
       "      <td>Admiral Schofield</td>\n",
       "      <td>WAS</td>\n",
       "      <td>23</td>\n",
       "      <td>2019-20</td>\n",
       "      <td>33</td>\n",
       "      <td>9</td>\n",
       "      <td>24</td>\n",
       "      <td>11.2</td>\n",
       "      <td>3.0</td>\n",
       "      <td>1.1</td>\n",
       "      <td>...</td>\n",
       "      <td>0.5</td>\n",
       "      <td>0.2</td>\n",
       "      <td>0.2</td>\n",
       "      <td>0.1</td>\n",
       "      <td>1.5</td>\n",
       "      <td>6.3</td>\n",
       "      <td>0.0</td>\n",
       "      <td>0.0</td>\n",
       "      <td>-1.7</td>\n",
       "      <td>71.0</td>\n",
       "    </tr>\n",
       "  </tbody>\n",
       "</table>\n",
       "<p>5 rows × 31 columns</p>\n",
       "</div>"
      ],
      "text/plain": [
       "              PLAYER TEAM  AGE   SEASON  GP   W   L   MIN   PTS  FGM  ...  \\\n",
       "0       Aaron Gordon  ORL   24  2019-20  62  30  32  32.5  14.4  5.4  ...   \n",
       "1      Aaron Holiday  IND   23  2019-20  66  42  24  24.5   9.5  3.5  ...   \n",
       "2        Abdel Nader  OKC   26  2019-20  55  37  18  15.8   6.3  2.2  ...   \n",
       "3        Adam Mokoka  CHI   21  2019-20  11   3   8  10.2   2.9  1.1  ...   \n",
       "4  Admiral Schofield  WAS   23  2019-20  33   9  24  11.2   3.0  1.1  ...   \n",
       "\n",
       "   AST  TOV  STL  BLK   PF    FP   DD2  TD3  +/-  rankings  \n",
       "0  3.7  1.6  0.8  0.6  2.0  31.9  20.0  1.0 -1.1      80.0  \n",
       "1  3.4  1.3  0.8  0.2  1.8  19.3   3.0  0.0  1.7      76.0  \n",
       "2  0.7  0.8  0.4  0.4  1.4  11.1   0.0  0.0 -1.5      71.0  \n",
       "3  0.4  0.2  0.4  0.0  1.5   5.5   0.0  0.0  4.5      68.0  \n",
       "4  0.5  0.2  0.2  0.1  1.5   6.3   0.0  0.0 -1.7      71.0  \n",
       "\n",
       "[5 rows x 31 columns]"
      ]
     },
     "execution_count": 2,
     "metadata": {},
     "output_type": "execute_result"
    }
   ],
   "source": [
    "nba_df = pd.read_csv('/Users/williamyu/Documents/projects/nba/nba_rankings_2014-2020.csv')\n",
    "nba_df.drop(['Unnamed: 0'], axis=1, inplace=True)\n",
    "nba_df.head()"
   ]
  },
  {
   "cell_type": "markdown",
   "metadata": {},
   "source": [
    "After loading in the data, we can view the distribution of NBA 2K ratings, as well as look at the top rated players and the lowest rated players."
   ]
  },
  {
   "cell_type": "code",
   "execution_count": 3,
   "metadata": {},
   "outputs": [
    {
     "data": {
      "text/html": [
       "<div>\n",
       "<style scoped>\n",
       "    .dataframe tbody tr th:only-of-type {\n",
       "        vertical-align: middle;\n",
       "    }\n",
       "\n",
       "    .dataframe tbody tr th {\n",
       "        vertical-align: top;\n",
       "    }\n",
       "\n",
       "    .dataframe thead tr th {\n",
       "        text-align: left;\n",
       "    }\n",
       "\n",
       "    .dataframe thead tr:last-of-type th {\n",
       "        text-align: right;\n",
       "    }\n",
       "</style>\n",
       "<table border=\"1\" class=\"dataframe\">\n",
       "  <thead>\n",
       "    <tr>\n",
       "      <th></th>\n",
       "      <th colspan=\"2\" halign=\"left\">rankings</th>\n",
       "    </tr>\n",
       "    <tr>\n",
       "      <th></th>\n",
       "      <th>mean</th>\n",
       "      <th>std</th>\n",
       "    </tr>\n",
       "    <tr>\n",
       "      <th>SEASON</th>\n",
       "      <th></th>\n",
       "      <th></th>\n",
       "    </tr>\n",
       "  </thead>\n",
       "  <tbody>\n",
       "    <tr>\n",
       "      <th>2014-15</th>\n",
       "      <td>74.609290</td>\n",
       "      <td>5.657127</td>\n",
       "    </tr>\n",
       "    <tr>\n",
       "      <th>2015-16</th>\n",
       "      <td>75.725275</td>\n",
       "      <td>5.539373</td>\n",
       "    </tr>\n",
       "    <tr>\n",
       "      <th>2016-17</th>\n",
       "      <td>75.722646</td>\n",
       "      <td>5.842483</td>\n",
       "    </tr>\n",
       "    <tr>\n",
       "      <th>2017-18</th>\n",
       "      <td>75.904306</td>\n",
       "      <td>5.981621</td>\n",
       "    </tr>\n",
       "    <tr>\n",
       "      <th>2018-19</th>\n",
       "      <td>76.912088</td>\n",
       "      <td>5.782844</td>\n",
       "    </tr>\n",
       "    <tr>\n",
       "      <th>2019-20</th>\n",
       "      <td>75.207101</td>\n",
       "      <td>5.740649</td>\n",
       "    </tr>\n",
       "  </tbody>\n",
       "</table>\n",
       "</div>"
      ],
      "text/plain": [
       "          rankings          \n",
       "              mean       std\n",
       "SEASON                      \n",
       "2014-15  74.609290  5.657127\n",
       "2015-16  75.725275  5.539373\n",
       "2016-17  75.722646  5.842483\n",
       "2017-18  75.904306  5.981621\n",
       "2018-19  76.912088  5.782844\n",
       "2019-20  75.207101  5.740649"
      ]
     },
     "execution_count": 3,
     "metadata": {},
     "output_type": "execute_result"
    }
   ],
   "source": [
    "nba_df.groupby(['SEASON']).agg({'rankings': ['mean', 'std']})"
   ]
  },
  {
   "cell_type": "code",
   "execution_count": 4,
   "metadata": {},
   "outputs": [
    {
     "name": "stderr",
     "output_type": "stream",
     "text": [
      "/opt/anaconda3/lib/python3.8/site-packages/seaborn/distributions.py:2551: FutureWarning: `distplot` is a deprecated function and will be removed in a future version. Please adapt your code to use either `displot` (a figure-level function with similar flexibility) or `histplot` (an axes-level function for histograms).\n",
      "  warnings.warn(msg, FutureWarning)\n"
     ]
    },
    {
     "data": {
      "image/png": "[encoded data removed]",
      "text/plain": [
       "<Figure size 720x576 with 1 Axes>"
      ]
     },
     "metadata": {
      "needs_background": "light"
     },
     "output_type": "display_data"
    }
   ],
   "source": [
    "import seaborn as sns\n",
    "plt.figure(figsize=(10,8))\n",
    "sns.distplot(nba_df['rankings'], bins=20)\n",
    "plt.xlabel('Ratings')\n",
    "plt.ylabel('Frequency')\n",
    "plt.title('Distribution of 2K Ratings')\n",
    "plt.tight_layout()"
   ]
  },
  {
   "cell_type": "code",
   "execution_count": 5,
   "metadata": {},
   "outputs": [
    {
     "data": {
      "text/html": [
       "<div>\n",
       "<style scoped>\n",
       "    .dataframe tbody tr th:only-of-type {\n",
       "        vertical-align: middle;\n",
       "    }\n",
       "\n",
       "    .dataframe tbody tr th {\n",
       "        vertical-align: top;\n",
       "    }\n",
       "\n",
       "    .dataframe thead th {\n",
       "        text-align: right;\n",
       "    }\n",
       "</style>\n",
       "<table border=\"1\" class=\"dataframe\">\n",
       "  <thead>\n",
       "    <tr style=\"text-align: right;\">\n",
       "      <th></th>\n",
       "      <th>PLAYER</th>\n",
       "      <th>TEAM</th>\n",
       "      <th>AGE</th>\n",
       "      <th>SEASON</th>\n",
       "      <th>PTS</th>\n",
       "      <th>FG%</th>\n",
       "      <th>3P%</th>\n",
       "      <th>FT%</th>\n",
       "      <th>REB</th>\n",
       "      <th>AST</th>\n",
       "      <th>TOV</th>\n",
       "      <th>STL</th>\n",
       "      <th>BLK</th>\n",
       "      <th>PF</th>\n",
       "      <th>FP</th>\n",
       "      <th>DD2</th>\n",
       "      <th>TD3</th>\n",
       "      <th>+/-</th>\n",
       "      <th>rankings</th>\n",
       "    </tr>\n",
       "  </thead>\n",
       "  <tbody>\n",
       "    <tr>\n",
       "      <th>1130</th>\n",
       "      <td>LeBron James</td>\n",
       "      <td>CLE</td>\n",
       "      <td>33</td>\n",
       "      <td>2017-18</td>\n",
       "      <td>27.5</td>\n",
       "      <td>54.2</td>\n",
       "      <td>36.7</td>\n",
       "      <td>73.1</td>\n",
       "      <td>8.6</td>\n",
       "      <td>9.1</td>\n",
       "      <td>4.2</td>\n",
       "      <td>1.4</td>\n",
       "      <td>0.9</td>\n",
       "      <td>1.7</td>\n",
       "      <td>54.1</td>\n",
       "      <td>52.0</td>\n",
       "      <td>18.0</td>\n",
       "      <td>1.3</td>\n",
       "      <td>98.0</td>\n",
       "    </tr>\n",
       "    <tr>\n",
       "      <th>739</th>\n",
       "      <td>LeBron James</td>\n",
       "      <td>LAL</td>\n",
       "      <td>34</td>\n",
       "      <td>2018-19</td>\n",
       "      <td>27.4</td>\n",
       "      <td>51.0</td>\n",
       "      <td>33.9</td>\n",
       "      <td>66.5</td>\n",
       "      <td>8.5</td>\n",
       "      <td>8.3</td>\n",
       "      <td>3.6</td>\n",
       "      <td>1.3</td>\n",
       "      <td>0.6</td>\n",
       "      <td>1.7</td>\n",
       "      <td>52.0</td>\n",
       "      <td>32.0</td>\n",
       "      <td>8.0</td>\n",
       "      <td>2.1</td>\n",
       "      <td>97.0</td>\n",
       "    </tr>\n",
       "    <tr>\n",
       "      <th>316</th>\n",
       "      <td>LeBron James</td>\n",
       "      <td>LAL</td>\n",
       "      <td>35</td>\n",
       "      <td>2019-20</td>\n",
       "      <td>25.3</td>\n",
       "      <td>49.3</td>\n",
       "      <td>34.8</td>\n",
       "      <td>69.3</td>\n",
       "      <td>7.8</td>\n",
       "      <td>10.2</td>\n",
       "      <td>3.9</td>\n",
       "      <td>1.2</td>\n",
       "      <td>0.5</td>\n",
       "      <td>1.8</td>\n",
       "      <td>51.3</td>\n",
       "      <td>46.0</td>\n",
       "      <td>13.0</td>\n",
       "      <td>6.6</td>\n",
       "      <td>97.0</td>\n",
       "    </tr>\n",
       "    <tr>\n",
       "      <th>1109</th>\n",
       "      <td>Kevin Durant</td>\n",
       "      <td>GSW</td>\n",
       "      <td>29</td>\n",
       "      <td>2017-18</td>\n",
       "      <td>26.4</td>\n",
       "      <td>51.6</td>\n",
       "      <td>41.9</td>\n",
       "      <td>88.9</td>\n",
       "      <td>6.8</td>\n",
       "      <td>5.4</td>\n",
       "      <td>3.0</td>\n",
       "      <td>0.7</td>\n",
       "      <td>1.8</td>\n",
       "      <td>2.0</td>\n",
       "      <td>47.0</td>\n",
       "      <td>15.0</td>\n",
       "      <td>2.0</td>\n",
       "      <td>5.2</td>\n",
       "      <td>97.0</td>\n",
       "    </tr>\n",
       "    <tr>\n",
       "      <th>709</th>\n",
       "      <td>Kawhi Leonard</td>\n",
       "      <td>TOR</td>\n",
       "      <td>28</td>\n",
       "      <td>2018-19</td>\n",
       "      <td>26.6</td>\n",
       "      <td>49.6</td>\n",
       "      <td>37.1</td>\n",
       "      <td>85.4</td>\n",
       "      <td>7.3</td>\n",
       "      <td>3.3</td>\n",
       "      <td>2.0</td>\n",
       "      <td>1.8</td>\n",
       "      <td>0.4</td>\n",
       "      <td>1.5</td>\n",
       "      <td>44.8</td>\n",
       "      <td>14.0</td>\n",
       "      <td>0.0</td>\n",
       "      <td>5.9</td>\n",
       "      <td>97.0</td>\n",
       "    </tr>\n",
       "    <tr>\n",
       "      <th>...</th>\n",
       "      <td>...</td>\n",
       "      <td>...</td>\n",
       "      <td>...</td>\n",
       "      <td>...</td>\n",
       "      <td>...</td>\n",
       "      <td>...</td>\n",
       "      <td>...</td>\n",
       "      <td>...</td>\n",
       "      <td>...</td>\n",
       "      <td>...</td>\n",
       "      <td>...</td>\n",
       "      <td>...</td>\n",
       "      <td>...</td>\n",
       "      <td>...</td>\n",
       "      <td>...</td>\n",
       "      <td>...</td>\n",
       "      <td>...</td>\n",
       "      <td>...</td>\n",
       "      <td>...</td>\n",
       "    </tr>\n",
       "    <tr>\n",
       "      <th>1146</th>\n",
       "      <td>Marcus Georges-Hunt</td>\n",
       "      <td>MIN</td>\n",
       "      <td>24</td>\n",
       "      <td>2017-18</td>\n",
       "      <td>1.4</td>\n",
       "      <td>43.8</td>\n",
       "      <td>26.7</td>\n",
       "      <td>61.9</td>\n",
       "      <td>0.4</td>\n",
       "      <td>0.2</td>\n",
       "      <td>0.1</td>\n",
       "      <td>0.1</td>\n",
       "      <td>0.0</td>\n",
       "      <td>0.8</td>\n",
       "      <td>2.5</td>\n",
       "      <td>0.0</td>\n",
       "      <td>0.0</td>\n",
       "      <td>-0.8</td>\n",
       "      <td>65.0</td>\n",
       "    </tr>\n",
       "    <tr>\n",
       "      <th>1135</th>\n",
       "      <td>Luke Kornet</td>\n",
       "      <td>NYK</td>\n",
       "      <td>22</td>\n",
       "      <td>2017-18</td>\n",
       "      <td>6.7</td>\n",
       "      <td>39.2</td>\n",
       "      <td>35.4</td>\n",
       "      <td>72.7</td>\n",
       "      <td>3.2</td>\n",
       "      <td>1.3</td>\n",
       "      <td>0.6</td>\n",
       "      <td>0.3</td>\n",
       "      <td>0.8</td>\n",
       "      <td>1.4</td>\n",
       "      <td>15.2</td>\n",
       "      <td>1.0</td>\n",
       "      <td>0.0</td>\n",
       "      <td>-3.6</td>\n",
       "      <td>65.0</td>\n",
       "    </tr>\n",
       "    <tr>\n",
       "      <th>1593</th>\n",
       "      <td>RJ Hunter</td>\n",
       "      <td>CHI</td>\n",
       "      <td>23</td>\n",
       "      <td>2016-17</td>\n",
       "      <td>0.0</td>\n",
       "      <td>0.0</td>\n",
       "      <td>0.0</td>\n",
       "      <td>0.0</td>\n",
       "      <td>0.3</td>\n",
       "      <td>0.0</td>\n",
       "      <td>0.0</td>\n",
       "      <td>0.0</td>\n",
       "      <td>0.0</td>\n",
       "      <td>0.0</td>\n",
       "      <td>0.4</td>\n",
       "      <td>0.0</td>\n",
       "      <td>0.0</td>\n",
       "      <td>-3.3</td>\n",
       "      <td>65.0</td>\n",
       "    </tr>\n",
       "    <tr>\n",
       "      <th>2227</th>\n",
       "      <td>Johnny O'Bryant III</td>\n",
       "      <td>MIL</td>\n",
       "      <td>22</td>\n",
       "      <td>2014-15</td>\n",
       "      <td>2.9</td>\n",
       "      <td>36.7</td>\n",
       "      <td>0.0</td>\n",
       "      <td>44.4</td>\n",
       "      <td>1.9</td>\n",
       "      <td>0.5</td>\n",
       "      <td>0.7</td>\n",
       "      <td>0.1</td>\n",
       "      <td>0.1</td>\n",
       "      <td>1.3</td>\n",
       "      <td>6.0</td>\n",
       "      <td>0.0</td>\n",
       "      <td>0.0</td>\n",
       "      <td>-2.9</td>\n",
       "      <td>64.0</td>\n",
       "    </tr>\n",
       "    <tr>\n",
       "      <th>2355</th>\n",
       "      <td>Sean Kilpatrick</td>\n",
       "      <td>MIN</td>\n",
       "      <td>25</td>\n",
       "      <td>2014-15</td>\n",
       "      <td>5.5</td>\n",
       "      <td>35.0</td>\n",
       "      <td>30.8</td>\n",
       "      <td>100.0</td>\n",
       "      <td>1.5</td>\n",
       "      <td>1.0</td>\n",
       "      <td>0.5</td>\n",
       "      <td>0.8</td>\n",
       "      <td>0.0</td>\n",
       "      <td>0.8</td>\n",
       "      <td>10.6</td>\n",
       "      <td>0.0</td>\n",
       "      <td>0.0</td>\n",
       "      <td>4.3</td>\n",
       "      <td>62.0</td>\n",
       "    </tr>\n",
       "  </tbody>\n",
       "</table>\n",
       "<p>2412 rows × 19 columns</p>\n",
       "</div>"
      ],
      "text/plain": [
       "                   PLAYER TEAM  AGE   SEASON   PTS   FG%   3P%    FT%  REB  \\\n",
       "1130         LeBron James  CLE   33  2017-18  27.5  54.2  36.7   73.1  8.6   \n",
       "739          LeBron James  LAL   34  2018-19  27.4  51.0  33.9   66.5  8.5   \n",
       "316          LeBron James  LAL   35  2019-20  25.3  49.3  34.8   69.3  7.8   \n",
       "1109         Kevin Durant  GSW   29  2017-18  26.4  51.6  41.9   88.9  6.8   \n",
       "709         Kawhi Leonard  TOR   28  2018-19  26.6  49.6  37.1   85.4  7.3   \n",
       "...                   ...  ...  ...      ...   ...   ...   ...    ...  ...   \n",
       "1146  Marcus Georges-Hunt  MIN   24  2017-18   1.4  43.8  26.7   61.9  0.4   \n",
       "1135          Luke Kornet  NYK   22  2017-18   6.7  39.2  35.4   72.7  3.2   \n",
       "1593            RJ Hunter  CHI   23  2016-17   0.0   0.0   0.0    0.0  0.3   \n",
       "2227  Johnny O'Bryant III  MIL   22  2014-15   2.9  36.7   0.0   44.4  1.9   \n",
       "2355      Sean Kilpatrick  MIN   25  2014-15   5.5  35.0  30.8  100.0  1.5   \n",
       "\n",
       "       AST  TOV  STL  BLK   PF    FP   DD2   TD3  +/-  rankings  \n",
       "1130   9.1  4.2  1.4  0.9  1.7  54.1  52.0  18.0  1.3      98.0  \n",
       "739    8.3  3.6  1.3  0.6  1.7  52.0  32.0   8.0  2.1      97.0  \n",
       "316   10.2  3.9  1.2  0.5  1.8  51.3  46.0  13.0  6.6      97.0  \n",
       "1109   5.4  3.0  0.7  1.8  2.0  47.0  15.0   2.0  5.2      97.0  \n",
       "709    3.3  2.0  1.8  0.4  1.5  44.8  14.0   0.0  5.9      97.0  \n",
       "...    ...  ...  ...  ...  ...   ...   ...   ...  ...       ...  \n",
       "1146   0.2  0.1  0.1  0.0  0.8   2.5   0.0   0.0 -0.8      65.0  \n",
       "1135   1.3  0.6  0.3  0.8  1.4  15.2   1.0   0.0 -3.6      65.0  \n",
       "1593   0.0  0.0  0.0  0.0  0.0   0.4   0.0   0.0 -3.3      65.0  \n",
       "2227   0.5  0.7  0.1  0.1  1.3   6.0   0.0   0.0 -2.9      64.0  \n",
       "2355   1.0  0.5  0.8  0.0  0.8  10.6   0.0   0.0  4.3      62.0  \n",
       "\n",
       "[2412 rows x 19 columns]"
      ]
     },
     "execution_count": 5,
     "metadata": {},
     "output_type": "execute_result"
    }
   ],
   "source": [
    "nba_df.sort_values(by=['rankings'], ascending=False).loc[:, ['PLAYER', 'TEAM', 'AGE', 'SEASON', 'PTS', 'FG%','3P%',\n",
    "                                                             'FT%', 'REB', 'AST', 'TOV', 'STL', 'BLK', 'PF', 'FP',\n",
    "                                                             'DD2', 'TD3', '+/-', 'rankings']]"
   ]
  },
  {
   "cell_type": "markdown",
   "metadata": {},
   "source": [
    "We see that average NBA 2K rank is around 75-76, with the lowest rank being 62 with Sean Kilpatrick in 2K16 and the highest being 98 with Lebron in 2K19. The distribution does display a somewhat bell-shaped curve, so we can say that 2K does try to maintain a normal distribution."
   ]
  },
  {
   "cell_type": "markdown",
   "metadata": {},
   "source": [
    "Below, we see that LeBron James headlines the rankings leaderboards in every 2K game in the past five years; he's the top highest rated player in all five, with two ties in NBA 2K21 with Giannis and NBA 2K20 with Kawhi Leonard. "
   ]
  },
  {
   "cell_type": "code",
   "execution_count": 6,
   "metadata": {},
   "outputs": [
    {
     "data": {
      "text/html": [
       "<div>\n",
       "<style scoped>\n",
       "    .dataframe tbody tr th:only-of-type {\n",
       "        vertical-align: middle;\n",
       "    }\n",
       "\n",
       "    .dataframe tbody tr th {\n",
       "        vertical-align: top;\n",
       "    }\n",
       "\n",
       "    .dataframe thead th {\n",
       "        text-align: right;\n",
       "    }\n",
       "</style>\n",
       "<table border=\"1\" class=\"dataframe\">\n",
       "  <thead>\n",
       "    <tr style=\"text-align: right;\">\n",
       "      <th></th>\n",
       "      <th>PLAYER</th>\n",
       "      <th>TEAM</th>\n",
       "      <th>AGE</th>\n",
       "      <th>SEASON</th>\n",
       "      <th>GP</th>\n",
       "      <th>W</th>\n",
       "      <th>L</th>\n",
       "      <th>MIN</th>\n",
       "      <th>PTS</th>\n",
       "      <th>FGM</th>\n",
       "      <th>...</th>\n",
       "      <th>AST</th>\n",
       "      <th>TOV</th>\n",
       "      <th>STL</th>\n",
       "      <th>BLK</th>\n",
       "      <th>PF</th>\n",
       "      <th>FP</th>\n",
       "      <th>DD2</th>\n",
       "      <th>TD3</th>\n",
       "      <th>+/-</th>\n",
       "      <th>rankings</th>\n",
       "    </tr>\n",
       "  </thead>\n",
       "  <tbody>\n",
       "    <tr>\n",
       "      <th>2271</th>\n",
       "      <td>LeBron James</td>\n",
       "      <td>CLE</td>\n",
       "      <td>30</td>\n",
       "      <td>2014-15</td>\n",
       "      <td>69</td>\n",
       "      <td>50</td>\n",
       "      <td>19</td>\n",
       "      <td>36.1</td>\n",
       "      <td>25.3</td>\n",
       "      <td>9.0</td>\n",
       "      <td>...</td>\n",
       "      <td>7.4</td>\n",
       "      <td>3.9</td>\n",
       "      <td>1.6</td>\n",
       "      <td>0.7</td>\n",
       "      <td>2.0</td>\n",
       "      <td>46.5</td>\n",
       "      <td>22.0</td>\n",
       "      <td>2.0</td>\n",
       "      <td>7.8</td>\n",
       "      <td>94.0</td>\n",
       "    </tr>\n",
       "    <tr>\n",
       "      <th>1904</th>\n",
       "      <td>LeBron James</td>\n",
       "      <td>CLE</td>\n",
       "      <td>31</td>\n",
       "      <td>2015-16</td>\n",
       "      <td>76</td>\n",
       "      <td>56</td>\n",
       "      <td>20</td>\n",
       "      <td>35.6</td>\n",
       "      <td>25.3</td>\n",
       "      <td>9.7</td>\n",
       "      <td>...</td>\n",
       "      <td>6.8</td>\n",
       "      <td>3.3</td>\n",
       "      <td>1.4</td>\n",
       "      <td>0.6</td>\n",
       "      <td>1.9</td>\n",
       "      <td>47.1</td>\n",
       "      <td>28.0</td>\n",
       "      <td>3.0</td>\n",
       "      <td>8.1</td>\n",
       "      <td>96.0</td>\n",
       "    </tr>\n",
       "    <tr>\n",
       "      <th>1528</th>\n",
       "      <td>LeBron James</td>\n",
       "      <td>CLE</td>\n",
       "      <td>32</td>\n",
       "      <td>2016-17</td>\n",
       "      <td>74</td>\n",
       "      <td>51</td>\n",
       "      <td>23</td>\n",
       "      <td>37.8</td>\n",
       "      <td>26.4</td>\n",
       "      <td>9.9</td>\n",
       "      <td>...</td>\n",
       "      <td>8.7</td>\n",
       "      <td>4.1</td>\n",
       "      <td>1.2</td>\n",
       "      <td>0.6</td>\n",
       "      <td>1.8</td>\n",
       "      <td>51.3</td>\n",
       "      <td>42.0</td>\n",
       "      <td>13.0</td>\n",
       "      <td>6.5</td>\n",
       "      <td>97.0</td>\n",
       "    </tr>\n",
       "    <tr>\n",
       "      <th>1130</th>\n",
       "      <td>LeBron James</td>\n",
       "      <td>CLE</td>\n",
       "      <td>33</td>\n",
       "      <td>2017-18</td>\n",
       "      <td>82</td>\n",
       "      <td>50</td>\n",
       "      <td>32</td>\n",
       "      <td>36.9</td>\n",
       "      <td>27.5</td>\n",
       "      <td>10.5</td>\n",
       "      <td>...</td>\n",
       "      <td>9.1</td>\n",
       "      <td>4.2</td>\n",
       "      <td>1.4</td>\n",
       "      <td>0.9</td>\n",
       "      <td>1.7</td>\n",
       "      <td>54.1</td>\n",
       "      <td>52.0</td>\n",
       "      <td>18.0</td>\n",
       "      <td>1.3</td>\n",
       "      <td>98.0</td>\n",
       "    </tr>\n",
       "    <tr>\n",
       "      <th>709</th>\n",
       "      <td>Kawhi Leonard</td>\n",
       "      <td>TOR</td>\n",
       "      <td>28</td>\n",
       "      <td>2018-19</td>\n",
       "      <td>60</td>\n",
       "      <td>41</td>\n",
       "      <td>19</td>\n",
       "      <td>34.0</td>\n",
       "      <td>26.6</td>\n",
       "      <td>9.3</td>\n",
       "      <td>...</td>\n",
       "      <td>3.3</td>\n",
       "      <td>2.0</td>\n",
       "      <td>1.8</td>\n",
       "      <td>0.4</td>\n",
       "      <td>1.5</td>\n",
       "      <td>44.8</td>\n",
       "      <td>14.0</td>\n",
       "      <td>0.0</td>\n",
       "      <td>5.9</td>\n",
       "      <td>97.0</td>\n",
       "    </tr>\n",
       "    <tr>\n",
       "      <th>739</th>\n",
       "      <td>LeBron James</td>\n",
       "      <td>LAL</td>\n",
       "      <td>34</td>\n",
       "      <td>2018-19</td>\n",
       "      <td>55</td>\n",
       "      <td>28</td>\n",
       "      <td>27</td>\n",
       "      <td>35.2</td>\n",
       "      <td>27.4</td>\n",
       "      <td>10.1</td>\n",
       "      <td>...</td>\n",
       "      <td>8.3</td>\n",
       "      <td>3.6</td>\n",
       "      <td>1.3</td>\n",
       "      <td>0.6</td>\n",
       "      <td>1.7</td>\n",
       "      <td>52.0</td>\n",
       "      <td>32.0</td>\n",
       "      <td>8.0</td>\n",
       "      <td>2.1</td>\n",
       "      <td>97.0</td>\n",
       "    </tr>\n",
       "    <tr>\n",
       "      <th>173</th>\n",
       "      <td>Giannis Antetokounmpo</td>\n",
       "      <td>MIL</td>\n",
       "      <td>25</td>\n",
       "      <td>2019-20</td>\n",
       "      <td>63</td>\n",
       "      <td>51</td>\n",
       "      <td>12</td>\n",
       "      <td>30.4</td>\n",
       "      <td>29.5</td>\n",
       "      <td>10.9</td>\n",
       "      <td>...</td>\n",
       "      <td>5.6</td>\n",
       "      <td>3.7</td>\n",
       "      <td>1.0</td>\n",
       "      <td>1.0</td>\n",
       "      <td>3.1</td>\n",
       "      <td>56.6</td>\n",
       "      <td>56.0</td>\n",
       "      <td>4.0</td>\n",
       "      <td>10.8</td>\n",
       "      <td>97.0</td>\n",
       "    </tr>\n",
       "    <tr>\n",
       "      <th>316</th>\n",
       "      <td>LeBron James</td>\n",
       "      <td>LAL</td>\n",
       "      <td>35</td>\n",
       "      <td>2019-20</td>\n",
       "      <td>67</td>\n",
       "      <td>50</td>\n",
       "      <td>17</td>\n",
       "      <td>34.6</td>\n",
       "      <td>25.3</td>\n",
       "      <td>9.6</td>\n",
       "      <td>...</td>\n",
       "      <td>10.2</td>\n",
       "      <td>3.9</td>\n",
       "      <td>1.2</td>\n",
       "      <td>0.5</td>\n",
       "      <td>1.8</td>\n",
       "      <td>51.3</td>\n",
       "      <td>46.0</td>\n",
       "      <td>13.0</td>\n",
       "      <td>6.6</td>\n",
       "      <td>97.0</td>\n",
       "    </tr>\n",
       "  </tbody>\n",
       "</table>\n",
       "<p>8 rows × 31 columns</p>\n",
       "</div>"
      ],
      "text/plain": [
       "                     PLAYER TEAM AGE   SEASON  GP   W   L   MIN   PTS   FGM  \\\n",
       "2271           LeBron James  CLE  30  2014-15  69  50  19  36.1  25.3   9.0   \n",
       "1904           LeBron James  CLE  31  2015-16  76  56  20  35.6  25.3   9.7   \n",
       "1528           LeBron James  CLE  32  2016-17  74  51  23  37.8  26.4   9.9   \n",
       "1130           LeBron James  CLE  33  2017-18  82  50  32  36.9  27.5  10.5   \n",
       "709           Kawhi Leonard  TOR  28  2018-19  60  41  19  34.0  26.6   9.3   \n",
       "739            LeBron James  LAL  34  2018-19  55  28  27  35.2  27.4  10.1   \n",
       "173   Giannis Antetokounmpo  MIL  25  2019-20  63  51  12  30.4  29.5  10.9   \n",
       "316            LeBron James  LAL  35  2019-20  67  50  17  34.6  25.3   9.6   \n",
       "\n",
       "      ...   AST  TOV  STL  BLK   PF    FP   DD2   TD3   +/-  rankings  \n",
       "2271  ...   7.4  3.9  1.6  0.7  2.0  46.5  22.0   2.0   7.8      94.0  \n",
       "1904  ...   6.8  3.3  1.4  0.6  1.9  47.1  28.0   3.0   8.1      96.0  \n",
       "1528  ...   8.7  4.1  1.2  0.6  1.8  51.3  42.0  13.0   6.5      97.0  \n",
       "1130  ...   9.1  4.2  1.4  0.9  1.7  54.1  52.0  18.0   1.3      98.0  \n",
       "709   ...   3.3  2.0  1.8  0.4  1.5  44.8  14.0   0.0   5.9      97.0  \n",
       "739   ...   8.3  3.6  1.3  0.6  1.7  52.0  32.0   8.0   2.1      97.0  \n",
       "173   ...   5.6  3.7  1.0  1.0  3.1  56.6  56.0   4.0  10.8      97.0  \n",
       "316   ...  10.2  3.9  1.2  0.5  1.8  51.3  46.0  13.0   6.6      97.0  \n",
       "\n",
       "[8 rows x 31 columns]"
      ]
     },
     "execution_count": 6,
     "metadata": {},
     "output_type": "execute_result"
    }
   ],
   "source": [
    "years = ['2014-15', '2015-16', '2016-17', '2017-18', '2018-19', '2019-20']\n",
    "top_players = pd.DataFrame(columns=nba_df.columns)\n",
    "for year in years:\n",
    "    season = nba_df[nba_df['SEASON'] == year]\n",
    "    ranks = season[season['rankings'] == season['rankings'].max()]\n",
    "    top_players = top_players.append(ranks)\n",
    "top_players"
   ]
  },
  {
   "cell_type": "markdown",
   "metadata": {},
   "source": [
    "Now, what we really want to see is how these rankings reflect real life statistics. Does a player with a 98 OVR really have better IRL basketball stats than someone with a 95 OVR?\n",
    "\n",
    "Below you will see an interactive visualization of the rankings and their respective real life stats. We've taken the average of all players in each rank and reflected it in the visualization. There are no players ranked 63 OVR in the past 5 games hence why the graph is omitted when the slider is at 63. \n",
    "\n",
    "**Move the slider below the graph to see how NBA player stats change with the given rating**."
   ]
  },
  {
   "cell_type": "markdown",
   "metadata": {},
   "source": [
    "<iframe src=\"https://nba2k-stats.herokuapp.com/\" height=\"400\" width=\"100%\" frameBorder=\"0\"></iframe>"
   ]
  },
  {
   "cell_type": "code",
   "execution_count": 7,
   "metadata": {},
   "outputs": [
    {
     "data": {
      "application/vnd.jupyter.widget-view+json": {
       "model_id": "59450f2014fe49b7892adf60d6304946",
       "version_major": 2,
       "version_minor": 0
      },
      "text/plain": [
       "VBox(children=(FigureWidget({\n",
       "    'data': [{'alignmentgroup': 'True',\n",
       "              'hovertemplate': 'Stats=%{…"
      ]
     },
     "metadata": {},
     "output_type": "display_data"
    }
   ],
   "source": [
    "# used Dash instead and hosted on heroku\n",
    "# no workaround embedding ipywidgets into static html\n",
    "# below code just for reference\n",
    "import ipywidgets as widgets\n",
    "from ipywidgets import interactive, VBox, Layout\n",
    "import plotly.express as px\n",
    "import plotly.graph_objects as go\n",
    "from ipywidgets.embed import embed_minimal_html\n",
    "import plotly.io as pio\n",
    "pio.renderers.default = 'notebook'\n",
    "\n",
    "average = nba_df[nba_df['rankings'] == 75].loc[:, ['PTS', 'REB', 'AST','STL', 'BLK',  'TOV', '+/-']]\n",
    "fig = px.bar(x=['PTS', 'REB', 'AST', 'STL', 'BLK', 'TOV',  '+/-'], \n",
    "             y=average.mean(), title= 'Average NBA Stats for Given 2K Rating', text=average.mean(), \n",
    "             labels=dict(x=\"Stats\", y=\"Mean\"), width=1000, height=600 )  \n",
    "fig.update_yaxes(range=[-3.5, 32])\n",
    "fig.update_traces(texttemplate='%{text:.2s}', textposition='outside')\n",
    "f = go.FigureWidget(fig)\n",
    "\n",
    "def return_ave(ranking):\n",
    "    ave = nba_df[nba_df['rankings'] == ranking].loc[:, ['PTS', 'REB', 'AST', 'STL', 'BLK',  'TOV', '+/-']].mean()\n",
    "    f.data[0].y  = ave \n",
    "    f.update_traces(text = ave, texttemplate='%{text:.3g}', textposition='outside')\n",
    "\n",
    "slider = widgets.IntSlider(value=75, min=62, max=98, description='Ratings', \n",
    "                           layout=Layout(width='50%', height='80px'))\n",
    "w = widgets.interactive(return_ave, ranking=slider)\n",
    "vb = VBox((f, w))\n",
    "display(vb)"
   ]
  },
  {
   "cell_type": "markdown",
   "metadata": {},
   "source": [
    "We can plot a correlation matrix as well to look at bivariate correlations. It seems that a few features are highly correlated with one another."
   ]
  },
  {
   "cell_type": "code",
   "execution_count": 8,
   "metadata": {},
   "outputs": [
    {
     "data": {
      "text/html": [
       "<div>\n",
       "<style scoped>\n",
       "    .dataframe tbody tr th:only-of-type {\n",
       "        vertical-align: middle;\n",
       "    }\n",
       "\n",
       "    .dataframe tbody tr th {\n",
       "        vertical-align: top;\n",
       "    }\n",
       "\n",
       "    .dataframe thead th {\n",
       "        text-align: right;\n",
       "    }\n",
       "</style>\n",
       "<table border=\"1\" class=\"dataframe\">\n",
       "  <thead>\n",
       "    <tr style=\"text-align: right;\">\n",
       "      <th></th>\n",
       "      <th>AGE</th>\n",
       "      <th>GP</th>\n",
       "      <th>W</th>\n",
       "      <th>L</th>\n",
       "      <th>MIN</th>\n",
       "      <th>PTS</th>\n",
       "      <th>FGM</th>\n",
       "      <th>FGA</th>\n",
       "      <th>FG%</th>\n",
       "      <th>3PM</th>\n",
       "      <th>...</th>\n",
       "      <th>AST</th>\n",
       "      <th>TOV</th>\n",
       "      <th>STL</th>\n",
       "      <th>BLK</th>\n",
       "      <th>PF</th>\n",
       "      <th>FP</th>\n",
       "      <th>DD2</th>\n",
       "      <th>TD3</th>\n",
       "      <th>+/-</th>\n",
       "      <th>rankings</th>\n",
       "    </tr>\n",
       "  </thead>\n",
       "  <tbody>\n",
       "    <tr>\n",
       "      <th>AGE</th>\n",
       "      <td>1.000000</td>\n",
       "      <td>0.173402</td>\n",
       "      <td>0.251403</td>\n",
       "      <td>0.008028</td>\n",
       "      <td>0.169326</td>\n",
       "      <td>0.108170</td>\n",
       "      <td>0.098531</td>\n",
       "      <td>0.099760</td>\n",
       "      <td>0.052201</td>\n",
       "      <td>0.170643</td>\n",
       "      <td>...</td>\n",
       "      <td>0.143594</td>\n",
       "      <td>0.067864</td>\n",
       "      <td>0.083245</td>\n",
       "      <td>0.001881</td>\n",
       "      <td>0.077649</td>\n",
       "      <td>0.127207</td>\n",
       "      <td>0.031516</td>\n",
       "      <td>0.026833</td>\n",
       "      <td>0.200071</td>\n",
       "      <td>0.148941</td>\n",
       "    </tr>\n",
       "    <tr>\n",
       "      <th>GP</th>\n",
       "      <td>0.173402</td>\n",
       "      <td>1.000000</td>\n",
       "      <td>0.811006</td>\n",
       "      <td>0.758230</td>\n",
       "      <td>0.610115</td>\n",
       "      <td>0.458618</td>\n",
       "      <td>0.473570</td>\n",
       "      <td>0.455109</td>\n",
       "      <td>0.216202</td>\n",
       "      <td>0.314098</td>\n",
       "      <td>...</td>\n",
       "      <td>0.302519</td>\n",
       "      <td>0.365332</td>\n",
       "      <td>0.391920</td>\n",
       "      <td>0.263327</td>\n",
       "      <td>0.474151</td>\n",
       "      <td>0.497862</td>\n",
       "      <td>0.307070</td>\n",
       "      <td>0.100583</td>\n",
       "      <td>0.212770</td>\n",
       "      <td>0.462467</td>\n",
       "    </tr>\n",
       "    <tr>\n",
       "      <th>W</th>\n",
       "      <td>0.251403</td>\n",
       "      <td>0.811006</td>\n",
       "      <td>1.000000</td>\n",
       "      <td>0.233491</td>\n",
       "      <td>0.471632</td>\n",
       "      <td>0.387434</td>\n",
       "      <td>0.394201</td>\n",
       "      <td>0.360985</td>\n",
       "      <td>0.211641</td>\n",
       "      <td>0.292756</td>\n",
       "      <td>...</td>\n",
       "      <td>0.276663</td>\n",
       "      <td>0.275766</td>\n",
       "      <td>0.330111</td>\n",
       "      <td>0.231240</td>\n",
       "      <td>0.332626</td>\n",
       "      <td>0.423732</td>\n",
       "      <td>0.275515</td>\n",
       "      <td>0.131800</td>\n",
       "      <td>0.573225</td>\n",
       "      <td>0.484431</td>\n",
       "    </tr>\n",
       "    <tr>\n",
       "      <th>L</th>\n",
       "      <td>0.008028</td>\n",
       "      <td>0.758230</td>\n",
       "      <td>0.233491</td>\n",
       "      <td>1.000000</td>\n",
       "      <td>0.488434</td>\n",
       "      <td>0.330473</td>\n",
       "      <td>0.347781</td>\n",
       "      <td>0.354117</td>\n",
       "      <td>0.123476</td>\n",
       "      <td>0.195787</td>\n",
       "      <td>...</td>\n",
       "      <td>0.194477</td>\n",
       "      <td>0.299873</td>\n",
       "      <td>0.283500</td>\n",
       "      <td>0.179958</td>\n",
       "      <td>0.417370</td>\n",
       "      <td>0.355246</td>\n",
       "      <td>0.203320</td>\n",
       "      <td>0.020290</td>\n",
       "      <td>-0.285189</td>\n",
       "      <td>0.228773</td>\n",
       "    </tr>\n",
       "    <tr>\n",
       "      <th>MIN</th>\n",
       "      <td>0.169326</td>\n",
       "      <td>0.610115</td>\n",
       "      <td>0.471632</td>\n",
       "      <td>0.488434</td>\n",
       "      <td>1.000000</td>\n",
       "      <td>0.868578</td>\n",
       "      <td>0.871957</td>\n",
       "      <td>0.881507</td>\n",
       "      <td>0.147296</td>\n",
       "      <td>0.590929</td>\n",
       "      <td>...</td>\n",
       "      <td>0.653868</td>\n",
       "      <td>0.764620</td>\n",
       "      <td>0.722831</td>\n",
       "      <td>0.343542</td>\n",
       "      <td>0.691761</td>\n",
       "      <td>0.892243</td>\n",
       "      <td>0.472198</td>\n",
       "      <td>0.191849</td>\n",
       "      <td>0.235107</td>\n",
       "      <td>0.779156</td>\n",
       "    </tr>\n",
       "    <tr>\n",
       "      <th>PTS</th>\n",
       "      <td>0.108170</td>\n",
       "      <td>0.458618</td>\n",
       "      <td>0.387434</td>\n",
       "      <td>0.330473</td>\n",
       "      <td>0.868578</td>\n",
       "      <td>1.000000</td>\n",
       "      <td>0.987229</td>\n",
       "      <td>0.981449</td>\n",
       "      <td>0.174705</td>\n",
       "      <td>0.633581</td>\n",
       "      <td>...</td>\n",
       "      <td>0.672748</td>\n",
       "      <td>0.833446</td>\n",
       "      <td>0.634212</td>\n",
       "      <td>0.317887</td>\n",
       "      <td>0.551723</td>\n",
       "      <td>0.940458</td>\n",
       "      <td>0.545020</td>\n",
       "      <td>0.282556</td>\n",
       "      <td>0.287768</td>\n",
       "      <td>0.895012</td>\n",
       "    </tr>\n",
       "    <tr>\n",
       "      <th>FGM</th>\n",
       "      <td>0.098531</td>\n",
       "      <td>0.473570</td>\n",
       "      <td>0.394201</td>\n",
       "      <td>0.347781</td>\n",
       "      <td>0.871957</td>\n",
       "      <td>0.987229</td>\n",
       "      <td>1.000000</td>\n",
       "      <td>0.975969</td>\n",
       "      <td>0.232816</td>\n",
       "      <td>0.558285</td>\n",
       "      <td>...</td>\n",
       "      <td>0.649118</td>\n",
       "      <td>0.821579</td>\n",
       "      <td>0.623758</td>\n",
       "      <td>0.365415</td>\n",
       "      <td>0.575721</td>\n",
       "      <td>0.946452</td>\n",
       "      <td>0.575785</td>\n",
       "      <td>0.269953</td>\n",
       "      <td>0.274328</td>\n",
       "      <td>0.893610</td>\n",
       "    </tr>\n",
       "    <tr>\n",
       "      <th>FGA</th>\n",
       "      <td>0.099760</td>\n",
       "      <td>0.455109</td>\n",
       "      <td>0.360985</td>\n",
       "      <td>0.354117</td>\n",
       "      <td>0.881507</td>\n",
       "      <td>0.981449</td>\n",
       "      <td>0.975969</td>\n",
       "      <td>1.000000</td>\n",
       "      <td>0.071872</td>\n",
       "      <td>0.655034</td>\n",
       "      <td>...</td>\n",
       "      <td>0.691004</td>\n",
       "      <td>0.834736</td>\n",
       "      <td>0.650017</td>\n",
       "      <td>0.257583</td>\n",
       "      <td>0.537784</td>\n",
       "      <td>0.914512</td>\n",
       "      <td>0.487440</td>\n",
       "      <td>0.267373</td>\n",
       "      <td>0.231419</td>\n",
       "      <td>0.850169</td>\n",
       "    </tr>\n",
       "    <tr>\n",
       "      <th>FG%</th>\n",
       "      <td>0.052201</td>\n",
       "      <td>0.216202</td>\n",
       "      <td>0.211641</td>\n",
       "      <td>0.123476</td>\n",
       "      <td>0.147296</td>\n",
       "      <td>0.174705</td>\n",
       "      <td>0.232816</td>\n",
       "      <td>0.071872</td>\n",
       "      <td>1.000000</td>\n",
       "      <td>-0.191226</td>\n",
       "      <td>...</td>\n",
       "      <td>-0.022259</td>\n",
       "      <td>0.099206</td>\n",
       "      <td>0.022892</td>\n",
       "      <td>0.422141</td>\n",
       "      <td>0.306638</td>\n",
       "      <td>0.258470</td>\n",
       "      <td>0.285939</td>\n",
       "      <td>0.029176</td>\n",
       "      <td>0.157599</td>\n",
       "      <td>0.275127</td>\n",
       "    </tr>\n",
       "    <tr>\n",
       "      <th>3PM</th>\n",
       "      <td>0.170643</td>\n",
       "      <td>0.314098</td>\n",
       "      <td>0.292756</td>\n",
       "      <td>0.195787</td>\n",
       "      <td>0.590929</td>\n",
       "      <td>0.633581</td>\n",
       "      <td>0.558285</td>\n",
       "      <td>0.655034</td>\n",
       "      <td>-0.191226</td>\n",
       "      <td>1.000000</td>\n",
       "      <td>...</td>\n",
       "      <td>0.463895</td>\n",
       "      <td>0.444679</td>\n",
       "      <td>0.441468</td>\n",
       "      <td>-0.133097</td>\n",
       "      <td>0.227214</td>\n",
       "      <td>0.480291</td>\n",
       "      <td>0.016882</td>\n",
       "      <td>0.116763</td>\n",
       "      <td>0.257049</td>\n",
       "      <td>0.472170</td>\n",
       "    </tr>\n",
       "    <tr>\n",
       "      <th>3PA</th>\n",
       "      <td>0.152045</td>\n",
       "      <td>0.299687</td>\n",
       "      <td>0.266754</td>\n",
       "      <td>0.200813</td>\n",
       "      <td>0.598004</td>\n",
       "      <td>0.636192</td>\n",
       "      <td>0.558925</td>\n",
       "      <td>0.671217</td>\n",
       "      <td>-0.253394</td>\n",
       "      <td>0.983828</td>\n",
       "      <td>...</td>\n",
       "      <td>0.491855</td>\n",
       "      <td>0.472314</td>\n",
       "      <td>0.462696</td>\n",
       "      <td>-0.139891</td>\n",
       "      <td>0.231152</td>\n",
       "      <td>0.487501</td>\n",
       "      <td>0.023409</td>\n",
       "      <td>0.143424</td>\n",
       "      <td>0.219682</td>\n",
       "      <td>0.468651</td>\n",
       "    </tr>\n",
       "    <tr>\n",
       "      <th>3P%</th>\n",
       "      <td>0.087022</td>\n",
       "      <td>0.202940</td>\n",
       "      <td>0.197060</td>\n",
       "      <td>0.117683</td>\n",
       "      <td>0.278118</td>\n",
       "      <td>0.277191</td>\n",
       "      <td>0.239236</td>\n",
       "      <td>0.298941</td>\n",
       "      <td>-0.132903</td>\n",
       "      <td>0.552658</td>\n",
       "      <td>...</td>\n",
       "      <td>0.239393</td>\n",
       "      <td>0.163580</td>\n",
       "      <td>0.208022</td>\n",
       "      <td>-0.198517</td>\n",
       "      <td>0.036092</td>\n",
       "      <td>0.169283</td>\n",
       "      <td>-0.083420</td>\n",
       "      <td>0.017942</td>\n",
       "      <td>0.140074</td>\n",
       "      <td>0.162020</td>\n",
       "    </tr>\n",
       "    <tr>\n",
       "      <th>FTM</th>\n",
       "      <td>0.063202</td>\n",
       "      <td>0.329349</td>\n",
       "      <td>0.281045</td>\n",
       "      <td>0.234185</td>\n",
       "      <td>0.707384</td>\n",
       "      <td>0.893801</td>\n",
       "      <td>0.842975</td>\n",
       "      <td>0.836406</td>\n",
       "      <td>0.141548</td>\n",
       "      <td>0.430615</td>\n",
       "      <td>...</td>\n",
       "      <td>0.627133</td>\n",
       "      <td>0.796995</td>\n",
       "      <td>0.551917</td>\n",
       "      <td>0.316049</td>\n",
       "      <td>0.465639</td>\n",
       "      <td>0.851423</td>\n",
       "      <td>0.558841</td>\n",
       "      <td>0.316057</td>\n",
       "      <td>0.244927</td>\n",
       "      <td>0.823049</td>\n",
       "    </tr>\n",
       "    <tr>\n",
       "      <th>FTA</th>\n",
       "      <td>0.037983</td>\n",
       "      <td>0.334961</td>\n",
       "      <td>0.279833</td>\n",
       "      <td>0.244864</td>\n",
       "      <td>0.709014</td>\n",
       "      <td>0.876159</td>\n",
       "      <td>0.838939</td>\n",
       "      <td>0.815172</td>\n",
       "      <td>0.197295</td>\n",
       "      <td>0.352555</td>\n",
       "      <td>...</td>\n",
       "      <td>0.602550</td>\n",
       "      <td>0.802267</td>\n",
       "      <td>0.552938</td>\n",
       "      <td>0.391705</td>\n",
       "      <td>0.508058</td>\n",
       "      <td>0.865595</td>\n",
       "      <td>0.626340</td>\n",
       "      <td>0.330637</td>\n",
       "      <td>0.234978</td>\n",
       "      <td>0.826292</td>\n",
       "    </tr>\n",
       "    <tr>\n",
       "      <th>FT%</th>\n",
       "      <td>0.158752</td>\n",
       "      <td>0.370214</td>\n",
       "      <td>0.287866</td>\n",
       "      <td>0.294503</td>\n",
       "      <td>0.379705</td>\n",
       "      <td>0.369814</td>\n",
       "      <td>0.331359</td>\n",
       "      <td>0.371635</td>\n",
       "      <td>-0.016938</td>\n",
       "      <td>0.401914</td>\n",
       "      <td>...</td>\n",
       "      <td>0.265456</td>\n",
       "      <td>0.255683</td>\n",
       "      <td>0.243672</td>\n",
       "      <td>-0.029785</td>\n",
       "      <td>0.207537</td>\n",
       "      <td>0.298164</td>\n",
       "      <td>0.029278</td>\n",
       "      <td>0.023307</td>\n",
       "      <td>0.111048</td>\n",
       "      <td>0.285309</td>\n",
       "    </tr>\n",
       "    <tr>\n",
       "      <th>OREB</th>\n",
       "      <td>0.003590</td>\n",
       "      <td>0.277140</td>\n",
       "      <td>0.198111</td>\n",
       "      <td>0.239837</td>\n",
       "      <td>0.351432</td>\n",
       "      <td>0.300043</td>\n",
       "      <td>0.371696</td>\n",
       "      <td>0.239414</td>\n",
       "      <td>0.514296</td>\n",
       "      <td>-0.274424</td>\n",
       "      <td>...</td>\n",
       "      <td>-0.005655</td>\n",
       "      <td>0.263592</td>\n",
       "      <td>0.161969</td>\n",
       "      <td>0.680060</td>\n",
       "      <td>0.548282</td>\n",
       "      <td>0.490856</td>\n",
       "      <td>0.671931</td>\n",
       "      <td>0.096741</td>\n",
       "      <td>0.104593</td>\n",
       "      <td>0.415368</td>\n",
       "    </tr>\n",
       "    <tr>\n",
       "      <th>DREB</th>\n",
       "      <td>0.119344</td>\n",
       "      <td>0.429845</td>\n",
       "      <td>0.351847</td>\n",
       "      <td>0.322310</td>\n",
       "      <td>0.678236</td>\n",
       "      <td>0.646062</td>\n",
       "      <td>0.681362</td>\n",
       "      <td>0.601267</td>\n",
       "      <td>0.358145</td>\n",
       "      <td>0.148216</td>\n",
       "      <td>...</td>\n",
       "      <td>0.341392</td>\n",
       "      <td>0.586497</td>\n",
       "      <td>0.443022</td>\n",
       "      <td>0.658483</td>\n",
       "      <td>0.669398</td>\n",
       "      <td>0.808509</td>\n",
       "      <td>0.802295</td>\n",
       "      <td>0.272738</td>\n",
       "      <td>0.247456</td>\n",
       "      <td>0.711797</td>\n",
       "    </tr>\n",
       "    <tr>\n",
       "      <th>REB</th>\n",
       "      <td>0.088700</td>\n",
       "      <td>0.406006</td>\n",
       "      <td>0.323114</td>\n",
       "      <td>0.314709</td>\n",
       "      <td>0.613108</td>\n",
       "      <td>0.572994</td>\n",
       "      <td>0.621978</td>\n",
       "      <td>0.520396</td>\n",
       "      <td>0.429654</td>\n",
       "      <td>0.021061</td>\n",
       "      <td>...</td>\n",
       "      <td>0.249960</td>\n",
       "      <td>0.517190</td>\n",
       "      <td>0.379052</td>\n",
       "      <td>0.704105</td>\n",
       "      <td>0.669727</td>\n",
       "      <td>0.754189</td>\n",
       "      <td>0.807787</td>\n",
       "      <td>0.231754</td>\n",
       "      <td>0.216233</td>\n",
       "      <td>0.658942</td>\n",
       "    </tr>\n",
       "    <tr>\n",
       "      <th>AST</th>\n",
       "      <td>0.143594</td>\n",
       "      <td>0.302519</td>\n",
       "      <td>0.276663</td>\n",
       "      <td>0.194477</td>\n",
       "      <td>0.653868</td>\n",
       "      <td>0.672748</td>\n",
       "      <td>0.649118</td>\n",
       "      <td>0.691004</td>\n",
       "      <td>-0.022259</td>\n",
       "      <td>0.463895</td>\n",
       "      <td>...</td>\n",
       "      <td>1.000000</td>\n",
       "      <td>0.835920</td>\n",
       "      <td>0.667481</td>\n",
       "      <td>0.018939</td>\n",
       "      <td>0.355574</td>\n",
       "      <td>0.717725</td>\n",
       "      <td>0.392052</td>\n",
       "      <td>0.429150</td>\n",
       "      <td>0.239268</td>\n",
       "      <td>0.644888</td>\n",
       "    </tr>\n",
       "    <tr>\n",
       "      <th>TOV</th>\n",
       "      <td>0.067864</td>\n",
       "      <td>0.365332</td>\n",
       "      <td>0.275766</td>\n",
       "      <td>0.299873</td>\n",
       "      <td>0.764620</td>\n",
       "      <td>0.833446</td>\n",
       "      <td>0.821579</td>\n",
       "      <td>0.834736</td>\n",
       "      <td>0.099206</td>\n",
       "      <td>0.444679</td>\n",
       "      <td>...</td>\n",
       "      <td>0.835920</td>\n",
       "      <td>1.000000</td>\n",
       "      <td>0.665022</td>\n",
       "      <td>0.260080</td>\n",
       "      <td>0.572556</td>\n",
       "      <td>0.857434</td>\n",
       "      <td>0.558483</td>\n",
       "      <td>0.409694</td>\n",
       "      <td>0.159022</td>\n",
       "      <td>0.770919</td>\n",
       "    </tr>\n",
       "    <tr>\n",
       "      <th>STL</th>\n",
       "      <td>0.083245</td>\n",
       "      <td>0.391920</td>\n",
       "      <td>0.330111</td>\n",
       "      <td>0.283500</td>\n",
       "      <td>0.722831</td>\n",
       "      <td>0.634212</td>\n",
       "      <td>0.623758</td>\n",
       "      <td>0.650017</td>\n",
       "      <td>0.022892</td>\n",
       "      <td>0.441468</td>\n",
       "      <td>...</td>\n",
       "      <td>0.667481</td>\n",
       "      <td>0.665022</td>\n",
       "      <td>1.000000</td>\n",
       "      <td>0.194417</td>\n",
       "      <td>0.498847</td>\n",
       "      <td>0.720567</td>\n",
       "      <td>0.347671</td>\n",
       "      <td>0.243556</td>\n",
       "      <td>0.260584</td>\n",
       "      <td>0.621920</td>\n",
       "    </tr>\n",
       "    <tr>\n",
       "      <th>BLK</th>\n",
       "      <td>0.001881</td>\n",
       "      <td>0.263327</td>\n",
       "      <td>0.231240</td>\n",
       "      <td>0.179958</td>\n",
       "      <td>0.343542</td>\n",
       "      <td>0.317887</td>\n",
       "      <td>0.365415</td>\n",
       "      <td>0.257583</td>\n",
       "      <td>0.422141</td>\n",
       "      <td>-0.133097</td>\n",
       "      <td>...</td>\n",
       "      <td>0.018939</td>\n",
       "      <td>0.260080</td>\n",
       "      <td>0.194417</td>\n",
       "      <td>1.000000</td>\n",
       "      <td>0.519836</td>\n",
       "      <td>0.503155</td>\n",
       "      <td>0.548834</td>\n",
       "      <td>0.058805</td>\n",
       "      <td>0.170444</td>\n",
       "      <td>0.445766</td>\n",
       "    </tr>\n",
       "    <tr>\n",
       "      <th>PF</th>\n",
       "      <td>0.077649</td>\n",
       "      <td>0.474151</td>\n",
       "      <td>0.332626</td>\n",
       "      <td>0.417370</td>\n",
       "      <td>0.691761</td>\n",
       "      <td>0.551723</td>\n",
       "      <td>0.575721</td>\n",
       "      <td>0.537784</td>\n",
       "      <td>0.306638</td>\n",
       "      <td>0.227214</td>\n",
       "      <td>...</td>\n",
       "      <td>0.355574</td>\n",
       "      <td>0.572556</td>\n",
       "      <td>0.498847</td>\n",
       "      <td>0.519836</td>\n",
       "      <td>1.000000</td>\n",
       "      <td>0.664622</td>\n",
       "      <td>0.444460</td>\n",
       "      <td>0.130353</td>\n",
       "      <td>0.124329</td>\n",
       "      <td>0.542647</td>\n",
       "    </tr>\n",
       "    <tr>\n",
       "      <th>FP</th>\n",
       "      <td>0.127207</td>\n",
       "      <td>0.497862</td>\n",
       "      <td>0.423732</td>\n",
       "      <td>0.355246</td>\n",
       "      <td>0.892243</td>\n",
       "      <td>0.940458</td>\n",
       "      <td>0.946452</td>\n",
       "      <td>0.914512</td>\n",
       "      <td>0.258470</td>\n",
       "      <td>0.480291</td>\n",
       "      <td>...</td>\n",
       "      <td>0.717725</td>\n",
       "      <td>0.857434</td>\n",
       "      <td>0.720567</td>\n",
       "      <td>0.503155</td>\n",
       "      <td>0.664622</td>\n",
       "      <td>1.000000</td>\n",
       "      <td>0.695416</td>\n",
       "      <td>0.336651</td>\n",
       "      <td>0.321276</td>\n",
       "      <td>0.917277</td>\n",
       "    </tr>\n",
       "    <tr>\n",
       "      <th>DD2</th>\n",
       "      <td>0.031516</td>\n",
       "      <td>0.307070</td>\n",
       "      <td>0.275515</td>\n",
       "      <td>0.203320</td>\n",
       "      <td>0.472198</td>\n",
       "      <td>0.545020</td>\n",
       "      <td>0.575785</td>\n",
       "      <td>0.487440</td>\n",
       "      <td>0.285939</td>\n",
       "      <td>0.016882</td>\n",
       "      <td>...</td>\n",
       "      <td>0.392052</td>\n",
       "      <td>0.558483</td>\n",
       "      <td>0.347671</td>\n",
       "      <td>0.548834</td>\n",
       "      <td>0.444460</td>\n",
       "      <td>0.695416</td>\n",
       "      <td>1.000000</td>\n",
       "      <td>0.430518</td>\n",
       "      <td>0.239373</td>\n",
       "      <td>0.633636</td>\n",
       "    </tr>\n",
       "    <tr>\n",
       "      <th>TD3</th>\n",
       "      <td>0.026833</td>\n",
       "      <td>0.100583</td>\n",
       "      <td>0.131800</td>\n",
       "      <td>0.020290</td>\n",
       "      <td>0.191849</td>\n",
       "      <td>0.282556</td>\n",
       "      <td>0.269953</td>\n",
       "      <td>0.267373</td>\n",
       "      <td>0.029176</td>\n",
       "      <td>0.116763</td>\n",
       "      <td>...</td>\n",
       "      <td>0.429150</td>\n",
       "      <td>0.409694</td>\n",
       "      <td>0.243556</td>\n",
       "      <td>0.058805</td>\n",
       "      <td>0.130353</td>\n",
       "      <td>0.336651</td>\n",
       "      <td>0.430518</td>\n",
       "      <td>1.000000</td>\n",
       "      <td>0.152949</td>\n",
       "      <td>0.316337</td>\n",
       "    </tr>\n",
       "    <tr>\n",
       "      <th>+/-</th>\n",
       "      <td>0.200071</td>\n",
       "      <td>0.212770</td>\n",
       "      <td>0.573225</td>\n",
       "      <td>-0.285189</td>\n",
       "      <td>0.235107</td>\n",
       "      <td>0.287768</td>\n",
       "      <td>0.274328</td>\n",
       "      <td>0.231419</td>\n",
       "      <td>0.157599</td>\n",
       "      <td>0.257049</td>\n",
       "      <td>...</td>\n",
       "      <td>0.239268</td>\n",
       "      <td>0.159022</td>\n",
       "      <td>0.260584</td>\n",
       "      <td>0.170444</td>\n",
       "      <td>0.124329</td>\n",
       "      <td>0.321276</td>\n",
       "      <td>0.239373</td>\n",
       "      <td>0.152949</td>\n",
       "      <td>1.000000</td>\n",
       "      <td>0.414420</td>\n",
       "    </tr>\n",
       "    <tr>\n",
       "      <th>rankings</th>\n",
       "      <td>0.148941</td>\n",
       "      <td>0.462467</td>\n",
       "      <td>0.484431</td>\n",
       "      <td>0.228773</td>\n",
       "      <td>0.779156</td>\n",
       "      <td>0.895012</td>\n",
       "      <td>0.893610</td>\n",
       "      <td>0.850169</td>\n",
       "      <td>0.275127</td>\n",
       "      <td>0.472170</td>\n",
       "      <td>...</td>\n",
       "      <td>0.644888</td>\n",
       "      <td>0.770919</td>\n",
       "      <td>0.621920</td>\n",
       "      <td>0.445766</td>\n",
       "      <td>0.542647</td>\n",
       "      <td>0.917277</td>\n",
       "      <td>0.633636</td>\n",
       "      <td>0.316337</td>\n",
       "      <td>0.414420</td>\n",
       "      <td>1.000000</td>\n",
       "    </tr>\n",
       "  </tbody>\n",
       "</table>\n",
       "<p>28 rows × 28 columns</p>\n",
       "</div>"
      ],
      "text/plain": [
       "               AGE        GP         W         L       MIN       PTS  \\\n",
       "AGE       1.000000  0.173402  0.251403  0.008028  0.169326  0.108170   \n",
       "GP        0.173402  1.000000  0.811006  0.758230  0.610115  0.458618   \n",
       "W         0.251403  0.811006  1.000000  0.233491  0.471632  0.387434   \n",
       "L         0.008028  0.758230  0.233491  1.000000  0.488434  0.330473   \n",
       "MIN       0.169326  0.610115  0.471632  0.488434  1.000000  0.868578   \n",
       "PTS       0.108170  0.458618  0.387434  0.330473  0.868578  1.000000   \n",
       "FGM       0.098531  0.473570  0.394201  0.347781  0.871957  0.987229   \n",
       "FGA       0.099760  0.455109  0.360985  0.354117  0.881507  0.981449   \n",
       "FG%       0.052201  0.216202  0.211641  0.123476  0.147296  0.174705   \n",
       "3PM       0.170643  0.314098  0.292756  0.195787  0.590929  0.633581   \n",
       "3PA       0.152045  0.299687  0.266754  0.200813  0.598004  0.636192   \n",
       "3P%       0.087022  0.202940  0.197060  0.117683  0.278118  0.277191   \n",
       "FTM       0.063202  0.329349  0.281045  0.234185  0.707384  0.893801   \n",
       "FTA       0.037983  0.334961  0.279833  0.244864  0.709014  0.876159   \n",
       "FT%       0.158752  0.370214  0.287866  0.294503  0.379705  0.369814   \n",
       "OREB      0.003590  0.277140  0.198111  0.239837  0.351432  0.300043   \n",
       "DREB      0.119344  0.429845  0.351847  0.322310  0.678236  0.646062   \n",
       "REB       0.088700  0.406006  0.323114  0.314709  0.613108  0.572994   \n",
       "AST       0.143594  0.302519  0.276663  0.194477  0.653868  0.672748   \n",
       "TOV       0.067864  0.365332  0.275766  0.299873  0.764620  0.833446   \n",
       "STL       0.083245  0.391920  0.330111  0.283500  0.722831  0.634212   \n",
       "BLK       0.001881  0.263327  0.231240  0.179958  0.343542  0.317887   \n",
       "PF        0.077649  0.474151  0.332626  0.417370  0.691761  0.551723   \n",
       "FP        0.127207  0.497862  0.423732  0.355246  0.892243  0.940458   \n",
       "DD2       0.031516  0.307070  0.275515  0.203320  0.472198  0.545020   \n",
       "TD3       0.026833  0.100583  0.131800  0.020290  0.191849  0.282556   \n",
       "+/-       0.200071  0.212770  0.573225 -0.285189  0.235107  0.287768   \n",
       "rankings  0.148941  0.462467  0.484431  0.228773  0.779156  0.895012   \n",
       "\n",
       "               FGM       FGA       FG%       3PM  ...       AST       TOV  \\\n",
       "AGE       0.098531  0.099760  0.052201  0.170643  ...  0.143594  0.067864   \n",
       "GP        0.473570  0.455109  0.216202  0.314098  ...  0.302519  0.365332   \n",
       "W         0.394201  0.360985  0.211641  0.292756  ...  0.276663  0.275766   \n",
       "L         0.347781  0.354117  0.123476  0.195787  ...  0.194477  0.299873   \n",
       "MIN       0.871957  0.881507  0.147296  0.590929  ...  0.653868  0.764620   \n",
       "PTS       0.987229  0.981449  0.174705  0.633581  ...  0.672748  0.833446   \n",
       "FGM       1.000000  0.975969  0.232816  0.558285  ...  0.649118  0.821579   \n",
       "FGA       0.975969  1.000000  0.071872  0.655034  ...  0.691004  0.834736   \n",
       "FG%       0.232816  0.071872  1.000000 -0.191226  ... -0.022259  0.099206   \n",
       "3PM       0.558285  0.655034 -0.191226  1.000000  ...  0.463895  0.444679   \n",
       "3PA       0.558925  0.671217 -0.253394  0.983828  ...  0.491855  0.472314   \n",
       "3P%       0.239236  0.298941 -0.132903  0.552658  ...  0.239393  0.163580   \n",
       "FTM       0.842975  0.836406  0.141548  0.430615  ...  0.627133  0.796995   \n",
       "FTA       0.838939  0.815172  0.197295  0.352555  ...  0.602550  0.802267   \n",
       "FT%       0.331359  0.371635 -0.016938  0.401914  ...  0.265456  0.255683   \n",
       "OREB      0.371696  0.239414  0.514296 -0.274424  ... -0.005655  0.263592   \n",
       "DREB      0.681362  0.601267  0.358145  0.148216  ...  0.341392  0.586497   \n",
       "REB       0.621978  0.520396  0.429654  0.021061  ...  0.249960  0.517190   \n",
       "AST       0.649118  0.691004 -0.022259  0.463895  ...  1.000000  0.835920   \n",
       "TOV       0.821579  0.834736  0.099206  0.444679  ...  0.835920  1.000000   \n",
       "STL       0.623758  0.650017  0.022892  0.441468  ...  0.667481  0.665022   \n",
       "BLK       0.365415  0.257583  0.422141 -0.133097  ...  0.018939  0.260080   \n",
       "PF        0.575721  0.537784  0.306638  0.227214  ...  0.355574  0.572556   \n",
       "FP        0.946452  0.914512  0.258470  0.480291  ...  0.717725  0.857434   \n",
       "DD2       0.575785  0.487440  0.285939  0.016882  ...  0.392052  0.558483   \n",
       "TD3       0.269953  0.267373  0.029176  0.116763  ...  0.429150  0.409694   \n",
       "+/-       0.274328  0.231419  0.157599  0.257049  ...  0.239268  0.159022   \n",
       "rankings  0.893610  0.850169  0.275127  0.472170  ...  0.644888  0.770919   \n",
       "\n",
       "               STL       BLK        PF        FP       DD2       TD3  \\\n",
       "AGE       0.083245  0.001881  0.077649  0.127207  0.031516  0.026833   \n",
       "GP        0.391920  0.263327  0.474151  0.497862  0.307070  0.100583   \n",
       "W         0.330111  0.231240  0.332626  0.423732  0.275515  0.131800   \n",
       "L         0.283500  0.179958  0.417370  0.355246  0.203320  0.020290   \n",
       "MIN       0.722831  0.343542  0.691761  0.892243  0.472198  0.191849   \n",
       "PTS       0.634212  0.317887  0.551723  0.940458  0.545020  0.282556   \n",
       "FGM       0.623758  0.365415  0.575721  0.946452  0.575785  0.269953   \n",
       "FGA       0.650017  0.257583  0.537784  0.914512  0.487440  0.267373   \n",
       "FG%       0.022892  0.422141  0.306638  0.258470  0.285939  0.029176   \n",
       "3PM       0.441468 -0.133097  0.227214  0.480291  0.016882  0.116763   \n",
       "3PA       0.462696 -0.139891  0.231152  0.487501  0.023409  0.143424   \n",
       "3P%       0.208022 -0.198517  0.036092  0.169283 -0.083420  0.017942   \n",
       "FTM       0.551917  0.316049  0.465639  0.851423  0.558841  0.316057   \n",
       "FTA       0.552938  0.391705  0.508058  0.865595  0.626340  0.330637   \n",
       "FT%       0.243672 -0.029785  0.207537  0.298164  0.029278  0.023307   \n",
       "OREB      0.161969  0.680060  0.548282  0.490856  0.671931  0.096741   \n",
       "DREB      0.443022  0.658483  0.669398  0.808509  0.802295  0.272738   \n",
       "REB       0.379052  0.704105  0.669727  0.754189  0.807787  0.231754   \n",
       "AST       0.667481  0.018939  0.355574  0.717725  0.392052  0.429150   \n",
       "TOV       0.665022  0.260080  0.572556  0.857434  0.558483  0.409694   \n",
       "STL       1.000000  0.194417  0.498847  0.720567  0.347671  0.243556   \n",
       "BLK       0.194417  1.000000  0.519836  0.503155  0.548834  0.058805   \n",
       "PF        0.498847  0.519836  1.000000  0.664622  0.444460  0.130353   \n",
       "FP        0.720567  0.503155  0.664622  1.000000  0.695416  0.336651   \n",
       "DD2       0.347671  0.548834  0.444460  0.695416  1.000000  0.430518   \n",
       "TD3       0.243556  0.058805  0.130353  0.336651  0.430518  1.000000   \n",
       "+/-       0.260584  0.170444  0.124329  0.321276  0.239373  0.152949   \n",
       "rankings  0.621920  0.445766  0.542647  0.917277  0.633636  0.316337   \n",
       "\n",
       "               +/-  rankings  \n",
       "AGE       0.200071  0.148941  \n",
       "GP        0.212770  0.462467  \n",
       "W         0.573225  0.484431  \n",
       "L        -0.285189  0.228773  \n",
       "MIN       0.235107  0.779156  \n",
       "PTS       0.287768  0.895012  \n",
       "FGM       0.274328  0.893610  \n",
       "FGA       0.231419  0.850169  \n",
       "FG%       0.157599  0.275127  \n",
       "3PM       0.257049  0.472170  \n",
       "3PA       0.219682  0.468651  \n",
       "3P%       0.140074  0.162020  \n",
       "FTM       0.244927  0.823049  \n",
       "FTA       0.234978  0.826292  \n",
       "FT%       0.111048  0.285309  \n",
       "OREB      0.104593  0.415368  \n",
       "DREB      0.247456  0.711797  \n",
       "REB       0.216233  0.658942  \n",
       "AST       0.239268  0.644888  \n",
       "TOV       0.159022  0.770919  \n",
       "STL       0.260584  0.621920  \n",
       "BLK       0.170444  0.445766  \n",
       "PF        0.124329  0.542647  \n",
       "FP        0.321276  0.917277  \n",
       "DD2       0.239373  0.633636  \n",
       "TD3       0.152949  0.316337  \n",
       "+/-       1.000000  0.414420  \n",
       "rankings  0.414420  1.000000  \n",
       "\n",
       "[28 rows x 28 columns]"
      ]
     },
     "execution_count": 8,
     "metadata": {},
     "output_type": "execute_result"
    }
   ],
   "source": [
    "nba_df.corr()"
   ]
  },
  {
   "cell_type": "markdown",
   "metadata": {},
   "source": [
    "We can see a general linear trend between player statistics and player ratings. However, once we get to the higher ranks, these rankings seem to be a little bit more arbitray. \n",
    "\n",
    "LeBron was the highest rated player with a rating 98, but his production did not match other high ranking players. Players who were ranked 96 had a much higher PTS average, and players who were ranked 97 had a higher rebound average. The last column, `+/-`, is a metric used to indicate a player's impact on the game. A negative plus-minus shows that a player has an adverse impact on the game when he's on the floor, and ad positive means the opposite. More about that here: (https://www.basketball-reference.com/about/bpm2.html). \n",
    "\n",
    "LeBron's `+/-` is significantly lower than any of the high rated players, with only a +1.30. A value of +1.30 means the team is only 1.30 points per 100 possessions better than the other team on the floor. These aren't production numbers you would expect from a player with such a high ranking.\n",
    "\n",
    "But we would be remiss in our analysis if we did not take into account that LeBron is the sole player representing the 98 rating. We mustn't make the mistake of comparing averages to a single year production. However, if we were to compare averages, it seems that even the 96 OVR players have higher statistical production than the 97 OVR players! \n",
    "\n",
    "It seems that the difference between these one or two rating points lie not within statistics but in context; LeBron was the cover athlete for 2K19, and perhaps 2K felt the need to boost his ranking a little bit more to push their cover athlete forward. Or LeBron might've gotten the nod due to his renown as a clutch performer."
   ]
  },
  {
   "cell_type": "markdown",
   "metadata": {},
   "source": [
    "## Modeling"
   ]
  },
  {
   "cell_type": "markdown",
   "metadata": {},
   "source": [
    "Now we can move on to some modeling. We want to see what are the key metrics 2K uses to weigh their ratings. Although 2K has admitted that it's somewhat of a plug and chug model (see here: https://hoopshype.com/2017/08/20/nba-2k-ratings-how-they-are-determined-and-why-players-care-so-much-about-them/), they also do look at film to determine a player's contribution on the floor. \n",
    "\n",
    "Now of course 2K doesn't directly pull from NBA stats to make their ratings, they first encode the stats into individual ratings for each category, then run their model to get the OVR rating. But this rating encoding should still correspond to the actual stats. If you want to take a look at how 2K determines rankings from their own categories, I recommend this really informative Reddit post: https://www.reddit.com/r/NBA2k/comments/5zl48j/the_secrets_of_overall/ . \n"
   ]
  },
  {
   "cell_type": "code",
   "execution_count": 9,
   "metadata": {},
   "outputs": [],
   "source": [
    "from sklearn.pipeline import make_pipeline\n",
    "from sklearn.preprocessing import StandardScaler\n",
    "from sklearn.feature_selection import RFECV\n",
    "from sklearn.model_selection import train_test_split, GridSearchCV, KFold, RandomizedSearchCV\n",
    "from sklearn.linear_model import LinearRegression\n",
    "from sklearn.ensemble import GradientBoostingRegressor\n",
    "from xgboost import XGBRegressor"
   ]
  },
  {
   "cell_type": "code",
   "execution_count": 10,
   "metadata": {},
   "outputs": [],
   "source": [
    "X = nba_df.drop(['PLAYER', 'TEAM', 'SEASON', 'rankings', 'FP'], axis=1)\n",
    "y = nba_df['rankings']"
   ]
  },
  {
   "cell_type": "code",
   "execution_count": 11,
   "metadata": {},
   "outputs": [],
   "source": [
    "X_train, X_test, y_train, y_test = train_test_split(X, y, random_state=0)"
   ]
  },
  {
   "cell_type": "markdown",
   "metadata": {},
   "source": [
    "We can start by using Recursive Feature Elimination (RFE), which will find the optimal number of features by iteratively testing each combination of features. RFE will start by selecting all the features in the dataset, then iteratively remove the weakest feature in terms of the model's feature importances. RFE is a wrapper feature selection method, meaning we can choose a model we would like to use to evaluate the feature importances. We use Gradient Boosting, as we will use this for modeling. Feature importance here is calculated by weight, or the number of times the feature has been used as a split point for all the trees. RFECV uses RFE with cross validation, which will fit n models for the n features in our model, for each of k splits. Whichever of the n models has the best average performance over the k splits, we will use that model with those features."
   ]
  },
  {
   "cell_type": "code",
   "execution_count": 12,
   "metadata": {},
   "outputs": [
    {
     "name": "stdout",
     "output_type": "stream",
     "text": [
      "Number of Features Selected from RFECV: 18\n"
     ]
    },
    {
     "data": {
      "image/png": "[encoded data removed]",
      "text/plain": [
       "<Figure size 432x288 with 1 Axes>"
      ]
     },
     "metadata": {
      "needs_background": "light"
     },
     "output_type": "display_data"
    }
   ],
   "source": [
    "rfe = RFECV(GradientBoostingRegressor(random_state=0, max_depth=3, subsample=0.8), cv=KFold(10), scoring='r2')\n",
    "rfe.fit(X_train, y_train)\n",
    "print('Number of Features Selected from RFECV:',  rfe.n_features_)\n",
    "plt.plot(range(1, len(rfe.grid_scores_) + 1), rfe.grid_scores_)\n",
    "plt.ylabel('R2')\n",
    "plt.xlabel('# of Features')\n",
    "plt.title('RFECV Gradient Boosting')\n",
    "plt.tight_layout()"
   ]
  },
  {
   "cell_type": "markdown",
   "metadata": {},
   "source": [
    "RFECV returned us 18 optimal features, and we can see in our graph that adding more features will not give us any improvement in R<sup>2</sup>. Perhaps we could have done less than 18 features as well, as the R<sup>2</sup> does not seem to be increasing past 15 features. "
   ]
  },
  {
   "cell_type": "code",
   "execution_count": 13,
   "metadata": {},
   "outputs": [
    {
     "name": "stdout",
     "output_type": "stream",
     "text": [
      "0.9873139256347453\n"
     ]
    }
   ],
   "source": [
    "# subset feature set to RFE features\n",
    "X_train = X_train.loc[:, rfe.support_]\n",
    "X_test = X_test.loc[:, rfe.support_]\n",
    "# drop FGM\n",
    "X_train.drop(['FGM'], axis=1, inplace=True)\n",
    "X_test.drop(['FGM'], axis=1, inplace=True)\n",
    "# X_train.drop(['PTS'], axis=1, inplace=True)\n",
    "# X_test.drop(['PTS'], axis=1, inplace=True)\n",
    "# X_train, X_test, y_train, y_test = train_test_split(X_subset, y, random_state=0)"
   ]
  },
  {
   "cell_type": "markdown",
   "metadata": {},
   "source": [
    "After retrieving the optimal features, we can run a RandomizedSearch on our model (XGBRegressor) to tune the optimal hyperparameters to achieve the best R<sup>2</sup>. RandomizedSearch acts similarly to GridSearch, but reduces much of the search space by sampling random parameter combinations through a uniform distribution."
   ]
  },
  {
   "cell_type": "code",
   "execution_count": 14,
   "metadata": {},
   "outputs": [
    {
     "name": "stdout",
     "output_type": "stream",
     "text": [
      "XGB best params:  {'subsample': 0.6, 'min_child_weight': 7, 'max_depth': 3, 'learning_rate': 0.15, 'gamma': 0.0, 'colsample_bytree': 0.6}\n",
      "R2:  0.8793814361505035\n"
     ]
    }
   ],
   "source": [
    "xgb_param_grid = {\"learning_rate\": [0.05, 0.10, 0.15, 0.20, 0.25, 0.30 ] ,\n",
    "                  \"max_depth\": [ 3, 4, 5, 6, 8, 10, 12, 15],\n",
    "                  \"min_child_weight\": [ 1, 3, 5, 7 ], 'subsample': [0.6, 0.7, 0.8, 0.9],\n",
    "                  'colsample_bytree': [0.3, 0.4, 0.5, 0.6, 0.7, 0.8],\n",
    "                  \"gamma\": [ 0.0, 0.1, 0.2 , 0.3, 0.4 ]}\n",
    "xgb_pipe = (XGBRegressor(random_state=0))\n",
    "xgb_grid = RandomizedSearchCV(xgb_pipe, xgb_param_grid, scoring='r2')\n",
    "xgb_grid.fit(X_train, y_train)\n",
    "print('XGB best params: ', xgb_grid.best_params_)\n",
    "print('R2: ', xgb_grid.score(X_test, y_test))\n",
    "y_pred_xgb = xgb_grid.predict(X_test)"
   ]
  },
  {
   "cell_type": "markdown",
   "metadata": {},
   "source": [
    "We can then look at what our model determines as the most important features. `PTS`, `FTA`, `MIN`, `DREB` seem to be the most important."
   ]
  },
  {
   "cell_type": "code",
   "execution_count": 15,
   "metadata": {},
   "outputs": [
    {
     "data": {
      "image/png": "[encoded data removed]",
      "text/plain": [
       "<Figure size 720x576 with 1 Axes>"
      ]
     },
     "metadata": {
      "needs_background": "light"
     },
     "output_type": "display_data"
    }
   ],
   "source": [
    "series = pd.Series(xgb_grid.best_estimator_.feature_importances_, X_train.columns)\n",
    "series.sort_values(ascending=False, inplace=True)\n",
    "plt.figure(figsize=(10,8))\n",
    "plt.barh(series.index, series.values)\n",
    "plt.xlabel('Feature Importances')\n",
    "plt.ylabel('Features')\n",
    "plt.title('Feature Importaces for XGBRegressor')\n",
    "plt.tight_layout()"
   ]
  },
  {
   "cell_type": "markdown",
   "metadata": {},
   "source": [
    "But there are a lot of things inherently wrong with the base feature importance in gradient boosting. Let's look at permutation importances as well, which will permute one feature at a time (keeping distribution the same but just interchange rows) and see the impact it has on the model. We see that the feature importance disparity becomes even more apparent, with `PTS` being the most important feature by far."
   ]
  },
  {
   "cell_type": "code",
   "execution_count": 16,
   "metadata": {},
   "outputs": [
    {
     "data": {
      "image/png": "[encoded data removed]",
      "text/plain": [
       "<Figure size 720x576 with 1 Axes>"
      ]
     },
     "metadata": {
      "needs_background": "light"
     },
     "output_type": "display_data"
    }
   ],
   "source": [
    "from sklearn.inspection import permutation_importance\n",
    "series = pd.Series(permutation_importance(xgb_grid, X_train, y_train).importances_mean\n",
    ", X_train.columns)\n",
    "series.sort_values(ascending=False, inplace=True)\n",
    "plt.figure(figsize=(10,8))\n",
    "plt.barh(series.index, series.values)\n",
    "plt.xlabel('Permutation Importances')\n",
    "plt.ylabel('Features')\n",
    "plt.title('Permutation Importaces for XGBRegressor')\n",
    "plt.tight_layout()"
   ]
  },
  {
   "cell_type": "markdown",
   "metadata": {},
   "source": [
    "We can also look at SHAP values, which are feature importance values derived from game theory. SHAP differs in that it offers not only feature importances, but the magnitude of those importances. In the graph below, the location of the feature on the y-axis indicates the ranking of the feature. The higher, the better. The color indicates whether that value was high or not. The location of data on x-axis shows whether the effect of that value is associated with a higher or lower prediction. For instance, a high value for `PTS` has an impact on a higher rating (positively correlated). Whereas the feature `L` is negatively correlated.\n"
   ]
  },
  {
   "cell_type": "code",
   "execution_count": 17,
   "metadata": {},
   "outputs": [
    {
     "data": {
      "image/png": "[encoded data removed]",
      "text/plain": [
       "<Figure size 576x597.6 with 2 Axes>"
      ]
     },
     "metadata": {
      "needs_background": "light"
     },
     "output_type": "display_data"
    }
   ],
   "source": [
    "import shap\n",
    "explainer = shap.TreeExplainer(xgb_grid.best_estimator_)\n",
    "shap_values = explainer.shap_values(X_train)\n",
    "shap.summary_plot(shap_values, features=X_train, feature_names=X_train.columns, max_display=X_train.shape[1])"
   ]
  },
  {
   "cell_type": "markdown",
   "metadata": {},
   "source": [
    "We again see that `PTS` is the most important feature, where a high value for `PTS` corresponds with a high value for rating. This makes sense with what we saw with the slider, but as mentioned, becomes quite arbitrary once we get to the high 90 OVR ratings."
   ]
  },
  {
   "cell_type": "markdown",
   "metadata": {},
   "source": [
    "Let's see how a linear model performs with these features. We can't use Linear Regression here however, unless we do something with the features, since there is multicollinearity involved. For that reason, let's try Ridge Regression.  We'll standardize the data and also grid search for the right value of `alpha`, which is the regularization parameter."
   ]
  },
  {
   "cell_type": "code",
   "execution_count": 18,
   "metadata": {},
   "outputs": [
    {
     "name": "stdout",
     "output_type": "stream",
     "text": [
      "Pipeline(steps=[('standardscaler', StandardScaler()),\n",
      "                ('ridge', Ridge(alpha=1))])\n"
     ]
    },
    {
     "data": {
      "text/plain": [
       "[('PTS', 4.269540200990293),\n",
       " ('MIN', -1.0988051431420693),\n",
       " ('REB', 0.8477624646979097),\n",
       " ('AST', 0.8113235426328108),\n",
       " ('W', 0.6172360717134812),\n",
       " ('BLK', 0.6068782867003417),\n",
       " ('STL', 0.501828921778371),\n",
       " ('L', -0.3929670544229175),\n",
       " ('DREB', 0.2556657269405643),\n",
       " ('+/-', 0.24822276815103697),\n",
       " ('PF', -0.22515387133069625),\n",
       " ('FG%', 0.20319818552970143),\n",
       " ('GP', 0.1741557541006462),\n",
       " ('AGE', 0.11890899519361083),\n",
       " ('3P%', -0.08425824220440144),\n",
       " ('DD2', -0.061884109637255505),\n",
       " ('FTA', 0.032747644796567194)]"
      ]
     },
     "execution_count": 18,
     "metadata": {},
     "output_type": "execute_result"
    }
   ],
   "source": [
    "# should have probably used R but I'm stubborn\n",
    "from sklearn import metrics\n",
    "from sklearn.linear_model import Ridge\n",
    "pipe = make_pipeline(StandardScaler(), Ridge())\n",
    "ridge_grid = {'ridge__alpha': [10, 5, 1,0.1,0.01,0.001,0.0001]}\n",
    "grid_ridge = GridSearchCV(pipe, ridge_grid, scoring='r2')\n",
    "grid_ridge.fit(X_train, y_train)\n",
    "print(grid_ridge.best_estimator_)\n",
    "y_pred = grid_ridge.predict(X_test)\n",
    "coef = zip(X_train.columns, grid_ridge.best_estimator_['ridge'].coef_)\n",
    "sorted(coef, key = lambda x: np.abs(x[1]), reverse=True)"
   ]
  },
  {
   "cell_type": "markdown",
   "metadata": {},
   "source": [
    "Let's compare the two approaches below. We see that Ridge seems to slightly outperform XGB here, which is quite suprising. Although this may be attributed to the number of randomized searches we performed. The difference is quite miniscule however."
   ]
  },
  {
   "cell_type": "code",
   "execution_count": 19,
   "metadata": {},
   "outputs": [
    {
     "data": {
      "text/html": [
       "<div>\n",
       "<style scoped>\n",
       "    .dataframe tbody tr th:only-of-type {\n",
       "        vertical-align: middle;\n",
       "    }\n",
       "\n",
       "    .dataframe tbody tr th {\n",
       "        vertical-align: top;\n",
       "    }\n",
       "\n",
       "    .dataframe thead th {\n",
       "        text-align: right;\n",
       "    }\n",
       "</style>\n",
       "<table border=\"1\" class=\"dataframe\">\n",
       "  <thead>\n",
       "    <tr style=\"text-align: right;\">\n",
       "      <th></th>\n",
       "      <th>model</th>\n",
       "      <th>r2</th>\n",
       "      <th>rmse</th>\n",
       "    </tr>\n",
       "  </thead>\n",
       "  <tbody>\n",
       "    <tr>\n",
       "      <th>0</th>\n",
       "      <td>xgb</td>\n",
       "      <td>0.879381</td>\n",
       "      <td>2.005755</td>\n",
       "    </tr>\n",
       "    <tr>\n",
       "      <th>1</th>\n",
       "      <td>ridge</td>\n",
       "      <td>0.885452</td>\n",
       "      <td>1.954632</td>\n",
       "    </tr>\n",
       "  </tbody>\n",
       "</table>\n",
       "</div>"
      ],
      "text/plain": [
       "   model        r2      rmse\n",
       "0    xgb  0.879381  2.005755\n",
       "1  ridge  0.885452  1.954632"
      ]
     },
     "execution_count": 19,
     "metadata": {},
     "output_type": "execute_result"
    }
   ],
   "source": [
    "xgb_r2 = metrics.r2_score(y_test, y_pred_xgb)\n",
    "ridge_r2 = metrics.r2_score(y_test, y_pred)\n",
    "xgb_rmse = np.sqrt(metrics.mean_squared_error(y_test, y_pred_xgb))\n",
    "ridge_rmse = np.sqrt(metrics.mean_squared_error(y_test, y_pred))\n",
    "pd.DataFrame({'model': ['xgb', 'ridge'], 'r2': [xgb_r2, ridge_r2], 'rmse':[xgb_rmse, ridge_rmse ]})"
   ]
  },
  {
   "cell_type": "markdown",
   "metadata": {},
   "source": [
    "We can actually try to get a more robust estimate of our predictions by aggregating the two model predictions:"
   ]
  },
  {
   "cell_type": "code",
   "execution_count": 20,
   "metadata": {},
   "outputs": [
    {
     "data": {
      "text/plain": [
       "1.9164441991560544"
      ]
     },
     "execution_count": 20,
     "metadata": {},
     "output_type": "execute_result"
    }
   ],
   "source": [
    "np.sqrt(metrics.mean_squared_error(y_test, (0.4*y_pred+0.6*y_pred_xgb)))"
   ]
  },
  {
   "cell_type": "code",
   "execution_count": 21,
   "metadata": {},
   "outputs": [
    {
     "name": "stdout",
     "output_type": "stream",
     "text": [
      "Mean Absolute Error (combining predictions):  1.4044744079411782\n"
     ]
    }
   ],
   "source": [
    "print('Mean Absolute Error (combining predictions): ', \n",
    "      metrics.mean_absolute_error(y_test, (0.6*y_pred+0.4*y_pred_xgb)))"
   ]
  },
  {
   "cell_type": "markdown",
   "metadata": {},
   "source": [
    "If we combine the two predictions, you can see that **our overall predictions are around the actual rankings, plus or minus 1.4.** \n",
    "\n",
    "That is, on average, our predictions will miss the true rating by plus-minus 1.4. Not bad!"
   ]
  },
  {
   "cell_type": "markdown",
   "metadata": {},
   "source": [
    "## Conclusion"
   ]
  },
  {
   "cell_type": "markdown",
   "metadata": {},
   "source": [
    "So we've learned a few things: NBA box scores and 2K rankings do seem to have a **positive correlation**. If a player is more productive on the court (in terms of stats), then we should expect that player to have a higher ranking. But once we progress into the higher ranking players, these ranking assignments become more or less arbitrary and may depend on looking at film. \n",
    "\n",
    "It seems that the model does tend to value offensive production a lot more. However, in the case of a player such as 'Rudy Gobert', the model still does seem to be able to predict his rating with suprising accuracy.\n",
    "\n",
    "We did try a model not including `PTS` (not included here), and the model performance is slightly worse, but does use other features to determine ratings. \n",
    "\n",
    "Stats that seem like they would be good predictors in rankings, such as **three point percentages, have almost no bearing on the result**. This backs up 2K's claim of not just looking at the whole picture. Quoted from Complex's interview with 2K, 2K stated: \n",
    "\n",
    "<em>\"If a player has a 37 percentage for his 3-point shot, we're interested in 'how',\" Stauffer said. \"Not every 3-point shot is the same. There's always a variable. For example, if Steph Curry has to run across the whole court through multiple screens to find an open 3—or has to shoot from far back to get open—does his percentage tell the whole story?\"</em>\n",
    "\n",
    "And this makes sense. Digging around, I managed to find that Joe Harris, whose career 3P% is on par with Steph Curry's, has not only a much lower OVR ranking than Curry, but also a much lower 3P shot ranking in 2K. Joe Harris shoots most of his three's wide open off screens, where Curry will usually see double teams everywhere he goes around the perimter."
   ]
  },
  {
   "cell_type": "markdown",
   "metadata": {},
   "source": [
    "This concludes the analysis in NBA 2K rankings. Thanks for reading!"
   ]
  },
  {
   "cell_type": "markdown",
   "metadata": {},
   "source": [
    "### Resources\n",
    "- https://www.complex.com/sports/2017/10/how-nba-2k-determines-player-rankings\n",
    "- https://www.basketball-reference.com/about/bpm2.html\n",
    "- https://hoopshype.com/2017/08/20/nba-2k-ratings-how-they-are-determined-and-why-players-care-so-much-about-them/\n",
    "- https://www.reddit.com/r/NBA2k/comments/5zl48j/the_secrets_of_overall/"
   ]
  }
 ],
 "metadata": {
  "kernelspec": {
   "display_name": "Python 3",
   "language": "python",
   "name": "python3"
  },
  "language_info": {
   "codemirror_mode": {
    "name": "ipython",
    "version": 3
   },
   "file_extension": ".py",
   "mimetype": "text/x-python",
   "name": "python",
   "nbconvert_exporter": "python",
   "pygments_lexer": "ipython3",
   "version": "3.8.5"
  },
  "widgets": {
   "application/vnd.jupyter.widget-state+json": {
    "state": {
     "1043d928352742f28a049594f5bd8464": {
      "model_module": "@jupyter-widgets/base",
      "model_module_version": "1.2.0",
      "model_name": "LayoutModel",
      "state": {
       "height": "80px",
       "width": "50%"
      }
     },
     "15630af1d5764e83bc269324564b78d3": {
      "model_module": "@jupyter-widgets/controls",
      "model_module_version": "1.5.0",
      "model_name": "IntSliderModel",
      "state": {
       "description": "Ratings",
       "layout": "IPY_MODEL_3d8f14986dd94595b46b2e09a5ba79db",
       "max": 98,
       "min": 62,
       "style": "IPY_MODEL_5668435424fd4546a838b42bc305aeb3",
       "value": 75
      }
     },
     "17b5a58589084d9b98e9a0e5f92c8bc2": {
      "model_module": "@jupyter-widgets/base",
      "model_module_version": "1.2.0",
      "model_name": "LayoutModel",
      "state": {}
     },
     "2ade60c86d024c41b1ab6d3d81d51365": {
      "model_module": "@jupyter-widgets/base",
      "model_module_version": "1.2.0",
      "model_name": "LayoutModel",
      "state": {}
     },
     "348d5c7a982343baab071b307b0b80f1": {
      "model_module": "@jupyter-widgets/controls",
      "model_module_version": "1.5.0",
      "model_name": "SliderStyleModel",
      "state": {
       "description_width": ""
      }
     },
     "35c64bc304de425d9fbcf49c48bb5c33": {
      "model_module": "@jupyter-widgets/controls",
      "model_module_version": "1.5.0",
      "model_name": "VBoxModel",
      "state": {
       "_dom_classes": [
        "widget-interact"
       ],
       "children": [
        "IPY_MODEL_b651d8c1d52e439ca70f8a276fb9b62a",
        "IPY_MODEL_9098cbf0f89741f78f19558604f164a5"
       ],
       "layout": "IPY_MODEL_fe73581aa84c4a048d066675580bf48e"
      }
     },
     "3d8f14986dd94595b46b2e09a5ba79db": {
      "model_module": "@jupyter-widgets/base",
      "model_module_version": "1.2.0",
      "model_name": "LayoutModel",
      "state": {
       "height": "80px",
       "width": "50%"
      }
     },
     "451d89792a6b4f6b8c628dfa4727ce64": {
      "model_module": "@jupyter-widgets/base",
      "model_module_version": "1.2.0",
      "model_name": "LayoutModel",
      "state": {}
     },
     "4c4282b65f7d45ecb31c2bfcfc6e7c99": {
      "model_module": "@jupyter-widgets/base",
      "model_module_version": "1.2.0",
      "model_name": "LayoutModel",
      "state": {
       "height": "80px",
       "width": "50%"
      }
     },
     "4eb0412d93d247799ad7099fcda0561a": {
      "model_module": "@jupyter-widgets/controls",
      "model_module_version": "1.5.0",
      "model_name": "VBoxModel",
      "state": {
       "children": [
        "IPY_MODEL_89cb061b93a646e6a850fb64721f9e40",
        "IPY_MODEL_a003de9dbbd544a8a1aa3b9bd7cd2f99"
       ],
       "layout": "IPY_MODEL_e6000c79b7e44d3ab2484f993de20d87"
      }
     },
     "50588ae0e12e42d09ed23ce0cd0c4399": {
      "model_module": "@jupyter-widgets/base",
      "model_module_version": "1.2.0",
      "model_name": "LayoutModel",
      "state": {}
     },
     "51e394f8dc4248b797b51878a61e23f3": {
      "buffers": [
       {
        "data": "2pN8H6vZIEAvzlmIQisOQE/bCcSsT/s/W6W8GY5f5T+I+ssRKYbaPyIhISEhIfE/siHzOFCt4b8=",
        "encoding": "base64",
        "path": [
         "_data",
         0,
         "text",
         "value"
        ]
       },
       {
        "data": "2pN8H6vZIEAvzlmIQisOQE/bCcSsT/s/W6W8GY5f5T+I+ssRKYbaPyIhISEhIfE/siHzOFCt4b8=",
        "encoding": "base64",
        "path": [
         "_data",
         0,
         "y",
         "value"
        ]
       }
      ],
      "model_module": "plotlywidget",
      "model_module_version": "1.5.0",
      "model_name": "FigureModel",
      "state": {
       "_config": {
        "plotlyServerURL": "https://plot.ly"
       },
       "_data": [
        {
         "alignmentgroup": "True",
         "hoverlabel": {
          "namelength": 0
         },
         "hovertemplate": "Stats=%{x}<br>Mean=%{y}<br>text=%{text}",
         "legendgroup": "",
         "marker": {
          "color": "#636efa"
         },
         "name": "",
         "offsetgroup": "",
         "orientation": "v",
         "showlegend": false,
         "text": {
          "dtype": "float64",
          "shape": [
           7
          ],
          "value": {}
         },
         "textposition": "outside",
         "texttemplate": "%{text:.3g}",
         "type": "bar",
         "uid": "2d5ba6c4-6636-42ab-8116-8073e2faabd3",
         "x": [
          "PTS",
          "REB",
          "AST",
          "STL",
          "BLK",
          "TOV",
          "+/-"
         ],
         "xaxis": "x",
         "y": {
          "dtype": "float64",
          "shape": [
           7
          ],
          "value": {}
         },
         "yaxis": "y"
        }
       ],
       "_js2py_pointsCallback": {},
       "_js2py_relayout": {},
       "_js2py_restyle": {},
       "_js2py_update": {},
       "_last_layout_edit_id": 1,
       "_last_trace_edit_id": 1,
       "_layout": {
        "barmode": "relative",
        "height": 600,
        "legend": {
         "tracegroupgap": 0
        },
        "template": {
         "data": {
          "bar": [
           {
            "error_x": {
             "color": "#2a3f5f"
            },
            "error_y": {
             "color": "#2a3f5f"
            },
            "marker": {
             "line": {
              "color": "#E5ECF6",
              "width": 0.5
             }
            },
            "type": "bar"
           }
          ],
          "barpolar": [
           {
            "marker": {
             "line": {
              "color": "#E5ECF6",
              "width": 0.5
             }
            },
            "type": "barpolar"
           }
          ],
          "carpet": [
           {
            "aaxis": {
             "endlinecolor": "#2a3f5f",
             "gridcolor": "white",
             "linecolor": "white",
             "minorgridcolor": "white",
             "startlinecolor": "#2a3f5f"
            },
            "baxis": {
             "endlinecolor": "#2a3f5f",
             "gridcolor": "white",
             "linecolor": "white",
             "minorgridcolor": "white",
             "startlinecolor": "#2a3f5f"
            },
            "type": "carpet"
           }
          ],
          "choropleth": [
           {
            "colorbar": {
             "outlinewidth": 0,
             "ticks": ""
            },
            "type": "choropleth"
           }
          ],
          "contour": [
           {
            "colorbar": {
             "outlinewidth": 0,
             "ticks": ""
            },
            "colorscale": [
             [
              0,
              "#0d0887"
             ],
             [
              0.1111111111111111,
              "#46039f"
             ],
             [
              0.2222222222222222,
              "#7201a8"
             ],
             [
              0.3333333333333333,
              "#9c179e"
             ],
             [
              0.4444444444444444,
              "#bd3786"
             ],
             [
              0.5555555555555556,
              "#d8576b"
             ],
             [
              0.6666666666666666,
              "#ed7953"
             ],
             [
              0.7777777777777778,
              "#fb9f3a"
             ],
             [
              0.8888888888888888,
              "#fdca26"
             ],
             [
              1,
              "#f0f921"
             ]
            ],
            "type": "contour"
           }
          ],
          "contourcarpet": [
           {
            "colorbar": {
             "outlinewidth": 0,
             "ticks": ""
            },
            "type": "contourcarpet"
           }
          ],
          "heatmap": [
           {
            "colorbar": {
             "outlinewidth": 0,
             "ticks": ""
            },
            "colorscale": [
             [
              0,
              "#0d0887"
             ],
             [
              0.1111111111111111,
              "#46039f"
             ],
             [
              0.2222222222222222,
              "#7201a8"
             ],
             [
              0.3333333333333333,
              "#9c179e"
             ],
             [
              0.4444444444444444,
              "#bd3786"
             ],
             [
              0.5555555555555556,
              "#d8576b"
             ],
             [
              0.6666666666666666,
              "#ed7953"
             ],
             [
              0.7777777777777778,
              "#fb9f3a"
             ],
             [
              0.8888888888888888,
              "#fdca26"
             ],
             [
              1,
              "#f0f921"
             ]
            ],
            "type": "heatmap"
           }
          ],
          "heatmapgl": [
           {
            "colorbar": {
             "outlinewidth": 0,
             "ticks": ""
            },
            "colorscale": [
             [
              0,
              "#0d0887"
             ],
             [
              0.1111111111111111,
              "#46039f"
             ],
             [
              0.2222222222222222,
              "#7201a8"
             ],
             [
              0.3333333333333333,
              "#9c179e"
             ],
             [
              0.4444444444444444,
              "#bd3786"
             ],
             [
              0.5555555555555556,
              "#d8576b"
             ],
             [
              0.6666666666666666,
              "#ed7953"
             ],
             [
              0.7777777777777778,
              "#fb9f3a"
             ],
             [
              0.8888888888888888,
              "#fdca26"
             ],
             [
              1,
              "#f0f921"
             ]
            ],
            "type": "heatmapgl"
           }
          ],
          "histogram": [
           {
            "marker": {
             "colorbar": {
              "outlinewidth": 0,
              "ticks": ""
             }
            },
            "type": "histogram"
           }
          ],
          "histogram2d": [
           {
            "colorbar": {
             "outlinewidth": 0,
             "ticks": ""
            },
            "colorscale": [
             [
              0,
              "#0d0887"
             ],
             [
              0.1111111111111111,
              "#46039f"
             ],
             [
              0.2222222222222222,
              "#7201a8"
             ],
             [
              0.3333333333333333,
              "#9c179e"
             ],
             [
              0.4444444444444444,
              "#bd3786"
             ],
             [
              0.5555555555555556,
              "#d8576b"
             ],
             [
              0.6666666666666666,
              "#ed7953"
             ],
             [
              0.7777777777777778,
              "#fb9f3a"
             ],
             [
              0.8888888888888888,
              "#fdca26"
             ],
             [
              1,
              "#f0f921"
             ]
            ],
            "type": "histogram2d"
           }
          ],
          "histogram2dcontour": [
           {
            "colorbar": {
             "outlinewidth": 0,
             "ticks": ""
            },
            "colorscale": [
             [
              0,
              "#0d0887"
             ],
             [
              0.1111111111111111,
              "#46039f"
             ],
             [
              0.2222222222222222,
              "#7201a8"
             ],
             [
              0.3333333333333333,
              "#9c179e"
             ],
             [
              0.4444444444444444,
              "#bd3786"
             ],
             [
              0.5555555555555556,
              "#d8576b"
             ],
             [
              0.6666666666666666,
              "#ed7953"
             ],
             [
              0.7777777777777778,
              "#fb9f3a"
             ],
             [
              0.8888888888888888,
              "#fdca26"
             ],
             [
              1,
              "#f0f921"
             ]
            ],
            "type": "histogram2dcontour"
           }
          ],
          "mesh3d": [
           {
            "colorbar": {
             "outlinewidth": 0,
             "ticks": ""
            },
            "type": "mesh3d"
           }
          ],
          "parcoords": [
           {
            "line": {
             "colorbar": {
              "outlinewidth": 0,
              "ticks": ""
             }
            },
            "type": "parcoords"
           }
          ],
          "pie": [
           {
            "automargin": true,
            "type": "pie"
           }
          ],
          "scatter": [
           {
            "marker": {
             "colorbar": {
              "outlinewidth": 0,
              "ticks": ""
             }
            },
            "type": "scatter"
           }
          ],
          "scatter3d": [
           {
            "line": {
             "colorbar": {
              "outlinewidth": 0,
              "ticks": ""
             }
            },
            "marker": {
             "colorbar": {
              "outlinewidth": 0,
              "ticks": ""
             }
            },
            "type": "scatter3d"
           }
          ],
          "scattercarpet": [
           {
            "marker": {
             "colorbar": {
              "outlinewidth": 0,
              "ticks": ""
             }
            },
            "type": "scattercarpet"
           }
          ],
          "scattergeo": [
           {
            "marker": {
             "colorbar": {
              "outlinewidth": 0,
              "ticks": ""
             }
            },
            "type": "scattergeo"
           }
          ],
          "scattergl": [
           {
            "marker": {
             "colorbar": {
              "outlinewidth": 0,
              "ticks": ""
             }
            },
            "type": "scattergl"
           }
          ],
          "scattermapbox": [
           {
            "marker": {
             "colorbar": {
              "outlinewidth": 0,
              "ticks": ""
             }
            },
            "type": "scattermapbox"
           }
          ],
          "scatterpolar": [
           {
            "marker": {
             "colorbar": {
              "outlinewidth": 0,
              "ticks": ""
             }
            },
            "type": "scatterpolar"
           }
          ],
          "scatterpolargl": [
           {
            "marker": {
             "colorbar": {
              "outlinewidth": 0,
              "ticks": ""
             }
            },
            "type": "scatterpolargl"
           }
          ],
          "scatterternary": [
           {
            "marker": {
             "colorbar": {
              "outlinewidth": 0,
              "ticks": ""
             }
            },
            "type": "scatterternary"
           }
          ],
          "surface": [
           {
            "colorbar": {
             "outlinewidth": 0,
             "ticks": ""
            },
            "colorscale": [
             [
              0,
              "#0d0887"
             ],
             [
              0.1111111111111111,
              "#46039f"
             ],
             [
              0.2222222222222222,
              "#7201a8"
             ],
             [
              0.3333333333333333,
              "#9c179e"
             ],
             [
              0.4444444444444444,
              "#bd3786"
             ],
             [
              0.5555555555555556,
              "#d8576b"
             ],
             [
              0.6666666666666666,
              "#ed7953"
             ],
             [
              0.7777777777777778,
              "#fb9f3a"
             ],
             [
              0.8888888888888888,
              "#fdca26"
             ],
             [
              1,
              "#f0f921"
             ]
            ],
            "type": "surface"
           }
          ],
          "table": [
           {
            "cells": {
             "fill": {
              "color": "#EBF0F8"
             },
             "line": {
              "color": "white"
             }
            },
            "header": {
             "fill": {
              "color": "#C8D4E3"
             },
             "line": {
              "color": "white"
             }
            },
            "type": "table"
           }
          ]
         },
         "layout": {
          "annotationdefaults": {
           "arrowcolor": "#2a3f5f",
           "arrowhead": 0,
           "arrowwidth": 1
          },
          "coloraxis": {
           "colorbar": {
            "outlinewidth": 0,
            "ticks": ""
           }
          },
          "colorscale": {
           "diverging": [
            [
             0,
             "#8e0152"
            ],
            [
             0.1,
             "#c51b7d"
            ],
            [
             0.2,
             "#de77ae"
            ],
            [
             0.3,
             "#f1b6da"
            ],
            [
             0.4,
             "#fde0ef"
            ],
            [
             0.5,
             "#f7f7f7"
            ],
            [
             0.6,
             "#e6f5d0"
            ],
            [
             0.7,
             "#b8e186"
            ],
            [
             0.8,
             "#7fbc41"
            ],
            [
             0.9,
             "#4d9221"
            ],
            [
             1,
             "#276419"
            ]
           ],
           "sequential": [
            [
             0,
             "#0d0887"
            ],
            [
             0.1111111111111111,
             "#46039f"
            ],
            [
             0.2222222222222222,
             "#7201a8"
            ],
            [
             0.3333333333333333,
             "#9c179e"
            ],
            [
             0.4444444444444444,
             "#bd3786"
            ],
            [
             0.5555555555555556,
             "#d8576b"
            ],
            [
             0.6666666666666666,
             "#ed7953"
            ],
            [
             0.7777777777777778,
             "#fb9f3a"
            ],
            [
             0.8888888888888888,
             "#fdca26"
            ],
            [
             1,
             "#f0f921"
            ]
           ],
           "sequentialminus": [
            [
             0,
             "#0d0887"
            ],
            [
             0.1111111111111111,
             "#46039f"
            ],
            [
             0.2222222222222222,
             "#7201a8"
            ],
            [
             0.3333333333333333,
             "#9c179e"
            ],
            [
             0.4444444444444444,
             "#bd3786"
            ],
            [
             0.5555555555555556,
             "#d8576b"
            ],
            [
             0.6666666666666666,
             "#ed7953"
            ],
            [
             0.7777777777777778,
             "#fb9f3a"
            ],
            [
             0.8888888888888888,
             "#fdca26"
            ],
            [
             1,
             "#f0f921"
            ]
           ]
          },
          "colorway": [
           "#636efa",
           "#EF553B",
           "#00cc96",
           "#ab63fa",
           "#FFA15A",
           "#19d3f3",
           "#FF6692",
           "#B6E880",
           "#FF97FF",
           "#FECB52"
          ],
          "font": {
           "color": "#2a3f5f"
          },
          "geo": {
           "bgcolor": "white",
           "lakecolor": "white",
           "landcolor": "#E5ECF6",
           "showlakes": true,
           "showland": true,
           "subunitcolor": "white"
          },
          "hoverlabel": {
           "align": "left"
          },
          "hovermode": "closest",
          "mapbox": {
           "style": "light"
          },
          "paper_bgcolor": "white",
          "plot_bgcolor": "#E5ECF6",
          "polar": {
           "angularaxis": {
            "gridcolor": "white",
            "linecolor": "white",
            "ticks": ""
           },
           "bgcolor": "#E5ECF6",
           "radialaxis": {
            "gridcolor": "white",
            "linecolor": "white",
            "ticks": ""
           }
          },
          "scene": {
           "xaxis": {
            "backgroundcolor": "#E5ECF6",
            "gridcolor": "white",
            "gridwidth": 2,
            "linecolor": "white",
            "showbackground": true,
            "ticks": "",
            "zerolinecolor": "white"
           },
           "yaxis": {
            "backgroundcolor": "#E5ECF6",
            "gridcolor": "white",
            "gridwidth": 2,
            "linecolor": "white",
            "showbackground": true,
            "ticks": "",
            "zerolinecolor": "white"
           },
           "zaxis": {
            "backgroundcolor": "#E5ECF6",
            "gridcolor": "white",
            "gridwidth": 2,
            "linecolor": "white",
            "showbackground": true,
            "ticks": "",
            "zerolinecolor": "white"
           }
          },
          "shapedefaults": {
           "line": {
            "color": "#2a3f5f"
           }
          },
          "ternary": {
           "aaxis": {
            "gridcolor": "white",
            "linecolor": "white",
            "ticks": ""
           },
           "baxis": {
            "gridcolor": "white",
            "linecolor": "white",
            "ticks": ""
           },
           "bgcolor": "#E5ECF6",
           "caxis": {
            "gridcolor": "white",
            "linecolor": "white",
            "ticks": ""
           }
          },
          "title": {
           "x": 0.05
          },
          "xaxis": {
           "automargin": true,
           "gridcolor": "white",
           "linecolor": "white",
           "ticks": "",
           "title": {
            "standoff": 15
           },
           "zerolinecolor": "white",
           "zerolinewidth": 2
          },
          "yaxis": {
           "automargin": true,
           "gridcolor": "white",
           "linecolor": "white",
           "ticks": "",
           "title": {
            "standoff": 15
           },
           "zerolinecolor": "white",
           "zerolinewidth": 2
          }
         }
        },
        "title": {
         "text": "Average NBA Stats for Given 2K Rating"
        },
        "width": 1000,
        "xaxis": {
         "anchor": "y",
         "domain": [
          0,
          1
         ],
         "title": {
          "text": "Stats"
         }
        },
        "yaxis": {
         "anchor": "x",
         "domain": [
          0,
          1
         ],
         "range": [
          -3.5,
          32
         ],
         "title": {
          "text": "Mean"
         }
        }
       },
       "_model_module_version": "1.5.0",
       "_py2js_addTraces": {},
       "_py2js_animate": {},
       "_py2js_deleteTraces": {},
       "_py2js_moveTraces": {},
       "_py2js_relayout": {},
       "_py2js_removeLayoutProps": {},
       "_py2js_removeTraceProps": {},
       "_py2js_restyle": {},
       "_view_count": 0,
       "_view_module_version": "1.5.0"
      }
     },
     "52c7df5cd1804910b6f1fc1e8f4af55a": {
      "model_module": "@jupyter-widgets/controls",
      "model_module_version": "1.5.0",
      "model_name": "VBoxModel",
      "state": {
       "children": [
        "IPY_MODEL_c2f5b0ba4b1a4c6f86cedb0d68be51be",
        "IPY_MODEL_7dba10dce6f74fad91600d37bf8f655a"
       ],
       "layout": "IPY_MODEL_9780c952b6fa48eda337717a1009677e"
      }
     },
     "53328b0a4da74825913a85ed9e8ac51c": {
      "model_module": "@jupyter-widgets/base",
      "model_module_version": "1.2.0",
      "model_name": "LayoutModel",
      "state": {}
     },
     "55ca124dac8645e980babe8c1bd6bc01": {
      "model_module": "@jupyter-widgets/base",
      "model_module_version": "1.2.0",
      "model_name": "LayoutModel",
      "state": {}
     },
     "5668435424fd4546a838b42bc305aeb3": {
      "model_module": "@jupyter-widgets/controls",
      "model_module_version": "1.5.0",
      "model_name": "SliderStyleModel",
      "state": {
       "description_width": ""
      }
     },
     "66cfdda5e9b04c5da561a2e41a9e2a34": {
      "model_module": "@jupyter-widgets/output",
      "model_module_version": "1.0.0",
      "model_name": "OutputModel",
      "state": {
       "layout": "IPY_MODEL_50588ae0e12e42d09ed23ce0cd0c4399"
      }
     },
     "6ed3ecccab814cff97b3d10661d237c6": {
      "model_module": "@jupyter-widgets/controls",
      "model_module_version": "1.5.0",
      "model_name": "IntSliderModel",
      "state": {
       "description": "Ratings",
       "layout": "IPY_MODEL_ee2a6fa7c6c747f4a2f1195c249eb0bb",
       "max": 98,
       "min": 62,
       "style": "IPY_MODEL_ef92df1157fe42528e28c21a7d30eed6",
       "value": 75
      }
     },
     "751979d8eda84c1c979f1da015a02a81": {
      "model_module": "@jupyter-widgets/output",
      "model_module_version": "1.0.0",
      "model_name": "OutputModel",
      "state": {
       "layout": "IPY_MODEL_17b5a58589084d9b98e9a0e5f92c8bc2"
      }
     },
     "7593df5349ab4ead918d76f6229265fb": {
      "model_module": "@jupyter-widgets/controls",
      "model_module_version": "1.5.0",
      "model_name": "VBoxModel",
      "state": {
       "children": [
        "IPY_MODEL_9bdcff89c8324e12b6e1b4c7b2cb2951",
        "IPY_MODEL_ae819c6662f9416a8da33653c126b8c3"
       ],
       "layout": "IPY_MODEL_55ca124dac8645e980babe8c1bd6bc01"
      }
     },
     "7dba10dce6f74fad91600d37bf8f655a": {
      "model_module": "@jupyter-widgets/controls",
      "model_module_version": "1.5.0",
      "model_name": "VBoxModel",
      "state": {
       "_dom_classes": [
        "widget-interact"
       ],
       "children": [
        "IPY_MODEL_15630af1d5764e83bc269324564b78d3",
        "IPY_MODEL_f102c27c30ee4532bb431fdcf0a3c4d1"
       ],
       "layout": "IPY_MODEL_fa088f117b804b3f9720ce610c99cd35"
      }
     },
     "7e7257792fb14a1984279256f5bddf6b": {
      "model_module": "@jupyter-widgets/controls",
      "model_module_version": "1.5.0",
      "model_name": "IntSliderModel",
      "state": {
       "description": "Ratings",
       "layout": "IPY_MODEL_4c4282b65f7d45ecb31c2bfcfc6e7c99",
       "max": 98,
       "min": 62,
       "style": "IPY_MODEL_348d5c7a982343baab071b307b0b80f1",
       "value": 91
      }
     },
     "89cb061b93a646e6a850fb64721f9e40": {
      "buffers": [
       {
        "data": "2pN8H6vZIEAvzlmIQisOQE/bCcSsT/s/W6W8GY5f5T+I+ssRKYbaPyIhISEhIfE/siHzOFCt4b8=",
        "encoding": "base64",
        "path": [
         "_data",
         0,
         "text",
         "value"
        ]
       },
       {
        "data": "2pN8H6vZIEAvzlmIQisOQE/bCcSsT/s/W6W8GY5f5T+I+ssRKYbaPyIhISEhIfE/siHzOFCt4b8=",
        "encoding": "base64",
        "path": [
         "_data",
         0,
         "y",
         "value"
        ]
       }
      ],
      "model_module": "plotlywidget",
      "model_module_version": "1.5.0",
      "model_name": "FigureModel",
      "state": {
       "_config": {
        "plotlyServerURL": "https://plot.ly"
       },
       "_data": [
        {
         "alignmentgroup": "True",
         "hoverlabel": {
          "namelength": 0
         },
         "hovertemplate": "Stats=%{x}<br>Mean=%{y}<br>text=%{text}",
         "legendgroup": "",
         "marker": {
          "color": "#636efa"
         },
         "name": "",
         "offsetgroup": "",
         "orientation": "v",
         "showlegend": false,
         "text": {
          "dtype": "float64",
          "shape": [
           7
          ],
          "value": {}
         },
         "textposition": "outside",
         "texttemplate": "%{text:.3g}",
         "type": "bar",
         "uid": "66c0d6db-51d5-4f4d-ba60-ef1199719d1a",
         "x": [
          "PTS",
          "REB",
          "AST",
          "STL",
          "BLK",
          "TOV",
          "+/-"
         ],
         "xaxis": "x",
         "y": {
          "dtype": "float64",
          "shape": [
           7
          ],
          "value": {}
         },
         "yaxis": "y"
        }
       ],
       "_js2py_pointsCallback": {},
       "_js2py_relayout": {},
       "_js2py_restyle": {},
       "_js2py_update": {},
       "_last_layout_edit_id": 1,
       "_last_trace_edit_id": 1,
       "_layout": {
        "barmode": "relative",
        "height": 600,
        "legend": {
         "tracegroupgap": 0
        },
        "template": {
         "data": {
          "bar": [
           {
            "error_x": {
             "color": "#2a3f5f"
            },
            "error_y": {
             "color": "#2a3f5f"
            },
            "marker": {
             "line": {
              "color": "#E5ECF6",
              "width": 0.5
             }
            },
            "type": "bar"
           }
          ],
          "barpolar": [
           {
            "marker": {
             "line": {
              "color": "#E5ECF6",
              "width": 0.5
             }
            },
            "type": "barpolar"
           }
          ],
          "carpet": [
           {
            "aaxis": {
             "endlinecolor": "#2a3f5f",
             "gridcolor": "white",
             "linecolor": "white",
             "minorgridcolor": "white",
             "startlinecolor": "#2a3f5f"
            },
            "baxis": {
             "endlinecolor": "#2a3f5f",
             "gridcolor": "white",
             "linecolor": "white",
             "minorgridcolor": "white",
             "startlinecolor": "#2a3f5f"
            },
            "type": "carpet"
           }
          ],
          "choropleth": [
           {
            "colorbar": {
             "outlinewidth": 0,
             "ticks": ""
            },
            "type": "choropleth"
           }
          ],
          "contour": [
           {
            "colorbar": {
             "outlinewidth": 0,
             "ticks": ""
            },
            "colorscale": [
             [
              0,
              "#0d0887"
             ],
             [
              0.1111111111111111,
              "#46039f"
             ],
             [
              0.2222222222222222,
              "#7201a8"
             ],
             [
              0.3333333333333333,
              "#9c179e"
             ],
             [
              0.4444444444444444,
              "#bd3786"
             ],
             [
              0.5555555555555556,
              "#d8576b"
             ],
             [
              0.6666666666666666,
              "#ed7953"
             ],
             [
              0.7777777777777778,
              "#fb9f3a"
             ],
             [
              0.8888888888888888,
              "#fdca26"
             ],
             [
              1,
              "#f0f921"
             ]
            ],
            "type": "contour"
           }
          ],
          "contourcarpet": [
           {
            "colorbar": {
             "outlinewidth": 0,
             "ticks": ""
            },
            "type": "contourcarpet"
           }
          ],
          "heatmap": [
           {
            "colorbar": {
             "outlinewidth": 0,
             "ticks": ""
            },
            "colorscale": [
             [
              0,
              "#0d0887"
             ],
             [
              0.1111111111111111,
              "#46039f"
             ],
             [
              0.2222222222222222,
              "#7201a8"
             ],
             [
              0.3333333333333333,
              "#9c179e"
             ],
             [
              0.4444444444444444,
              "#bd3786"
             ],
             [
              0.5555555555555556,
              "#d8576b"
             ],
             [
              0.6666666666666666,
              "#ed7953"
             ],
             [
              0.7777777777777778,
              "#fb9f3a"
             ],
             [
              0.8888888888888888,
              "#fdca26"
             ],
             [
              1,
              "#f0f921"
             ]
            ],
            "type": "heatmap"
           }
          ],
          "heatmapgl": [
           {
            "colorbar": {
             "outlinewidth": 0,
             "ticks": ""
            },
            "colorscale": [
             [
              0,
              "#0d0887"
             ],
             [
              0.1111111111111111,
              "#46039f"
             ],
             [
              0.2222222222222222,
              "#7201a8"
             ],
             [
              0.3333333333333333,
              "#9c179e"
             ],
             [
              0.4444444444444444,
              "#bd3786"
             ],
             [
              0.5555555555555556,
              "#d8576b"
             ],
             [
              0.6666666666666666,
              "#ed7953"
             ],
             [
              0.7777777777777778,
              "#fb9f3a"
             ],
             [
              0.8888888888888888,
              "#fdca26"
             ],
             [
              1,
              "#f0f921"
             ]
            ],
            "type": "heatmapgl"
           }
          ],
          "histogram": [
           {
            "marker": {
             "colorbar": {
              "outlinewidth": 0,
              "ticks": ""
             }
            },
            "type": "histogram"
           }
          ],
          "histogram2d": [
           {
            "colorbar": {
             "outlinewidth": 0,
             "ticks": ""
            },
            "colorscale": [
             [
              0,
              "#0d0887"
             ],
             [
              0.1111111111111111,
              "#46039f"
             ],
             [
              0.2222222222222222,
              "#7201a8"
             ],
             [
              0.3333333333333333,
              "#9c179e"
             ],
             [
              0.4444444444444444,
              "#bd3786"
             ],
             [
              0.5555555555555556,
              "#d8576b"
             ],
             [
              0.6666666666666666,
              "#ed7953"
             ],
             [
              0.7777777777777778,
              "#fb9f3a"
             ],
             [
              0.8888888888888888,
              "#fdca26"
             ],
             [
              1,
              "#f0f921"
             ]
            ],
            "type": "histogram2d"
           }
          ],
          "histogram2dcontour": [
           {
            "colorbar": {
             "outlinewidth": 0,
             "ticks": ""
            },
            "colorscale": [
             [
              0,
              "#0d0887"
             ],
             [
              0.1111111111111111,
              "#46039f"
             ],
             [
              0.2222222222222222,
              "#7201a8"
             ],
             [
              0.3333333333333333,
              "#9c179e"
             ],
             [
              0.4444444444444444,
              "#bd3786"
             ],
             [
              0.5555555555555556,
              "#d8576b"
             ],
             [
              0.6666666666666666,
              "#ed7953"
             ],
             [
              0.7777777777777778,
              "#fb9f3a"
             ],
             [
              0.8888888888888888,
              "#fdca26"
             ],
             [
              1,
              "#f0f921"
             ]
            ],
            "type": "histogram2dcontour"
           }
          ],
          "mesh3d": [
           {
            "colorbar": {
             "outlinewidth": 0,
             "ticks": ""
            },
            "type": "mesh3d"
           }
          ],
          "parcoords": [
           {
            "line": {
             "colorbar": {
              "outlinewidth": 0,
              "ticks": ""
             }
            },
            "type": "parcoords"
           }
          ],
          "pie": [
           {
            "automargin": true,
            "type": "pie"
           }
          ],
          "scatter": [
           {
            "marker": {
             "colorbar": {
              "outlinewidth": 0,
              "ticks": ""
             }
            },
            "type": "scatter"
           }
          ],
          "scatter3d": [
           {
            "line": {
             "colorbar": {
              "outlinewidth": 0,
              "ticks": ""
             }
            },
            "marker": {
             "colorbar": {
              "outlinewidth": 0,
              "ticks": ""
             }
            },
            "type": "scatter3d"
           }
          ],
          "scattercarpet": [
           {
            "marker": {
             "colorbar": {
              "outlinewidth": 0,
              "ticks": ""
             }
            },
            "type": "scattercarpet"
           }
          ],
          "scattergeo": [
           {
            "marker": {
             "colorbar": {
              "outlinewidth": 0,
              "ticks": ""
             }
            },
            "type": "scattergeo"
           }
          ],
          "scattergl": [
           {
            "marker": {
             "colorbar": {
              "outlinewidth": 0,
              "ticks": ""
             }
            },
            "type": "scattergl"
           }
          ],
          "scattermapbox": [
           {
            "marker": {
             "colorbar": {
              "outlinewidth": 0,
              "ticks": ""
             }
            },
            "type": "scattermapbox"
           }
          ],
          "scatterpolar": [
           {
            "marker": {
             "colorbar": {
              "outlinewidth": 0,
              "ticks": ""
             }
            },
            "type": "scatterpolar"
           }
          ],
          "scatterpolargl": [
           {
            "marker": {
             "colorbar": {
              "outlinewidth": 0,
              "ticks": ""
             }
            },
            "type": "scatterpolargl"
           }
          ],
          "scatterternary": [
           {
            "marker": {
             "colorbar": {
              "outlinewidth": 0,
              "ticks": ""
             }
            },
            "type": "scatterternary"
           }
          ],
          "surface": [
           {
            "colorbar": {
             "outlinewidth": 0,
             "ticks": ""
            },
            "colorscale": [
             [
              0,
              "#0d0887"
             ],
             [
              0.1111111111111111,
              "#46039f"
             ],
             [
              0.2222222222222222,
              "#7201a8"
             ],
             [
              0.3333333333333333,
              "#9c179e"
             ],
             [
              0.4444444444444444,
              "#bd3786"
             ],
             [
              0.5555555555555556,
              "#d8576b"
             ],
             [
              0.6666666666666666,
              "#ed7953"
             ],
             [
              0.7777777777777778,
              "#fb9f3a"
             ],
             [
              0.8888888888888888,
              "#fdca26"
             ],
             [
              1,
              "#f0f921"
             ]
            ],
            "type": "surface"
           }
          ],
          "table": [
           {
            "cells": {
             "fill": {
              "color": "#EBF0F8"
             },
             "line": {
              "color": "white"
             }
            },
            "header": {
             "fill": {
              "color": "#C8D4E3"
             },
             "line": {
              "color": "white"
             }
            },
            "type": "table"
           }
          ]
         },
         "layout": {
          "annotationdefaults": {
           "arrowcolor": "#2a3f5f",
           "arrowhead": 0,
           "arrowwidth": 1
          },
          "coloraxis": {
           "colorbar": {
            "outlinewidth": 0,
            "ticks": ""
           }
          },
          "colorscale": {
           "diverging": [
            [
             0,
             "#8e0152"
            ],
            [
             0.1,
             "#c51b7d"
            ],
            [
             0.2,
             "#de77ae"
            ],
            [
             0.3,
             "#f1b6da"
            ],
            [
             0.4,
             "#fde0ef"
            ],
            [
             0.5,
             "#f7f7f7"
            ],
            [
             0.6,
             "#e6f5d0"
            ],
            [
             0.7,
             "#b8e186"
            ],
            [
             0.8,
             "#7fbc41"
            ],
            [
             0.9,
             "#4d9221"
            ],
            [
             1,
             "#276419"
            ]
           ],
           "sequential": [
            [
             0,
             "#0d0887"
            ],
            [
             0.1111111111111111,
             "#46039f"
            ],
            [
             0.2222222222222222,
             "#7201a8"
            ],
            [
             0.3333333333333333,
             "#9c179e"
            ],
            [
             0.4444444444444444,
             "#bd3786"
            ],
            [
             0.5555555555555556,
             "#d8576b"
            ],
            [
             0.6666666666666666,
             "#ed7953"
            ],
            [
             0.7777777777777778,
             "#fb9f3a"
            ],
            [
             0.8888888888888888,
             "#fdca26"
            ],
            [
             1,
             "#f0f921"
            ]
           ],
           "sequentialminus": [
            [
             0,
             "#0d0887"
            ],
            [
             0.1111111111111111,
             "#46039f"
            ],
            [
             0.2222222222222222,
             "#7201a8"
            ],
            [
             0.3333333333333333,
             "#9c179e"
            ],
            [
             0.4444444444444444,
             "#bd3786"
            ],
            [
             0.5555555555555556,
             "#d8576b"
            ],
            [
             0.6666666666666666,
             "#ed7953"
            ],
            [
             0.7777777777777778,
             "#fb9f3a"
            ],
            [
             0.8888888888888888,
             "#fdca26"
            ],
            [
             1,
             "#f0f921"
            ]
           ]
          },
          "colorway": [
           "#636efa",
           "#EF553B",
           "#00cc96",
           "#ab63fa",
           "#FFA15A",
           "#19d3f3",
           "#FF6692",
           "#B6E880",
           "#FF97FF",
           "#FECB52"
          ],
          "font": {
           "color": "#2a3f5f"
          },
          "geo": {
           "bgcolor": "white",
           "lakecolor": "white",
           "landcolor": "#E5ECF6",
           "showlakes": true,
           "showland": true,
           "subunitcolor": "white"
          },
          "hoverlabel": {
           "align": "left"
          },
          "hovermode": "closest",
          "mapbox": {
           "style": "light"
          },
          "paper_bgcolor": "white",
          "plot_bgcolor": "#E5ECF6",
          "polar": {
           "angularaxis": {
            "gridcolor": "white",
            "linecolor": "white",
            "ticks": ""
           },
           "bgcolor": "#E5ECF6",
           "radialaxis": {
            "gridcolor": "white",
            "linecolor": "white",
            "ticks": ""
           }
          },
          "scene": {
           "xaxis": {
            "backgroundcolor": "#E5ECF6",
            "gridcolor": "white",
            "gridwidth": 2,
            "linecolor": "white",
            "showbackground": true,
            "ticks": "",
            "zerolinecolor": "white"
           },
           "yaxis": {
            "backgroundcolor": "#E5ECF6",
            "gridcolor": "white",
            "gridwidth": 2,
            "linecolor": "white",
            "showbackground": true,
            "ticks": "",
            "zerolinecolor": "white"
           },
           "zaxis": {
            "backgroundcolor": "#E5ECF6",
            "gridcolor": "white",
            "gridwidth": 2,
            "linecolor": "white",
            "showbackground": true,
            "ticks": "",
            "zerolinecolor": "white"
           }
          },
          "shapedefaults": {
           "line": {
            "color": "#2a3f5f"
           }
          },
          "ternary": {
           "aaxis": {
            "gridcolor": "white",
            "linecolor": "white",
            "ticks": ""
           },
           "baxis": {
            "gridcolor": "white",
            "linecolor": "white",
            "ticks": ""
           },
           "bgcolor": "#E5ECF6",
           "caxis": {
            "gridcolor": "white",
            "linecolor": "white",
            "ticks": ""
           }
          },
          "title": {
           "x": 0.05
          },
          "xaxis": {
           "automargin": true,
           "gridcolor": "white",
           "linecolor": "white",
           "ticks": "",
           "title": {
            "standoff": 15
           },
           "zerolinecolor": "white",
           "zerolinewidth": 2
          },
          "yaxis": {
           "automargin": true,
           "gridcolor": "white",
           "linecolor": "white",
           "ticks": "",
           "title": {
            "standoff": 15
           },
           "zerolinecolor": "white",
           "zerolinewidth": 2
          }
         }
        },
        "title": {
         "text": "Average NBA Stats for Given 2K Rating"
        },
        "width": 1000,
        "xaxis": {
         "anchor": "y",
         "domain": [
          0,
          1
         ],
         "title": {
          "text": "Stats"
         }
        },
        "yaxis": {
         "anchor": "x",
         "domain": [
          0,
          1
         ],
         "range": [
          -3.5,
          32
         ],
         "title": {
          "text": "Mean"
         }
        }
       },
       "_model_module_version": "1.5.0",
       "_py2js_addTraces": {},
       "_py2js_animate": {},
       "_py2js_deleteTraces": {},
       "_py2js_moveTraces": {},
       "_py2js_relayout": {},
       "_py2js_removeLayoutProps": {},
       "_py2js_removeTraceProps": {},
       "_py2js_restyle": {},
       "_view_count": 0,
       "_view_module_version": "1.5.0"
      }
     },
     "9098cbf0f89741f78f19558604f164a5": {
      "model_module": "@jupyter-widgets/output",
      "model_module_version": "1.0.0",
      "model_name": "OutputModel",
      "state": {
       "layout": "IPY_MODEL_53328b0a4da74825913a85ed9e8ac51c"
      }
     },
     "9780c952b6fa48eda337717a1009677e": {
      "model_module": "@jupyter-widgets/base",
      "model_module_version": "1.2.0",
      "model_name": "LayoutModel",
      "state": {}
     },
     "9bdcff89c8324e12b6e1b4c7b2cb2951": {
      "buffers": [
       {
        "data": "2pN8H6vZIEAvzlmIQisOQE/bCcSsT/s/W6W8GY5f5T+I+ssRKYbaPyIhISEhIfE/siHzOFCt4b8=",
        "encoding": "base64",
        "path": [
         "_data",
         0,
         "text",
         "value"
        ]
       },
       {
        "data": "2pN8H6vZIEAvzlmIQisOQE/bCcSsT/s/W6W8GY5f5T+I+ssRKYbaPyIhISEhIfE/siHzOFCt4b8=",
        "encoding": "base64",
        "path": [
         "_data",
         0,
         "y",
         "value"
        ]
       }
      ],
      "model_module": "plotlywidget",
      "model_module_version": "1.5.0",
      "model_name": "FigureModel",
      "state": {
       "_config": {
        "plotlyServerURL": "https://plot.ly"
       },
       "_data": [
        {
         "alignmentgroup": "True",
         "hoverlabel": {
          "namelength": 0
         },
         "hovertemplate": "Stats=%{x}<br>Mean=%{y}<br>text=%{text}",
         "legendgroup": "",
         "marker": {
          "color": "#636efa"
         },
         "name": "",
         "offsetgroup": "",
         "orientation": "v",
         "showlegend": false,
         "text": {
          "dtype": "float64",
          "shape": [
           7
          ],
          "value": {}
         },
         "textposition": "outside",
         "texttemplate": "%{text:.3g}",
         "type": "bar",
         "uid": "23060ea2-c744-4b27-a23f-af5104a26639",
         "x": [
          "PTS",
          "REB",
          "AST",
          "STL",
          "BLK",
          "TOV",
          "+/-"
         ],
         "xaxis": "x",
         "y": {
          "dtype": "float64",
          "shape": [
           7
          ],
          "value": {}
         },
         "yaxis": "y"
        }
       ],
       "_js2py_layoutDelta": {
        "layout_delta": {
         "annotations": [],
         "autosize": false,
         "bargap": 0.2,
         "bargroupgap": 0,
         "barnorm": "",
         "calendar": "gregorian",
         "clickmode": "event",
         "colorscale": {
          "diverging": [
           [
            0,
            "#8e0152"
           ],
           [
            0.1,
            "#c51b7d"
           ],
           [
            0.2,
            "#de77ae"
           ],
           [
            0.3,
            "#f1b6da"
           ],
           [
            0.4,
            "#fde0ef"
           ],
           [
            0.5,
            "#f7f7f7"
           ],
           [
            0.6,
            "#e6f5d0"
           ],
           [
            0.7,
            "#b8e186"
           ],
           [
            0.8,
            "#7fbc41"
           ],
           [
            0.9,
            "#4d9221"
           ],
           [
            1,
            "#276419"
           ]
          ],
          "sequential": [
           [
            0,
            "#0d0887"
           ],
           [
            0.1111111111111111,
            "#46039f"
           ],
           [
            0.2222222222222222,
            "#7201a8"
           ],
           [
            0.3333333333333333,
            "#9c179e"
           ],
           [
            0.4444444444444444,
            "#bd3786"
           ],
           [
            0.5555555555555556,
            "#d8576b"
           ],
           [
            0.6666666666666666,
            "#ed7953"
           ],
           [
            0.7777777777777778,
            "#fb9f3a"
           ],
           [
            0.8888888888888888,
            "#fdca26"
           ],
           [
            1,
            "#f0f921"
           ]
          ],
          "sequentialminus": [
           [
            0,
            "#0d0887"
           ],
           [
            0.1111111111111111,
            "#46039f"
           ],
           [
            0.2222222222222222,
            "#7201a8"
           ],
           [
            0.3333333333333333,
            "#9c179e"
           ],
           [
            0.4444444444444444,
            "#bd3786"
           ],
           [
            0.5555555555555556,
            "#d8576b"
           ],
           [
            0.6666666666666666,
            "#ed7953"
           ],
           [
            0.7777777777777778,
            "#fb9f3a"
           ],
           [
            0.8888888888888888,
            "#fdca26"
           ],
           [
            1,
            "#f0f921"
           ]
          ]
         },
         "colorway": [
          "#636efa",
          "#EF553B",
          "#00cc96",
          "#ab63fa",
          "#FFA15A",
          "#19d3f3",
          "#FF6692",
          "#B6E880",
          "#FF97FF",
          "#FECB52"
         ],
         "dragmode": "zoom",
         "font": {
          "color": "#2a3f5f",
          "family": "\"Open Sans\", verdana, arial, sans-serif",
          "size": 12
         },
         "hidesources": false,
         "hoverdistance": 20,
         "hoverlabel": {
          "align": "left",
          "font": {
           "family": "Arial, sans-serif",
           "size": 13
          },
          "namelength": 15
         },
         "hovermode": "closest",
         "images": [],
         "margin": {
          "autoexpand": true,
          "b": 80,
          "l": 80,
          "pad": 0,
          "r": 80,
          "t": 100
         },
         "modebar": {
          "activecolor": "rgba(68, 68, 68, 0.7)",
          "bgcolor": "rgba(255, 255, 255, 0.5)",
          "color": "rgba(68, 68, 68, 0.3)",
          "orientation": "h"
         },
         "paper_bgcolor": "white",
         "plot_bgcolor": "#E5ECF6",
         "separators": ".,",
         "shapes": [],
         "showlegend": false,
         "sliders": [],
         "spikedistance": 20,
         "title": {
          "font": {
           "color": "#2a3f5f",
           "family": "\"Open Sans\", verdana, arial, sans-serif",
           "size": 17
          },
          "pad": {
           "b": 0,
           "l": 0,
           "r": 0,
           "t": 0
          },
          "x": 0.05,
          "xanchor": "auto",
          "xref": "container",
          "y": "auto",
          "yanchor": "auto",
          "yref": "container"
         },
         "uniformtext": {
          "mode": false
         },
         "updatemenus": [],
         "xaxis": {
          "automargin": true,
          "autorange": true,
          "categoryorder": "trace",
          "color": "#444",
          "constrain": "range",
          "constraintoward": "center",
          "dtick": 1,
          "fixedrange": false,
          "layer": "above traces",
          "nticks": 0,
          "range": [
           -0.5,
           6.5
          ],
          "showgrid": false,
          "showline": false,
          "showspikes": false,
          "showticklabels": true,
          "side": "bottom",
          "tick0": 0,
          "tickangle": "auto",
          "tickfont": {
           "color": "#2a3f5f",
           "family": "\"Open Sans\", verdana, arial, sans-serif",
           "size": 12
          },
          "tickmode": "auto",
          "tickprefix": "",
          "ticks": "",
          "ticksuffix": "",
          "title": {
           "font": {
            "color": "#2a3f5f",
            "family": "\"Open Sans\", verdana, arial, sans-serif",
            "size": 14
           },
           "standoff": 15
          },
          "type": "category",
          "visible": true,
          "zeroline": false
         },
         "yaxis": {
          "automargin": true,
          "autorange": false,
          "color": "#444",
          "constrain": "range",
          "constraintoward": "middle",
          "dtick": 5,
          "exponentformat": "B",
          "fixedrange": false,
          "gridcolor": "white",
          "gridwidth": 1,
          "hoverformat": "",
          "layer": "above traces",
          "nticks": 0,
          "separatethousands": false,
          "showexponent": "all",
          "showgrid": true,
          "showline": false,
          "showspikes": false,
          "showticklabels": true,
          "side": "left",
          "tick0": 0,
          "tickangle": "auto",
          "tickfont": {
           "color": "#2a3f5f",
           "family": "\"Open Sans\", verdana, arial, sans-serif",
           "size": 12
          },
          "tickformat": "",
          "tickmode": "auto",
          "tickprefix": "",
          "ticks": "",
          "ticksuffix": "",
          "title": {
           "font": {
            "color": "#2a3f5f",
            "family": "\"Open Sans\", verdana, arial, sans-serif",
            "size": 14
           },
           "standoff": 15
          },
          "type": "linear",
          "visible": true,
          "zeroline": true,
          "zerolinecolor": "white",
          "zerolinewidth": 2
         }
        },
        "layout_edit_id": 1
       },
       "_js2py_pointsCallback": {
        "device_state": {
         "alt": false,
         "button": 0,
         "buttons": 0,
         "ctrl": false,
         "meta": false,
         "shift": false
        },
        "event_type": "plotly_unhover",
        "points": {
         "point_indexes": [
          2
         ],
         "trace_indexes": [
          0
         ],
         "xs": [
          "AST"
         ],
         "ys": [
          1.7069518716577539
         ]
        },
        "selector": null
       },
       "_js2py_relayout": {},
       "_js2py_restyle": {},
       "_js2py_traceDeltas": {
        "trace_deltas": [
         {
          "cliponaxis": true,
          "constraintext": "both",
          "error_x": {
           "visible": false
          },
          "error_y": {
           "visible": false
          },
          "hoverlabel": {
           "align": "left",
           "font": {
            "family": "Arial, sans-serif",
            "size": 13
           }
          },
          "hovertext": "",
          "index": 0,
          "insidetextfont": {
           "family": "\"Open Sans\", verdana, arial, sans-serif",
           "size": 12
          },
          "marker": {
           "line": {
            "color": "#E5ECF6",
            "width": 0.5
           },
           "opacity": 1
          },
          "opacity": 1,
          "outsidetextfont": {
           "color": "#2a3f5f",
           "family": "\"Open Sans\", verdana, arial, sans-serif",
           "size": 12
          },
          "selected": {
           "marker": {
            "opacity": 1
           }
          },
          "textangle": "auto",
          "textfont": {
           "color": "#2a3f5f",
           "family": "\"Open Sans\", verdana, arial, sans-serif",
           "size": 12
          },
          "uid": "23060ea2-c744-4b27-a23f-af5104a26639",
          "unselected": {
           "marker": {
            "opacity": 0.2
           }
          },
          "visible": true,
          "xcalendar": "gregorian",
          "ycalendar": "gregorian"
         }
        ],
        "trace_edit_id": 1
       },
       "_js2py_update": {},
       "_last_layout_edit_id": 1,
       "_last_trace_edit_id": 1,
       "_layout": {
        "barmode": "relative",
        "height": 600,
        "legend": {
         "tracegroupgap": 0
        },
        "template": {
         "data": {
          "bar": [
           {
            "error_x": {
             "color": "#2a3f5f"
            },
            "error_y": {
             "color": "#2a3f5f"
            },
            "marker": {
             "line": {
              "color": "#E5ECF6",
              "width": 0.5
             }
            },
            "type": "bar"
           }
          ],
          "barpolar": [
           {
            "marker": {
             "line": {
              "color": "#E5ECF6",
              "width": 0.5
             }
            },
            "type": "barpolar"
           }
          ],
          "carpet": [
           {
            "aaxis": {
             "endlinecolor": "#2a3f5f",
             "gridcolor": "white",
             "linecolor": "white",
             "minorgridcolor": "white",
             "startlinecolor": "#2a3f5f"
            },
            "baxis": {
             "endlinecolor": "#2a3f5f",
             "gridcolor": "white",
             "linecolor": "white",
             "minorgridcolor": "white",
             "startlinecolor": "#2a3f5f"
            },
            "type": "carpet"
           }
          ],
          "choropleth": [
           {
            "colorbar": {
             "outlinewidth": 0,
             "ticks": ""
            },
            "type": "choropleth"
           }
          ],
          "contour": [
           {
            "colorbar": {
             "outlinewidth": 0,
             "ticks": ""
            },
            "colorscale": [
             [
              0,
              "#0d0887"
             ],
             [
              0.1111111111111111,
              "#46039f"
             ],
             [
              0.2222222222222222,
              "#7201a8"
             ],
             [
              0.3333333333333333,
              "#9c179e"
             ],
             [
              0.4444444444444444,
              "#bd3786"
             ],
             [
              0.5555555555555556,
              "#d8576b"
             ],
             [
              0.6666666666666666,
              "#ed7953"
             ],
             [
              0.7777777777777778,
              "#fb9f3a"
             ],
             [
              0.8888888888888888,
              "#fdca26"
             ],
             [
              1,
              "#f0f921"
             ]
            ],
            "type": "contour"
           }
          ],
          "contourcarpet": [
           {
            "colorbar": {
             "outlinewidth": 0,
             "ticks": ""
            },
            "type": "contourcarpet"
           }
          ],
          "heatmap": [
           {
            "colorbar": {
             "outlinewidth": 0,
             "ticks": ""
            },
            "colorscale": [
             [
              0,
              "#0d0887"
             ],
             [
              0.1111111111111111,
              "#46039f"
             ],
             [
              0.2222222222222222,
              "#7201a8"
             ],
             [
              0.3333333333333333,
              "#9c179e"
             ],
             [
              0.4444444444444444,
              "#bd3786"
             ],
             [
              0.5555555555555556,
              "#d8576b"
             ],
             [
              0.6666666666666666,
              "#ed7953"
             ],
             [
              0.7777777777777778,
              "#fb9f3a"
             ],
             [
              0.8888888888888888,
              "#fdca26"
             ],
             [
              1,
              "#f0f921"
             ]
            ],
            "type": "heatmap"
           }
          ],
          "heatmapgl": [
           {
            "colorbar": {
             "outlinewidth": 0,
             "ticks": ""
            },
            "colorscale": [
             [
              0,
              "#0d0887"
             ],
             [
              0.1111111111111111,
              "#46039f"
             ],
             [
              0.2222222222222222,
              "#7201a8"
             ],
             [
              0.3333333333333333,
              "#9c179e"
             ],
             [
              0.4444444444444444,
              "#bd3786"
             ],
             [
              0.5555555555555556,
              "#d8576b"
             ],
             [
              0.6666666666666666,
              "#ed7953"
             ],
             [
              0.7777777777777778,
              "#fb9f3a"
             ],
             [
              0.8888888888888888,
              "#fdca26"
             ],
             [
              1,
              "#f0f921"
             ]
            ],
            "type": "heatmapgl"
           }
          ],
          "histogram": [
           {
            "marker": {
             "colorbar": {
              "outlinewidth": 0,
              "ticks": ""
             }
            },
            "type": "histogram"
           }
          ],
          "histogram2d": [
           {
            "colorbar": {
             "outlinewidth": 0,
             "ticks": ""
            },
            "colorscale": [
             [
              0,
              "#0d0887"
             ],
             [
              0.1111111111111111,
              "#46039f"
             ],
             [
              0.2222222222222222,
              "#7201a8"
             ],
             [
              0.3333333333333333,
              "#9c179e"
             ],
             [
              0.4444444444444444,
              "#bd3786"
             ],
             [
              0.5555555555555556,
              "#d8576b"
             ],
             [
              0.6666666666666666,
              "#ed7953"
             ],
             [
              0.7777777777777778,
              "#fb9f3a"
             ],
             [
              0.8888888888888888,
              "#fdca26"
             ],
             [
              1,
              "#f0f921"
             ]
            ],
            "type": "histogram2d"
           }
          ],
          "histogram2dcontour": [
           {
            "colorbar": {
             "outlinewidth": 0,
             "ticks": ""
            },
            "colorscale": [
             [
              0,
              "#0d0887"
             ],
             [
              0.1111111111111111,
              "#46039f"
             ],
             [
              0.2222222222222222,
              "#7201a8"
             ],
             [
              0.3333333333333333,
              "#9c179e"
             ],
             [
              0.4444444444444444,
              "#bd3786"
             ],
             [
              0.5555555555555556,
              "#d8576b"
             ],
             [
              0.6666666666666666,
              "#ed7953"
             ],
             [
              0.7777777777777778,
              "#fb9f3a"
             ],
             [
              0.8888888888888888,
              "#fdca26"
             ],
             [
              1,
              "#f0f921"
             ]
            ],
            "type": "histogram2dcontour"
           }
          ],
          "mesh3d": [
           {
            "colorbar": {
             "outlinewidth": 0,
             "ticks": ""
            },
            "type": "mesh3d"
           }
          ],
          "parcoords": [
           {
            "line": {
             "colorbar": {
              "outlinewidth": 0,
              "ticks": ""
             }
            },
            "type": "parcoords"
           }
          ],
          "pie": [
           {
            "automargin": true,
            "type": "pie"
           }
          ],
          "scatter": [
           {
            "marker": {
             "colorbar": {
              "outlinewidth": 0,
              "ticks": ""
             }
            },
            "type": "scatter"
           }
          ],
          "scatter3d": [
           {
            "line": {
             "colorbar": {
              "outlinewidth": 0,
              "ticks": ""
             }
            },
            "marker": {
             "colorbar": {
              "outlinewidth": 0,
              "ticks": ""
             }
            },
            "type": "scatter3d"
           }
          ],
          "scattercarpet": [
           {
            "marker": {
             "colorbar": {
              "outlinewidth": 0,
              "ticks": ""
             }
            },
            "type": "scattercarpet"
           }
          ],
          "scattergeo": [
           {
            "marker": {
             "colorbar": {
              "outlinewidth": 0,
              "ticks": ""
             }
            },
            "type": "scattergeo"
           }
          ],
          "scattergl": [
           {
            "marker": {
             "colorbar": {
              "outlinewidth": 0,
              "ticks": ""
             }
            },
            "type": "scattergl"
           }
          ],
          "scattermapbox": [
           {
            "marker": {
             "colorbar": {
              "outlinewidth": 0,
              "ticks": ""
             }
            },
            "type": "scattermapbox"
           }
          ],
          "scatterpolar": [
           {
            "marker": {
             "colorbar": {
              "outlinewidth": 0,
              "ticks": ""
             }
            },
            "type": "scatterpolar"
           }
          ],
          "scatterpolargl": [
           {
            "marker": {
             "colorbar": {
              "outlinewidth": 0,
              "ticks": ""
             }
            },
            "type": "scatterpolargl"
           }
          ],
          "scatterternary": [
           {
            "marker": {
             "colorbar": {
              "outlinewidth": 0,
              "ticks": ""
             }
            },
            "type": "scatterternary"
           }
          ],
          "surface": [
           {
            "colorbar": {
             "outlinewidth": 0,
             "ticks": ""
            },
            "colorscale": [
             [
              0,
              "#0d0887"
             ],
             [
              0.1111111111111111,
              "#46039f"
             ],
             [
              0.2222222222222222,
              "#7201a8"
             ],
             [
              0.3333333333333333,
              "#9c179e"
             ],
             [
              0.4444444444444444,
              "#bd3786"
             ],
             [
              0.5555555555555556,
              "#d8576b"
             ],
             [
              0.6666666666666666,
              "#ed7953"
             ],
             [
              0.7777777777777778,
              "#fb9f3a"
             ],
             [
              0.8888888888888888,
              "#fdca26"
             ],
             [
              1,
              "#f0f921"
             ]
            ],
            "type": "surface"
           }
          ],
          "table": [
           {
            "cells": {
             "fill": {
              "color": "#EBF0F8"
             },
             "line": {
              "color": "white"
             }
            },
            "header": {
             "fill": {
              "color": "#C8D4E3"
             },
             "line": {
              "color": "white"
             }
            },
            "type": "table"
           }
          ]
         },
         "layout": {
          "annotationdefaults": {
           "arrowcolor": "#2a3f5f",
           "arrowhead": 0,
           "arrowwidth": 1
          },
          "coloraxis": {
           "colorbar": {
            "outlinewidth": 0,
            "ticks": ""
           }
          },
          "colorscale": {
           "diverging": [
            [
             0,
             "#8e0152"
            ],
            [
             0.1,
             "#c51b7d"
            ],
            [
             0.2,
             "#de77ae"
            ],
            [
             0.3,
             "#f1b6da"
            ],
            [
             0.4,
             "#fde0ef"
            ],
            [
             0.5,
             "#f7f7f7"
            ],
            [
             0.6,
             "#e6f5d0"
            ],
            [
             0.7,
             "#b8e186"
            ],
            [
             0.8,
             "#7fbc41"
            ],
            [
             0.9,
             "#4d9221"
            ],
            [
             1,
             "#276419"
            ]
           ],
           "sequential": [
            [
             0,
             "#0d0887"
            ],
            [
             0.1111111111111111,
             "#46039f"
            ],
            [
             0.2222222222222222,
             "#7201a8"
            ],
            [
             0.3333333333333333,
             "#9c179e"
            ],
            [
             0.4444444444444444,
             "#bd3786"
            ],
            [
             0.5555555555555556,
             "#d8576b"
            ],
            [
             0.6666666666666666,
             "#ed7953"
            ],
            [
             0.7777777777777778,
             "#fb9f3a"
            ],
            [
             0.8888888888888888,
             "#fdca26"
            ],
            [
             1,
             "#f0f921"
            ]
           ],
           "sequentialminus": [
            [
             0,
             "#0d0887"
            ],
            [
             0.1111111111111111,
             "#46039f"
            ],
            [
             0.2222222222222222,
             "#7201a8"
            ],
            [
             0.3333333333333333,
             "#9c179e"
            ],
            [
             0.4444444444444444,
             "#bd3786"
            ],
            [
             0.5555555555555556,
             "#d8576b"
            ],
            [
             0.6666666666666666,
             "#ed7953"
            ],
            [
             0.7777777777777778,
             "#fb9f3a"
            ],
            [
             0.8888888888888888,
             "#fdca26"
            ],
            [
             1,
             "#f0f921"
            ]
           ]
          },
          "colorway": [
           "#636efa",
           "#EF553B",
           "#00cc96",
           "#ab63fa",
           "#FFA15A",
           "#19d3f3",
           "#FF6692",
           "#B6E880",
           "#FF97FF",
           "#FECB52"
          ],
          "font": {
           "color": "#2a3f5f"
          },
          "geo": {
           "bgcolor": "white",
           "lakecolor": "white",
           "landcolor": "#E5ECF6",
           "showlakes": true,
           "showland": true,
           "subunitcolor": "white"
          },
          "hoverlabel": {
           "align": "left"
          },
          "hovermode": "closest",
          "mapbox": {
           "style": "light"
          },
          "paper_bgcolor": "white",
          "plot_bgcolor": "#E5ECF6",
          "polar": {
           "angularaxis": {
            "gridcolor": "white",
            "linecolor": "white",
            "ticks": ""
           },
           "bgcolor": "#E5ECF6",
           "radialaxis": {
            "gridcolor": "white",
            "linecolor": "white",
            "ticks": ""
           }
          },
          "scene": {
           "xaxis": {
            "backgroundcolor": "#E5ECF6",
            "gridcolor": "white",
            "gridwidth": 2,
            "linecolor": "white",
            "showbackground": true,
            "ticks": "",
            "zerolinecolor": "white"
           },
           "yaxis": {
            "backgroundcolor": "#E5ECF6",
            "gridcolor": "white",
            "gridwidth": 2,
            "linecolor": "white",
            "showbackground": true,
            "ticks": "",
            "zerolinecolor": "white"
           },
           "zaxis": {
            "backgroundcolor": "#E5ECF6",
            "gridcolor": "white",
            "gridwidth": 2,
            "linecolor": "white",
            "showbackground": true,
            "ticks": "",
            "zerolinecolor": "white"
           }
          },
          "shapedefaults": {
           "line": {
            "color": "#2a3f5f"
           }
          },
          "ternary": {
           "aaxis": {
            "gridcolor": "white",
            "linecolor": "white",
            "ticks": ""
           },
           "baxis": {
            "gridcolor": "white",
            "linecolor": "white",
            "ticks": ""
           },
           "bgcolor": "#E5ECF6",
           "caxis": {
            "gridcolor": "white",
            "linecolor": "white",
            "ticks": ""
           }
          },
          "title": {
           "x": 0.05
          },
          "xaxis": {
           "automargin": true,
           "gridcolor": "white",
           "linecolor": "white",
           "ticks": "",
           "title": {
            "standoff": 15
           },
           "zerolinecolor": "white",
           "zerolinewidth": 2
          },
          "yaxis": {
           "automargin": true,
           "gridcolor": "white",
           "linecolor": "white",
           "ticks": "",
           "title": {
            "standoff": 15
           },
           "zerolinecolor": "white",
           "zerolinewidth": 2
          }
         }
        },
        "title": {
         "text": "Average NBA Stats for Given 2K Rating"
        },
        "width": 1000,
        "xaxis": {
         "anchor": "y",
         "domain": [
          0,
          1
         ],
         "title": {
          "text": "Stats"
         }
        },
        "yaxis": {
         "anchor": "x",
         "domain": [
          0,
          1
         ],
         "range": [
          -3.5,
          32
         ],
         "title": {
          "text": "Mean"
         }
        }
       },
       "_model_module_version": "1.5.0",
       "_py2js_addTraces": {},
       "_py2js_animate": {},
       "_py2js_deleteTraces": {},
       "_py2js_moveTraces": {},
       "_py2js_relayout": {},
       "_py2js_removeLayoutProps": {},
       "_py2js_removeTraceProps": {},
       "_py2js_restyle": {},
       "_view_count": 1,
       "_view_module_version": "1.5.0"
      }
     },
     "a003de9dbbd544a8a1aa3b9bd7cd2f99": {
      "model_module": "@jupyter-widgets/controls",
      "model_module_version": "1.5.0",
      "model_name": "VBoxModel",
      "state": {
       "_dom_classes": [
        "widget-interact"
       ],
       "children": [
        "IPY_MODEL_efa90096ae614a59b2a02769163da143",
        "IPY_MODEL_bb4fa6aed795467eb1a5f55115a4016e"
       ],
       "layout": "IPY_MODEL_2ade60c86d024c41b1ab6d3d81d51365"
      }
     },
     "ac1ff2167b34442fa23695af47a354da": {
      "model_module": "@jupyter-widgets/base",
      "model_module_version": "1.2.0",
      "model_name": "LayoutModel",
      "state": {}
     },
     "ae819c6662f9416a8da33653c126b8c3": {
      "model_module": "@jupyter-widgets/controls",
      "model_module_version": "1.5.0",
      "model_name": "VBoxModel",
      "state": {
       "_dom_classes": [
        "widget-interact"
       ],
       "children": [
        "IPY_MODEL_7e7257792fb14a1984279256f5bddf6b",
        "IPY_MODEL_751979d8eda84c1c979f1da015a02a81"
       ],
       "layout": "IPY_MODEL_db38ee80ffa94144ba85a21e726341f2"
      }
     },
     "b651d8c1d52e439ca70f8a276fb9b62a": {
      "model_module": "@jupyter-widgets/controls",
      "model_module_version": "1.5.0",
      "model_name": "IntSliderModel",
      "state": {
       "description": "Ratings",
       "layout": "IPY_MODEL_1043d928352742f28a049594f5bd8464",
       "max": 98,
       "min": 62,
       "style": "IPY_MODEL_e297218f5eec49e2a0462cf1941b857d",
       "value": 75
      }
     },
     "bb4fa6aed795467eb1a5f55115a4016e": {
      "model_module": "@jupyter-widgets/output",
      "model_module_version": "1.0.0",
      "model_name": "OutputModel",
      "state": {
       "layout": "IPY_MODEL_d90989ef2d0f47cc8aafd1cc8d90e43c"
      }
     },
     "bbcd3958f1b8403eb2a4c88a28b231ca": {
      "buffers": [
       {
        "data": "2pN8H6vZIEAvzlmIQisOQE/bCcSsT/s/W6W8GY5f5T+I+ssRKYbaPyIhISEhIfE/siHzOFCt4b8=",
        "encoding": "base64",
        "path": [
         "_data",
         0,
         "text",
         "value"
        ]
       },
       {
        "data": "2pN8H6vZIEAvzlmIQisOQE/bCcSsT/s/W6W8GY5f5T+I+ssRKYbaPyIhISEhIfE/siHzOFCt4b8=",
        "encoding": "base64",
        "path": [
         "_data",
         0,
         "y",
         "value"
        ]
       }
      ],
      "model_module": "plotlywidget",
      "model_module_version": "1.5.0",
      "model_name": "FigureModel",
      "state": {
       "_config": {
        "plotlyServerURL": "https://plot.ly"
       },
       "_data": [
        {
         "alignmentgroup": "True",
         "hoverlabel": {
          "namelength": 0
         },
         "hovertemplate": "Stats=%{x}<br>Mean=%{y}<br>text=%{text}",
         "legendgroup": "",
         "marker": {
          "color": "#636efa"
         },
         "name": "",
         "offsetgroup": "",
         "orientation": "v",
         "showlegend": false,
         "text": {
          "dtype": "float64",
          "shape": [
           7
          ],
          "value": {}
         },
         "textposition": "outside",
         "texttemplate": "%{text:.3g}",
         "type": "bar",
         "uid": "04522faa-d004-4644-83bc-fda70000fc66",
         "x": [
          "PTS",
          "REB",
          "AST",
          "STL",
          "BLK",
          "TOV",
          "+/-"
         ],
         "xaxis": "x",
         "y": {
          "dtype": "float64",
          "shape": [
           7
          ],
          "value": {}
         },
         "yaxis": "y"
        }
       ],
       "_js2py_relayout": {},
       "_js2py_restyle": {},
       "_js2py_update": {},
       "_last_layout_edit_id": 1,
       "_last_trace_edit_id": 1,
       "_layout": {
        "barmode": "relative",
        "height": 600,
        "legend": {
         "tracegroupgap": 0
        },
        "template": {
         "data": {
          "bar": [
           {
            "error_x": {
             "color": "#2a3f5f"
            },
            "error_y": {
             "color": "#2a3f5f"
            },
            "marker": {
             "line": {
              "color": "#E5ECF6",
              "width": 0.5
             }
            },
            "type": "bar"
           }
          ],
          "barpolar": [
           {
            "marker": {
             "line": {
              "color": "#E5ECF6",
              "width": 0.5
             }
            },
            "type": "barpolar"
           }
          ],
          "carpet": [
           {
            "aaxis": {
             "endlinecolor": "#2a3f5f",
             "gridcolor": "white",
             "linecolor": "white",
             "minorgridcolor": "white",
             "startlinecolor": "#2a3f5f"
            },
            "baxis": {
             "endlinecolor": "#2a3f5f",
             "gridcolor": "white",
             "linecolor": "white",
             "minorgridcolor": "white",
             "startlinecolor": "#2a3f5f"
            },
            "type": "carpet"
           }
          ],
          "choropleth": [
           {
            "colorbar": {
             "outlinewidth": 0,
             "ticks": ""
            },
            "type": "choropleth"
           }
          ],
          "contour": [
           {
            "colorbar": {
             "outlinewidth": 0,
             "ticks": ""
            },
            "colorscale": [
             [
              0,
              "#0d0887"
             ],
             [
              0.1111111111111111,
              "#46039f"
             ],
             [
              0.2222222222222222,
              "#7201a8"
             ],
             [
              0.3333333333333333,
              "#9c179e"
             ],
             [
              0.4444444444444444,
              "#bd3786"
             ],
             [
              0.5555555555555556,
              "#d8576b"
             ],
             [
              0.6666666666666666,
              "#ed7953"
             ],
             [
              0.7777777777777778,
              "#fb9f3a"
             ],
             [
              0.8888888888888888,
              "#fdca26"
             ],
             [
              1,
              "#f0f921"
             ]
            ],
            "type": "contour"
           }
          ],
          "contourcarpet": [
           {
            "colorbar": {
             "outlinewidth": 0,
             "ticks": ""
            },
            "type": "contourcarpet"
           }
          ],
          "heatmap": [
           {
            "colorbar": {
             "outlinewidth": 0,
             "ticks": ""
            },
            "colorscale": [
             [
              0,
              "#0d0887"
             ],
             [
              0.1111111111111111,
              "#46039f"
             ],
             [
              0.2222222222222222,
              "#7201a8"
             ],
             [
              0.3333333333333333,
              "#9c179e"
             ],
             [
              0.4444444444444444,
              "#bd3786"
             ],
             [
              0.5555555555555556,
              "#d8576b"
             ],
             [
              0.6666666666666666,
              "#ed7953"
             ],
             [
              0.7777777777777778,
              "#fb9f3a"
             ],
             [
              0.8888888888888888,
              "#fdca26"
             ],
             [
              1,
              "#f0f921"
             ]
            ],
            "type": "heatmap"
           }
          ],
          "heatmapgl": [
           {
            "colorbar": {
             "outlinewidth": 0,
             "ticks": ""
            },
            "colorscale": [
             [
              0,
              "#0d0887"
             ],
             [
              0.1111111111111111,
              "#46039f"
             ],
             [
              0.2222222222222222,
              "#7201a8"
             ],
             [
              0.3333333333333333,
              "#9c179e"
             ],
             [
              0.4444444444444444,
              "#bd3786"
             ],
             [
              0.5555555555555556,
              "#d8576b"
             ],
             [
              0.6666666666666666,
              "#ed7953"
             ],
             [
              0.7777777777777778,
              "#fb9f3a"
             ],
             [
              0.8888888888888888,
              "#fdca26"
             ],
             [
              1,
              "#f0f921"
             ]
            ],
            "type": "heatmapgl"
           }
          ],
          "histogram": [
           {
            "marker": {
             "colorbar": {
              "outlinewidth": 0,
              "ticks": ""
             }
            },
            "type": "histogram"
           }
          ],
          "histogram2d": [
           {
            "colorbar": {
             "outlinewidth": 0,
             "ticks": ""
            },
            "colorscale": [
             [
              0,
              "#0d0887"
             ],
             [
              0.1111111111111111,
              "#46039f"
             ],
             [
              0.2222222222222222,
              "#7201a8"
             ],
             [
              0.3333333333333333,
              "#9c179e"
             ],
             [
              0.4444444444444444,
              "#bd3786"
             ],
             [
              0.5555555555555556,
              "#d8576b"
             ],
             [
              0.6666666666666666,
              "#ed7953"
             ],
             [
              0.7777777777777778,
              "#fb9f3a"
             ],
             [
              0.8888888888888888,
              "#fdca26"
             ],
             [
              1,
              "#f0f921"
             ]
            ],
            "type": "histogram2d"
           }
          ],
          "histogram2dcontour": [
           {
            "colorbar": {
             "outlinewidth": 0,
             "ticks": ""
            },
            "colorscale": [
             [
              0,
              "#0d0887"
             ],
             [
              0.1111111111111111,
              "#46039f"
             ],
             [
              0.2222222222222222,
              "#7201a8"
             ],
             [
              0.3333333333333333,
              "#9c179e"
             ],
             [
              0.4444444444444444,
              "#bd3786"
             ],
             [
              0.5555555555555556,
              "#d8576b"
             ],
             [
              0.6666666666666666,
              "#ed7953"
             ],
             [
              0.7777777777777778,
              "#fb9f3a"
             ],
             [
              0.8888888888888888,
              "#fdca26"
             ],
             [
              1,
              "#f0f921"
             ]
            ],
            "type": "histogram2dcontour"
           }
          ],
          "mesh3d": [
           {
            "colorbar": {
             "outlinewidth": 0,
             "ticks": ""
            },
            "type": "mesh3d"
           }
          ],
          "parcoords": [
           {
            "line": {
             "colorbar": {
              "outlinewidth": 0,
              "ticks": ""
             }
            },
            "type": "parcoords"
           }
          ],
          "pie": [
           {
            "automargin": true,
            "type": "pie"
           }
          ],
          "scatter": [
           {
            "marker": {
             "colorbar": {
              "outlinewidth": 0,
              "ticks": ""
             }
            },
            "type": "scatter"
           }
          ],
          "scatter3d": [
           {
            "line": {
             "colorbar": {
              "outlinewidth": 0,
              "ticks": ""
             }
            },
            "marker": {
             "colorbar": {
              "outlinewidth": 0,
              "ticks": ""
             }
            },
            "type": "scatter3d"
           }
          ],
          "scattercarpet": [
           {
            "marker": {
             "colorbar": {
              "outlinewidth": 0,
              "ticks": ""
             }
            },
            "type": "scattercarpet"
           }
          ],
          "scattergeo": [
           {
            "marker": {
             "colorbar": {
              "outlinewidth": 0,
              "ticks": ""
             }
            },
            "type": "scattergeo"
           }
          ],
          "scattergl": [
           {
            "marker": {
             "colorbar": {
              "outlinewidth": 0,
              "ticks": ""
             }
            },
            "type": "scattergl"
           }
          ],
          "scattermapbox": [
           {
            "marker": {
             "colorbar": {
              "outlinewidth": 0,
              "ticks": ""
             }
            },
            "type": "scattermapbox"
           }
          ],
          "scatterpolar": [
           {
            "marker": {
             "colorbar": {
              "outlinewidth": 0,
              "ticks": ""
             }
            },
            "type": "scatterpolar"
           }
          ],
          "scatterpolargl": [
           {
            "marker": {
             "colorbar": {
              "outlinewidth": 0,
              "ticks": ""
             }
            },
            "type": "scatterpolargl"
           }
          ],
          "scatterternary": [
           {
            "marker": {
             "colorbar": {
              "outlinewidth": 0,
              "ticks": ""
             }
            },
            "type": "scatterternary"
           }
          ],
          "surface": [
           {
            "colorbar": {
             "outlinewidth": 0,
             "ticks": ""
            },
            "colorscale": [
             [
              0,
              "#0d0887"
             ],
             [
              0.1111111111111111,
              "#46039f"
             ],
             [
              0.2222222222222222,
              "#7201a8"
             ],
             [
              0.3333333333333333,
              "#9c179e"
             ],
             [
              0.4444444444444444,
              "#bd3786"
             ],
             [
              0.5555555555555556,
              "#d8576b"
             ],
             [
              0.6666666666666666,
              "#ed7953"
             ],
             [
              0.7777777777777778,
              "#fb9f3a"
             ],
             [
              0.8888888888888888,
              "#fdca26"
             ],
             [
              1,
              "#f0f921"
             ]
            ],
            "type": "surface"
           }
          ],
          "table": [
           {
            "cells": {
             "fill": {
              "color": "#EBF0F8"
             },
             "line": {
              "color": "white"
             }
            },
            "header": {
             "fill": {
              "color": "#C8D4E3"
             },
             "line": {
              "color": "white"
             }
            },
            "type": "table"
           }
          ]
         },
         "layout": {
          "annotationdefaults": {
           "arrowcolor": "#2a3f5f",
           "arrowhead": 0,
           "arrowwidth": 1
          },
          "coloraxis": {
           "colorbar": {
            "outlinewidth": 0,
            "ticks": ""
           }
          },
          "colorscale": {
           "diverging": [
            [
             0,
             "#8e0152"
            ],
            [
             0.1,
             "#c51b7d"
            ],
            [
             0.2,
             "#de77ae"
            ],
            [
             0.3,
             "#f1b6da"
            ],
            [
             0.4,
             "#fde0ef"
            ],
            [
             0.5,
             "#f7f7f7"
            ],
            [
             0.6,
             "#e6f5d0"
            ],
            [
             0.7,
             "#b8e186"
            ],
            [
             0.8,
             "#7fbc41"
            ],
            [
             0.9,
             "#4d9221"
            ],
            [
             1,
             "#276419"
            ]
           ],
           "sequential": [
            [
             0,
             "#0d0887"
            ],
            [
             0.1111111111111111,
             "#46039f"
            ],
            [
             0.2222222222222222,
             "#7201a8"
            ],
            [
             0.3333333333333333,
             "#9c179e"
            ],
            [
             0.4444444444444444,
             "#bd3786"
            ],
            [
             0.5555555555555556,
             "#d8576b"
            ],
            [
             0.6666666666666666,
             "#ed7953"
            ],
            [
             0.7777777777777778,
             "#fb9f3a"
            ],
            [
             0.8888888888888888,
             "#fdca26"
            ],
            [
             1,
             "#f0f921"
            ]
           ],
           "sequentialminus": [
            [
             0,
             "#0d0887"
            ],
            [
             0.1111111111111111,
             "#46039f"
            ],
            [
             0.2222222222222222,
             "#7201a8"
            ],
            [
             0.3333333333333333,
             "#9c179e"
            ],
            [
             0.4444444444444444,
             "#bd3786"
            ],
            [
             0.5555555555555556,
             "#d8576b"
            ],
            [
             0.6666666666666666,
             "#ed7953"
            ],
            [
             0.7777777777777778,
             "#fb9f3a"
            ],
            [
             0.8888888888888888,
             "#fdca26"
            ],
            [
             1,
             "#f0f921"
            ]
           ]
          },
          "colorway": [
           "#636efa",
           "#EF553B",
           "#00cc96",
           "#ab63fa",
           "#FFA15A",
           "#19d3f3",
           "#FF6692",
           "#B6E880",
           "#FF97FF",
           "#FECB52"
          ],
          "font": {
           "color": "#2a3f5f"
          },
          "geo": {
           "bgcolor": "white",
           "lakecolor": "white",
           "landcolor": "#E5ECF6",
           "showlakes": true,
           "showland": true,
           "subunitcolor": "white"
          },
          "hoverlabel": {
           "align": "left"
          },
          "hovermode": "closest",
          "mapbox": {
           "style": "light"
          },
          "paper_bgcolor": "white",
          "plot_bgcolor": "#E5ECF6",
          "polar": {
           "angularaxis": {
            "gridcolor": "white",
            "linecolor": "white",
            "ticks": ""
           },
           "bgcolor": "#E5ECF6",
           "radialaxis": {
            "gridcolor": "white",
            "linecolor": "white",
            "ticks": ""
           }
          },
          "scene": {
           "xaxis": {
            "backgroundcolor": "#E5ECF6",
            "gridcolor": "white",
            "gridwidth": 2,
            "linecolor": "white",
            "showbackground": true,
            "ticks": "",
            "zerolinecolor": "white"
           },
           "yaxis": {
            "backgroundcolor": "#E5ECF6",
            "gridcolor": "white",
            "gridwidth": 2,
            "linecolor": "white",
            "showbackground": true,
            "ticks": "",
            "zerolinecolor": "white"
           },
           "zaxis": {
            "backgroundcolor": "#E5ECF6",
            "gridcolor": "white",
            "gridwidth": 2,
            "linecolor": "white",
            "showbackground": true,
            "ticks": "",
            "zerolinecolor": "white"
           }
          },
          "shapedefaults": {
           "line": {
            "color": "#2a3f5f"
           }
          },
          "ternary": {
           "aaxis": {
            "gridcolor": "white",
            "linecolor": "white",
            "ticks": ""
           },
           "baxis": {
            "gridcolor": "white",
            "linecolor": "white",
            "ticks": ""
           },
           "bgcolor": "#E5ECF6",
           "caxis": {
            "gridcolor": "white",
            "linecolor": "white",
            "ticks": ""
           }
          },
          "title": {
           "x": 0.05
          },
          "xaxis": {
           "automargin": true,
           "gridcolor": "white",
           "linecolor": "white",
           "ticks": "",
           "title": {
            "standoff": 15
           },
           "zerolinecolor": "white",
           "zerolinewidth": 2
          },
          "yaxis": {
           "automargin": true,
           "gridcolor": "white",
           "linecolor": "white",
           "ticks": "",
           "title": {
            "standoff": 15
           },
           "zerolinecolor": "white",
           "zerolinewidth": 2
          }
         }
        },
        "title": {
         "text": "Average NBA Stats for Given 2K Rating"
        },
        "width": 1000,
        "xaxis": {
         "anchor": "y",
         "domain": [
          0,
          1
         ],
         "title": {
          "text": "Stats"
         }
        },
        "yaxis": {
         "anchor": "x",
         "domain": [
          0,
          1
         ],
         "range": [
          -3.5,
          32
         ],
         "title": {
          "text": "Mean"
         }
        }
       },
       "_model_module_version": "1.5.0",
       "_py2js_addTraces": {},
       "_py2js_animate": {},
       "_py2js_deleteTraces": {},
       "_py2js_moveTraces": {},
       "_py2js_relayout": {},
       "_py2js_removeLayoutProps": {},
       "_py2js_removeTraceProps": {},
       "_py2js_restyle": {},
       "_view_count": 1,
       "_view_module_version": "1.5.0"
      }
     },
     "bd16b4c9ceef409dafa399077952b6af": {
      "model_module": "@jupyter-widgets/controls",
      "model_module_version": "1.5.0",
      "model_name": "SliderStyleModel",
      "state": {
       "description_width": ""
      }
     },
     "c2f5b0ba4b1a4c6f86cedb0d68be51be": {
      "buffers": [
       {
        "data": "2pN8H6vZIEAvzlmIQisOQE/bCcSsT/s/W6W8GY5f5T+I+ssRKYbaPyIhISEhIfE/siHzOFCt4b8=",
        "encoding": "base64",
        "path": [
         "_data",
         0,
         "text",
         "value"
        ]
       },
       {
        "data": "2pN8H6vZIEAvzlmIQisOQE/bCcSsT/s/W6W8GY5f5T+I+ssRKYbaPyIhISEhIfE/siHzOFCt4b8=",
        "encoding": "base64",
        "path": [
         "_data",
         0,
         "y",
         "value"
        ]
       }
      ],
      "model_module": "plotlywidget",
      "model_module_version": "1.5.0",
      "model_name": "FigureModel",
      "state": {
       "_config": {
        "plotlyServerURL": "https://plot.ly"
       },
       "_data": [
        {
         "alignmentgroup": "True",
         "hoverlabel": {
          "namelength": 0
         },
         "hovertemplate": "Stats=%{x}<br>Mean=%{y}<br>text=%{text}",
         "legendgroup": "",
         "marker": {
          "color": "#636efa"
         },
         "name": "",
         "offsetgroup": "",
         "orientation": "v",
         "showlegend": false,
         "text": {
          "dtype": "float64",
          "shape": [
           7
          ],
          "value": {}
         },
         "textposition": "outside",
         "texttemplate": "%{text:.3g}",
         "type": "bar",
         "uid": "aa0c33c0-b1d7-46a2-8cf3-2084cafa3f8a",
         "x": [
          "PTS",
          "REB",
          "AST",
          "STL",
          "BLK",
          "TOV",
          "+/-"
         ],
         "xaxis": "x",
         "y": {
          "dtype": "float64",
          "shape": [
           7
          ],
          "value": {}
         },
         "yaxis": "y"
        }
       ],
       "_js2py_pointsCallback": {},
       "_js2py_relayout": {},
       "_js2py_restyle": {},
       "_js2py_update": {},
       "_last_layout_edit_id": 1,
       "_last_trace_edit_id": 1,
       "_layout": {
        "barmode": "relative",
        "height": 600,
        "legend": {
         "tracegroupgap": 0
        },
        "template": {
         "data": {
          "bar": [
           {
            "error_x": {
             "color": "#2a3f5f"
            },
            "error_y": {
             "color": "#2a3f5f"
            },
            "marker": {
             "line": {
              "color": "#E5ECF6",
              "width": 0.5
             }
            },
            "type": "bar"
           }
          ],
          "barpolar": [
           {
            "marker": {
             "line": {
              "color": "#E5ECF6",
              "width": 0.5
             }
            },
            "type": "barpolar"
           }
          ],
          "carpet": [
           {
            "aaxis": {
             "endlinecolor": "#2a3f5f",
             "gridcolor": "white",
             "linecolor": "white",
             "minorgridcolor": "white",
             "startlinecolor": "#2a3f5f"
            },
            "baxis": {
             "endlinecolor": "#2a3f5f",
             "gridcolor": "white",
             "linecolor": "white",
             "minorgridcolor": "white",
             "startlinecolor": "#2a3f5f"
            },
            "type": "carpet"
           }
          ],
          "choropleth": [
           {
            "colorbar": {
             "outlinewidth": 0,
             "ticks": ""
            },
            "type": "choropleth"
           }
          ],
          "contour": [
           {
            "colorbar": {
             "outlinewidth": 0,
             "ticks": ""
            },
            "colorscale": [
             [
              0,
              "#0d0887"
             ],
             [
              0.1111111111111111,
              "#46039f"
             ],
             [
              0.2222222222222222,
              "#7201a8"
             ],
             [
              0.3333333333333333,
              "#9c179e"
             ],
             [
              0.4444444444444444,
              "#bd3786"
             ],
             [
              0.5555555555555556,
              "#d8576b"
             ],
             [
              0.6666666666666666,
              "#ed7953"
             ],
             [
              0.7777777777777778,
              "#fb9f3a"
             ],
             [
              0.8888888888888888,
              "#fdca26"
             ],
             [
              1,
              "#f0f921"
             ]
            ],
            "type": "contour"
           }
          ],
          "contourcarpet": [
           {
            "colorbar": {
             "outlinewidth": 0,
             "ticks": ""
            },
            "type": "contourcarpet"
           }
          ],
          "heatmap": [
           {
            "colorbar": {
             "outlinewidth": 0,
             "ticks": ""
            },
            "colorscale": [
             [
              0,
              "#0d0887"
             ],
             [
              0.1111111111111111,
              "#46039f"
             ],
             [
              0.2222222222222222,
              "#7201a8"
             ],
             [
              0.3333333333333333,
              "#9c179e"
             ],
             [
              0.4444444444444444,
              "#bd3786"
             ],
             [
              0.5555555555555556,
              "#d8576b"
             ],
             [
              0.6666666666666666,
              "#ed7953"
             ],
             [
              0.7777777777777778,
              "#fb9f3a"
             ],
             [
              0.8888888888888888,
              "#fdca26"
             ],
             [
              1,
              "#f0f921"
             ]
            ],
            "type": "heatmap"
           }
          ],
          "heatmapgl": [
           {
            "colorbar": {
             "outlinewidth": 0,
             "ticks": ""
            },
            "colorscale": [
             [
              0,
              "#0d0887"
             ],
             [
              0.1111111111111111,
              "#46039f"
             ],
             [
              0.2222222222222222,
              "#7201a8"
             ],
             [
              0.3333333333333333,
              "#9c179e"
             ],
             [
              0.4444444444444444,
              "#bd3786"
             ],
             [
              0.5555555555555556,
              "#d8576b"
             ],
             [
              0.6666666666666666,
              "#ed7953"
             ],
             [
              0.7777777777777778,
              "#fb9f3a"
             ],
             [
              0.8888888888888888,
              "#fdca26"
             ],
             [
              1,
              "#f0f921"
             ]
            ],
            "type": "heatmapgl"
           }
          ],
          "histogram": [
           {
            "marker": {
             "colorbar": {
              "outlinewidth": 0,
              "ticks": ""
             }
            },
            "type": "histogram"
           }
          ],
          "histogram2d": [
           {
            "colorbar": {
             "outlinewidth": 0,
             "ticks": ""
            },
            "colorscale": [
             [
              0,
              "#0d0887"
             ],
             [
              0.1111111111111111,
              "#46039f"
             ],
             [
              0.2222222222222222,
              "#7201a8"
             ],
             [
              0.3333333333333333,
              "#9c179e"
             ],
             [
              0.4444444444444444,
              "#bd3786"
             ],
             [
              0.5555555555555556,
              "#d8576b"
             ],
             [
              0.6666666666666666,
              "#ed7953"
             ],
             [
              0.7777777777777778,
              "#fb9f3a"
             ],
             [
              0.8888888888888888,
              "#fdca26"
             ],
             [
              1,
              "#f0f921"
             ]
            ],
            "type": "histogram2d"
           }
          ],
          "histogram2dcontour": [
           {
            "colorbar": {
             "outlinewidth": 0,
             "ticks": ""
            },
            "colorscale": [
             [
              0,
              "#0d0887"
             ],
             [
              0.1111111111111111,
              "#46039f"
             ],
             [
              0.2222222222222222,
              "#7201a8"
             ],
             [
              0.3333333333333333,
              "#9c179e"
             ],
             [
              0.4444444444444444,
              "#bd3786"
             ],
             [
              0.5555555555555556,
              "#d8576b"
             ],
             [
              0.6666666666666666,
              "#ed7953"
             ],
             [
              0.7777777777777778,
              "#fb9f3a"
             ],
             [
              0.8888888888888888,
              "#fdca26"
             ],
             [
              1,
              "#f0f921"
             ]
            ],
            "type": "histogram2dcontour"
           }
          ],
          "mesh3d": [
           {
            "colorbar": {
             "outlinewidth": 0,
             "ticks": ""
            },
            "type": "mesh3d"
           }
          ],
          "parcoords": [
           {
            "line": {
             "colorbar": {
              "outlinewidth": 0,
              "ticks": ""
             }
            },
            "type": "parcoords"
           }
          ],
          "pie": [
           {
            "automargin": true,
            "type": "pie"
           }
          ],
          "scatter": [
           {
            "marker": {
             "colorbar": {
              "outlinewidth": 0,
              "ticks": ""
             }
            },
            "type": "scatter"
           }
          ],
          "scatter3d": [
           {
            "line": {
             "colorbar": {
              "outlinewidth": 0,
              "ticks": ""
             }
            },
            "marker": {
             "colorbar": {
              "outlinewidth": 0,
              "ticks": ""
             }
            },
            "type": "scatter3d"
           }
          ],
          "scattercarpet": [
           {
            "marker": {
             "colorbar": {
              "outlinewidth": 0,
              "ticks": ""
             }
            },
            "type": "scattercarpet"
           }
          ],
          "scattergeo": [
           {
            "marker": {
             "colorbar": {
              "outlinewidth": 0,
              "ticks": ""
             }
            },
            "type": "scattergeo"
           }
          ],
          "scattergl": [
           {
            "marker": {
             "colorbar": {
              "outlinewidth": 0,
              "ticks": ""
             }
            },
            "type": "scattergl"
           }
          ],
          "scattermapbox": [
           {
            "marker": {
             "colorbar": {
              "outlinewidth": 0,
              "ticks": ""
             }
            },
            "type": "scattermapbox"
           }
          ],
          "scatterpolar": [
           {
            "marker": {
             "colorbar": {
              "outlinewidth": 0,
              "ticks": ""
             }
            },
            "type": "scatterpolar"
           }
          ],
          "scatterpolargl": [
           {
            "marker": {
             "colorbar": {
              "outlinewidth": 0,
              "ticks": ""
             }
            },
            "type": "scatterpolargl"
           }
          ],
          "scatterternary": [
           {
            "marker": {
             "colorbar": {
              "outlinewidth": 0,
              "ticks": ""
             }
            },
            "type": "scatterternary"
           }
          ],
          "surface": [
           {
            "colorbar": {
             "outlinewidth": 0,
             "ticks": ""
            },
            "colorscale": [
             [
              0,
              "#0d0887"
             ],
             [
              0.1111111111111111,
              "#46039f"
             ],
             [
              0.2222222222222222,
              "#7201a8"
             ],
             [
              0.3333333333333333,
              "#9c179e"
             ],
             [
              0.4444444444444444,
              "#bd3786"
             ],
             [
              0.5555555555555556,
              "#d8576b"
             ],
             [
              0.6666666666666666,
              "#ed7953"
             ],
             [
              0.7777777777777778,
              "#fb9f3a"
             ],
             [
              0.8888888888888888,
              "#fdca26"
             ],
             [
              1,
              "#f0f921"
             ]
            ],
            "type": "surface"
           }
          ],
          "table": [
           {
            "cells": {
             "fill": {
              "color": "#EBF0F8"
             },
             "line": {
              "color": "white"
             }
            },
            "header": {
             "fill": {
              "color": "#C8D4E3"
             },
             "line": {
              "color": "white"
             }
            },
            "type": "table"
           }
          ]
         },
         "layout": {
          "annotationdefaults": {
           "arrowcolor": "#2a3f5f",
           "arrowhead": 0,
           "arrowwidth": 1
          },
          "coloraxis": {
           "colorbar": {
            "outlinewidth": 0,
            "ticks": ""
           }
          },
          "colorscale": {
           "diverging": [
            [
             0,
             "#8e0152"
            ],
            [
             0.1,
             "#c51b7d"
            ],
            [
             0.2,
             "#de77ae"
            ],
            [
             0.3,
             "#f1b6da"
            ],
            [
             0.4,
             "#fde0ef"
            ],
            [
             0.5,
             "#f7f7f7"
            ],
            [
             0.6,
             "#e6f5d0"
            ],
            [
             0.7,
             "#b8e186"
            ],
            [
             0.8,
             "#7fbc41"
            ],
            [
             0.9,
             "#4d9221"
            ],
            [
             1,
             "#276419"
            ]
           ],
           "sequential": [
            [
             0,
             "#0d0887"
            ],
            [
             0.1111111111111111,
             "#46039f"
            ],
            [
             0.2222222222222222,
             "#7201a8"
            ],
            [
             0.3333333333333333,
             "#9c179e"
            ],
            [
             0.4444444444444444,
             "#bd3786"
            ],
            [
             0.5555555555555556,
             "#d8576b"
            ],
            [
             0.6666666666666666,
             "#ed7953"
            ],
            [
             0.7777777777777778,
             "#fb9f3a"
            ],
            [
             0.8888888888888888,
             "#fdca26"
            ],
            [
             1,
             "#f0f921"
            ]
           ],
           "sequentialminus": [
            [
             0,
             "#0d0887"
            ],
            [
             0.1111111111111111,
             "#46039f"
            ],
            [
             0.2222222222222222,
             "#7201a8"
            ],
            [
             0.3333333333333333,
             "#9c179e"
            ],
            [
             0.4444444444444444,
             "#bd3786"
            ],
            [
             0.5555555555555556,
             "#d8576b"
            ],
            [
             0.6666666666666666,
             "#ed7953"
            ],
            [
             0.7777777777777778,
             "#fb9f3a"
            ],
            [
             0.8888888888888888,
             "#fdca26"
            ],
            [
             1,
             "#f0f921"
            ]
           ]
          },
          "colorway": [
           "#636efa",
           "#EF553B",
           "#00cc96",
           "#ab63fa",
           "#FFA15A",
           "#19d3f3",
           "#FF6692",
           "#B6E880",
           "#FF97FF",
           "#FECB52"
          ],
          "font": {
           "color": "#2a3f5f"
          },
          "geo": {
           "bgcolor": "white",
           "lakecolor": "white",
           "landcolor": "#E5ECF6",
           "showlakes": true,
           "showland": true,
           "subunitcolor": "white"
          },
          "hoverlabel": {
           "align": "left"
          },
          "hovermode": "closest",
          "mapbox": {
           "style": "light"
          },
          "paper_bgcolor": "white",
          "plot_bgcolor": "#E5ECF6",
          "polar": {
           "angularaxis": {
            "gridcolor": "white",
            "linecolor": "white",
            "ticks": ""
           },
           "bgcolor": "#E5ECF6",
           "radialaxis": {
            "gridcolor": "white",
            "linecolor": "white",
            "ticks": ""
           }
          },
          "scene": {
           "xaxis": {
            "backgroundcolor": "#E5ECF6",
            "gridcolor": "white",
            "gridwidth": 2,
            "linecolor": "white",
            "showbackground": true,
            "ticks": "",
            "zerolinecolor": "white"
           },
           "yaxis": {
            "backgroundcolor": "#E5ECF6",
            "gridcolor": "white",
            "gridwidth": 2,
            "linecolor": "white",
            "showbackground": true,
            "ticks": "",
            "zerolinecolor": "white"
           },
           "zaxis": {
            "backgroundcolor": "#E5ECF6",
            "gridcolor": "white",
            "gridwidth": 2,
            "linecolor": "white",
            "showbackground": true,
            "ticks": "",
            "zerolinecolor": "white"
           }
          },
          "shapedefaults": {
           "line": {
            "color": "#2a3f5f"
           }
          },
          "ternary": {
           "aaxis": {
            "gridcolor": "white",
            "linecolor": "white",
            "ticks": ""
           },
           "baxis": {
            "gridcolor": "white",
            "linecolor": "white",
            "ticks": ""
           },
           "bgcolor": "#E5ECF6",
           "caxis": {
            "gridcolor": "white",
            "linecolor": "white",
            "ticks": ""
           }
          },
          "title": {
           "x": 0.05
          },
          "xaxis": {
           "automargin": true,
           "gridcolor": "white",
           "linecolor": "white",
           "ticks": "",
           "title": {
            "standoff": 15
           },
           "zerolinecolor": "white",
           "zerolinewidth": 2
          },
          "yaxis": {
           "automargin": true,
           "gridcolor": "white",
           "linecolor": "white",
           "ticks": "",
           "title": {
            "standoff": 15
           },
           "zerolinecolor": "white",
           "zerolinewidth": 2
          }
         }
        },
        "title": {
         "text": "Average NBA Stats for Given 2K Rating"
        },
        "width": 1000,
        "xaxis": {
         "anchor": "y",
         "domain": [
          0,
          1
         ],
         "title": {
          "text": "Stats"
         }
        },
        "yaxis": {
         "anchor": "x",
         "domain": [
          0,
          1
         ],
         "range": [
          -3.5,
          32
         ],
         "title": {
          "text": "Mean"
         }
        }
       },
       "_model_module_version": "1.5.0",
       "_py2js_addTraces": {},
       "_py2js_animate": {},
       "_py2js_deleteTraces": {},
       "_py2js_moveTraces": {},
       "_py2js_relayout": {},
       "_py2js_removeLayoutProps": {},
       "_py2js_removeTraceProps": {},
       "_py2js_restyle": {},
       "_view_count": 0,
       "_view_module_version": "1.5.0"
      }
     },
     "cc2a40e5934347fd8b2065f05314b525": {
      "model_module": "@jupyter-widgets/base",
      "model_module_version": "1.2.0",
      "model_name": "LayoutModel",
      "state": {}
     },
     "d281294894c042d4b6530b9c5499387d": {
      "model_module": "@jupyter-widgets/base",
      "model_module_version": "1.2.0",
      "model_name": "LayoutModel",
      "state": {}
     },
     "d38068657ff14ce39ed84a0addd74a8c": {
      "model_module": "@jupyter-widgets/base",
      "model_module_version": "1.2.0",
      "model_name": "LayoutModel",
      "state": {
       "height": "80px",
       "width": "50%"
      }
     },
     "d90989ef2d0f47cc8aafd1cc8d90e43c": {
      "model_module": "@jupyter-widgets/base",
      "model_module_version": "1.2.0",
      "model_name": "LayoutModel",
      "state": {}
     },
     "db38ee80ffa94144ba85a21e726341f2": {
      "model_module": "@jupyter-widgets/base",
      "model_module_version": "1.2.0",
      "model_name": "LayoutModel",
      "state": {}
     },
     "deac3d6402e94e6eaf439393ee484f5d": {
      "model_module": "@jupyter-widgets/controls",
      "model_module_version": "1.5.0",
      "model_name": "VBoxModel",
      "state": {
       "children": [
        "IPY_MODEL_51e394f8dc4248b797b51878a61e23f3",
        "IPY_MODEL_f3e6b9a1fc9b451b95d5aac085eafaf8"
       ],
       "layout": "IPY_MODEL_ac1ff2167b34442fa23695af47a354da"
      }
     },
     "e297218f5eec49e2a0462cf1941b857d": {
      "model_module": "@jupyter-widgets/controls",
      "model_module_version": "1.5.0",
      "model_name": "SliderStyleModel",
      "state": {
       "description_width": ""
      }
     },
     "e6000c79b7e44d3ab2484f993de20d87": {
      "model_module": "@jupyter-widgets/base",
      "model_module_version": "1.2.0",
      "model_name": "LayoutModel",
      "state": {}
     },
     "ee2a6fa7c6c747f4a2f1195c249eb0bb": {
      "model_module": "@jupyter-widgets/base",
      "model_module_version": "1.2.0",
      "model_name": "LayoutModel",
      "state": {
       "height": "80px",
       "width": "50%"
      }
     },
     "ef92df1157fe42528e28c21a7d30eed6": {
      "model_module": "@jupyter-widgets/controls",
      "model_module_version": "1.5.0",
      "model_name": "SliderStyleModel",
      "state": {
       "description_width": ""
      }
     },
     "efa90096ae614a59b2a02769163da143": {
      "model_module": "@jupyter-widgets/controls",
      "model_module_version": "1.5.0",
      "model_name": "IntSliderModel",
      "state": {
       "description": "Ratings",
       "layout": "IPY_MODEL_d38068657ff14ce39ed84a0addd74a8c",
       "max": 98,
       "min": 62,
       "style": "IPY_MODEL_bd16b4c9ceef409dafa399077952b6af",
       "value": 75
      }
     },
     "f102c27c30ee4532bb431fdcf0a3c4d1": {
      "model_module": "@jupyter-widgets/output",
      "model_module_version": "1.0.0",
      "model_name": "OutputModel",
      "state": {
       "layout": "IPY_MODEL_d281294894c042d4b6530b9c5499387d"
      }
     },
     "f3e6b9a1fc9b451b95d5aac085eafaf8": {
      "model_module": "@jupyter-widgets/controls",
      "model_module_version": "1.5.0",
      "model_name": "VBoxModel",
      "state": {
       "_dom_classes": [
        "widget-interact"
       ],
       "children": [
        "IPY_MODEL_6ed3ecccab814cff97b3d10661d237c6",
        "IPY_MODEL_66cfdda5e9b04c5da561a2e41a9e2a34"
       ],
       "layout": "IPY_MODEL_cc2a40e5934347fd8b2065f05314b525"
      }
     },
     "f67d257117d847b4ac16867bc6b21226": {
      "model_module": "@jupyter-widgets/controls",
      "model_module_version": "1.5.0",
      "model_name": "VBoxModel",
      "state": {
       "children": [
        "IPY_MODEL_bbcd3958f1b8403eb2a4c88a28b231ca",
        "IPY_MODEL_35c64bc304de425d9fbcf49c48bb5c33"
       ],
       "layout": "IPY_MODEL_451d89792a6b4f6b8c628dfa4727ce64"
      }
     },
     "fa088f117b804b3f9720ce610c99cd35": {
      "model_module": "@jupyter-widgets/base",
      "model_module_version": "1.2.0",
      "model_name": "LayoutModel",
      "state": {}
     },
     "fe73581aa84c4a048d066675580bf48e": {
      "model_module": "@jupyter-widgets/base",
      "model_module_version": "1.2.0",
      "model_name": "LayoutModel",
      "state": {}
     }
    },
    "version_major": 2,
    "version_minor": 0
   }
  }
 },
 "nbformat": 4,
 "nbformat_minor": 4
}
